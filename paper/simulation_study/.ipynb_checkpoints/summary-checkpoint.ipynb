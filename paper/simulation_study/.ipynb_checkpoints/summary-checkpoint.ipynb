{
 "cells": [
  {
   "cell_type": "code",
   "execution_count": 1,
   "id": "90eb18f4",
   "metadata": {
    "ExecuteTime": {
     "end_time": "2022-11-09T11:12:18.921915Z",
     "start_time": "2022-11-09T11:12:10.981160Z"
    }
   },
   "outputs": [],
   "source": [
    "import os, sys\n",
    "import collections\n",
    "import numpy as np\n",
    "from scipy.special import logsumexp\n",
    "import matplotlib.markers as markers\n",
    "import matplotlib.pyplot as plt\n",
    "import seaborn as sns\n",
    "\n",
    "sns.set_style(\"ticks\")\n",
    "import timeit\n",
    "from scipy.stats import median_abs_deviation as mad\n",
    "import pandas as pd\n",
    "import multiprocessing\n",
    "import cProfile\n",
    "import itertools\n",
    "import warnings\n",
    "\n",
    "warnings.filterwarnings('ignore')  # this is just to hide all the warnings\n",
    "\n",
    "import matplotlib.pyplot as plt  # change font globally to Times\n",
    "\n",
    "plt.style.use('ggplot')\n",
    "plt.rcParams.update({\n",
    "    \"text.usetex\": True,\n",
    "    \"font.family\": \"Times New Roman\",\n",
    "    \"font.sans-serif\": [\"Times New Roman\"],\n",
    "    \"font.size\": 12\n",
    "})\n",
    "\n",
    "os.chdir(sys.path[0])  # ensure working direcotry is set same as the file"
   ]
  },
  {
   "cell_type": "code",
   "execution_count": 2,
   "id": "7d4ac541",
   "metadata": {
    "ExecuteTime": {
     "end_time": "2022-11-09T11:12:18.929914Z",
     "start_time": "2022-11-09T11:12:18.924775Z"
    }
   },
   "outputs": [],
   "source": [
    "def pasta(a, b):\n",
    "    '''\n",
    "    A function that pastes the results all together.\n",
    "    '''\n",
    "    c = a.astype(str).copy()\n",
    "    c = np.char.add(c, np.array([\" (\"] * a.size).reshape(a.shape))\n",
    "    c = np.char.add(c, b.astype(str))\n",
    "    c = np.char.add(c, np.array([\")\"] * a.size).reshape(a.shape))\n",
    "    return c"
   ]
  },
  {
   "cell_type": "markdown",
   "id": "7f38020b",
   "metadata": {},
   "source": [
    "# LM -- Speed\n",
    "## Iterations required to make same amount of descent\n",
    "### SCAD"
   ]
  },
  {
   "cell_type": "code",
   "execution_count": 3,
   "id": "225e61e9",
   "metadata": {
    "ExecuteTime": {
     "end_time": "2022-11-09T11:12:18.945093Z",
     "start_time": "2022-11-09T11:12:18.935854Z"
    }
   },
   "outputs": [
    {
     "name": "stdout",
     "output_type": "stream",
     "text": [
      "Median:\n",
      "AG:  [[  9.  14.  23.  26.]\n",
      " [ 11.  18.  32.  50.]\n",
      " [ 37.  72. 172. 432.]]\n",
      "proximal gradient:  [[  11.    26.    68.    93.5]\n",
      " [  21.    38.   116.   308. ]\n",
      " [ 104.   362.  2012.5    inf]]\n",
      "original settings:  [[ 15.  23.  38.  41.]\n",
      " [ 19.  30.  51.  76.]\n",
      " [ 60. 111. 260. 657.]]\n",
      "Scaled MAD: \n",
      "AG:  [[ 1.483  0.     1.483  1.483]\n",
      " [ 1.483  0.     1.483  1.483]\n",
      " [ 1.483  2.965  8.154 25.204]]\n",
      "proximal gradinet:  [[ 4.448  1.483  5.93   6.672]\n",
      " [ 7.413  2.224  6.672 19.274]\n",
      " [ 7.413 19.274 88.215    nan]]\n",
      "original settings:  [[ 1.483  1.483  1.483  1.483]\n",
      " [ 1.483  1.483  1.483  2.965]\n",
      " [ 2.965  4.448 11.861 37.065]]\n"
     ]
    }
   ],
   "source": [
    "SCAD_sim_results = np.load(\"./tasks/task1speed/SCAD_sim_results.npy\")\n",
    "\n",
    "SCAD_sim_results_mean = np.around(np.median(SCAD_sim_results, 2), 3)\n",
    "print(\"Median:\")\n",
    "print(\"AG: \", SCAD_sim_results_mean[..., 0])\n",
    "print(\"proximal gradient: \", SCAD_sim_results_mean[..., 1])\n",
    "print(\"original settings: \", SCAD_sim_results_mean[..., 2])\n",
    "SCAD_sim_results_se = np.around(mad(SCAD_sim_results, 2) * 1.4826, 3)\n",
    "print(\"Scaled MAD: \")\n",
    "print(\"AG: \", SCAD_sim_results_se[..., 0])\n",
    "print(\"proximal gradinet: \", SCAD_sim_results_se[..., 1])\n",
    "print(\"original settings: \", SCAD_sim_results_se[..., 2])\n",
    "\n",
    "LM_SCAD_iterations_latex = pasta(SCAD_sim_results_mean, SCAD_sim_results_se)"
   ]
  },
  {
   "cell_type": "code",
   "execution_count": 4,
   "id": "8f0ea744",
   "metadata": {
    "ExecuteTime": {
     "end_time": "2022-11-09T11:12:23.065420Z",
     "start_time": "2022-11-09T11:12:18.946176Z"
    }
   },
   "outputs": [
    {
     "name": "stderr",
     "output_type": "stream",
     "text": [
      "The PostScript backend does not support transparency; partially transparent artists will be rendered opaque.\n"
     ]
    },
    {
     "data": {
      "image/png": "[encoded data removed]",
      "text/plain": [
       "<Figure size 640x480 with 12 Axes>"
      ]
     },
     "metadata": {},
     "output_type": "display_data"
    }
   ],
   "source": [
    "fig, axes = plt.subplots(3, 4)\n",
    "\n",
    "tau = np.array([.1, .5, .9])\n",
    "N = np.array([200, 500, 1000, 3000])\n",
    "\n",
    "for i, j in itertools.product(range(3), range(4)):\n",
    "    df = pd.DataFrame(columns=[\n",
    "        'AG with suggested settings', 'proximal gradient',\n",
    "        'AG with orginal settings'\n",
    "    ],\n",
    "                      data=SCAD_sim_results[i, j, :, :3])\n",
    "    df_melted = pd.melt(df,\n",
    "                        id_vars=[],\n",
    "                        value_vars=[\n",
    "                            'AG with suggested settings',\n",
    "                            'AG with orginal settings', 'proximal gradient'\n",
    "                        ],\n",
    "                        var_name='method',\n",
    "                        value_name='k')\n",
    "    #     sns.boxplot(ax=axes[i, j], data=df_melted, x=\"method\", y=\"k\", hue=\"method\", showfliers = False)#.set_title(r'$\\tau=$'+str(tau[i])+'$, N=$'+str(N[j]))\n",
    "    sns.barplot(ax=axes[i, j],\n",
    "                data=df_melted,\n",
    "                x=\"method\",\n",
    "                y=\"k\",\n",
    "                hue=\"method\",\n",
    "                estimator=np.median,\n",
    "                ci=95,\n",
    "                dodge=False)  #, palette = \"Greys\")\n",
    "    if i == 2 and j != 0:\n",
    "        axes[i, j].set(xticklabels=[], xlabel=r\"$n=$\" + str(N[j]),\n",
    "                       ylabel=None)  # yticklabels=[] to remove y scales\n",
    "    if j == 0 and i != 2:\n",
    "        axes[i, j].set(xticklabels=[],\n",
    "                       xlabel=None,\n",
    "                       ylabel=r\"$\\tau=$\" + str(tau[i]))\n",
    "    axes[2, 0].set(xticklabels=[],\n",
    "                   xlabel=r\"$n=$\" + str(N[0]),\n",
    "                   ylabel=r\"$\\tau=$\" + str(tau[2]))\n",
    "    if i != 2 and j != 0:\n",
    "        axes[i, j].set(xticklabels=[], xlabel=None, ylabel=None)\n",
    "\n",
    "    axes[i, j].get_legend().remove()\n",
    "\n",
    "handles, labels = axes[0, 0].get_legend_handles_labels()\n",
    "fig.legend(handles,\n",
    "           labels,\n",
    "           loc='upper left',\n",
    "           ncol=3,\n",
    "           bbox_to_anchor=(-.05, 1.1))\n",
    "plt.subplots_adjust(left=None,\n",
    "                    bottom=None,\n",
    "                    right=None,\n",
    "                    top=None,\n",
    "                    wspace=.4,\n",
    "                    hspace=None)\n",
    "\n",
    "#plt.tight_layout()\n",
    "plt.savefig('LM-fig_k_SCAD.eps', format='eps', dpi=600, bbox_inches='tight')\n",
    "plt.show()"
   ]
  },
  {
   "cell_type": "markdown",
   "id": "b0a7d23f",
   "metadata": {},
   "source": [
    "### MCP"
   ]
  },
  {
   "cell_type": "code",
   "execution_count": 5,
   "id": "ce99e1b7",
   "metadata": {
    "ExecuteTime": {
     "end_time": "2022-11-09T11:12:23.070533Z",
     "start_time": "2022-11-09T11:12:23.066298Z"
    }
   },
   "outputs": [
    {
     "name": "stdout",
     "output_type": "stream",
     "text": [
      "Median:\n",
      "AG:  [[  6.   10.   17.   25. ]\n",
      " [ 10.   15.   26.   48. ]\n",
      " [ 31.   68.  152.  428.5]]\n",
      "proximal gradient:  [[   7.    16.    48.    90. ]\n",
      " [  12.    28.    94.   289.5]\n",
      " [  82.   345.  1897.5    inf]]\n",
      "original settings:  [[  9.   18.   29.   40. ]\n",
      " [ 17.   26.   42.   74.5]\n",
      " [ 50.  104.  226.5 657. ]]\n",
      "Scaled MAD: \n",
      "AG:  [[ 1.483  0.     0.     1.483]\n",
      " [ 1.483  0.741  1.483  1.483]\n",
      " [ 1.483  2.965  7.413 24.463]]\n",
      "proximal gradient:  [[ 1.483  0.     2.965  5.93 ]\n",
      " [ 2.965  1.483  5.93  17.05 ]\n",
      " [ 5.93  19.274 85.991    nan]]\n",
      "original settings:  [[ 0.     1.483  1.483  1.483]\n",
      " [ 1.483  1.483  1.483  2.224]\n",
      " [ 1.483  3.706 10.378 37.065]]\n"
     ]
    }
   ],
   "source": [
    "MCP_sim_results = np.load(\"./tasks/task1speed/MCP_sim_results.npy\")\n",
    "\n",
    "MCP_sim_results_mean = np.around(np.median(MCP_sim_results, 2), 3)\n",
    "print(\"Median:\")\n",
    "print(\"AG: \", MCP_sim_results_mean[..., 0])\n",
    "print(\"proximal gradient: \", MCP_sim_results_mean[..., 1])\n",
    "print(\"original settings: \", MCP_sim_results_mean[..., 2])\n",
    "MCP_sim_results_se = np.around(mad(MCP_sim_results, 2) * 1.4826, 3)\n",
    "print(\"Scaled MAD: \")\n",
    "print(\"AG: \", MCP_sim_results_se[..., 0])\n",
    "print(\"proximal gradient: \", MCP_sim_results_se[..., 1])\n",
    "print(\"original settings: \", MCP_sim_results_se[..., 2])\n",
    "\n",
    "LM_MCP_iterations_latex = pasta(MCP_sim_results_mean, MCP_sim_results_se)"
   ]
  },
  {
   "cell_type": "code",
   "execution_count": 6,
   "id": "d3f96e64",
   "metadata": {
    "ExecuteTime": {
     "end_time": "2022-11-09T11:12:24.871097Z",
     "start_time": "2022-11-09T11:12:23.071327Z"
    }
   },
   "outputs": [
    {
     "name": "stderr",
     "output_type": "stream",
     "text": [
      "The PostScript backend does not support transparency; partially transparent artists will be rendered opaque.\n"
     ]
    },
    {
     "data": {
      "image/png": "[encoded data removed]",
      "text/plain": [
       "<Figure size 640x480 with 12 Axes>"
      ]
     },
     "metadata": {},
     "output_type": "display_data"
    }
   ],
   "source": [
    "fig, axes = plt.subplots(3, 4)\n",
    "\n",
    "tau = np.array([.1, .5, .9])\n",
    "N = np.array([200, 500, 1000, 3000])\n",
    "\n",
    "for i, j in itertools.product(range(3), range(4)):\n",
    "    df = pd.DataFrame(columns=[\n",
    "        'AG with suggested settings', 'proximal gradient',\n",
    "        'AG with orginal settings'\n",
    "    ],\n",
    "                      data=MCP_sim_results[i, j, :, :3])\n",
    "    df_melted = pd.melt(df,\n",
    "                        id_vars=[],\n",
    "                        value_vars=[\n",
    "                            'AG with suggested settings',\n",
    "                            'AG with orginal settings', 'proximal gradient'\n",
    "                        ],\n",
    "                        var_name='method',\n",
    "                        value_name='k')\n",
    "    #     sns.boxplot(ax=axes[i, j], data=df_melted, x=\"method\", y=\"k\", hue=\"method\", showfliers = False)#.set_title(r'$\\tau=$'+str(tau[i])+'$, N=$'+str(N[j]))\n",
    "    sns.barplot(ax=axes[i, j],\n",
    "                data=df_melted,\n",
    "                x=\"method\",\n",
    "                y=\"k\",\n",
    "                hue=\"method\",\n",
    "                estimator=np.median,\n",
    "                ci=95,\n",
    "                dodge=False)  #, palette = \"Greys\")\n",
    "    if i == 2 and j != 0:\n",
    "        axes[i, j].set(xticklabels=[], xlabel=r\"$n=$\" + str(N[j]),\n",
    "                       ylabel=None)  # yticklabels=[] to remove y scales\n",
    "    if j == 0 and i != 2:\n",
    "        axes[i, j].set(xticklabels=[],\n",
    "                       xlabel=None,\n",
    "                       ylabel=r\"$\\tau=$\" + str(tau[i]))\n",
    "    axes[2, 0].set(xticklabels=[],\n",
    "                   xlabel=r\"$n=$\" + str(N[0]),\n",
    "                   ylabel=r\"$\\tau=$\" + str(tau[2]))\n",
    "    if i != 2 and j != 0:\n",
    "        axes[i, j].set(xticklabels=[], xlabel=None, ylabel=None)\n",
    "\n",
    "    axes[i, j].get_legend().remove()\n",
    "\n",
    "handles, labels = axes[0, 0].get_legend_handles_labels()\n",
    "fig.legend(handles,\n",
    "           labels,\n",
    "           loc='upper left',\n",
    "           ncol=3,\n",
    "           bbox_to_anchor=(-.05, 1.1))\n",
    "plt.subplots_adjust(left=None,\n",
    "                    bottom=None,\n",
    "                    right=None,\n",
    "                    top=None,\n",
    "                    wspace=.4,\n",
    "                    hspace=None)\n",
    "\n",
    "#plt.tight_layout()\n",
    "plt.savefig('LM-fig_k_MCP.eps', format='eps', dpi=600, bbox_inches='tight')\n",
    "plt.show()"
   ]
  },
  {
   "cell_type": "markdown",
   "id": "4b3fec2a",
   "metadata": {},
   "source": [
    "## Computing time\n",
    "### SCAD"
   ]
  },
  {
   "cell_type": "code",
   "execution_count": 7,
   "id": "1efd3bc9",
   "metadata": {
    "ExecuteTime": {
     "end_time": "2022-11-09T11:12:26.705210Z",
     "start_time": "2022-11-09T11:12:24.872205Z"
    }
   },
   "outputs": [
    {
     "name": "stdout",
     "output_type": "stream",
     "text": [
      "Median:\n",
      "AG:  [[ 0.373  0.534  1.362  1.922]\n",
      " [ 0.448  0.606  1.54   1.809]\n",
      " [ 0.952  2.563  7.63  12.048]]\n",
      "proximal gradient:  [[ 0.956  1.175  1.855 10.198]\n",
      " [ 1.269  1.392  2.318  6.392]\n",
      " [ 2.874  3.431  9.864 10.146]]\n",
      "coordinate descent:  [[  15.55    17.444   28.8    113.09 ]\n",
      " [  16.402   17.604   42.126  192.064]\n",
      " [  18.725   50.399  217.842 1071.519]]\n",
      "Scaled MAD: \n",
      "AG:  [[0.088 0.117 0.222 0.572]\n",
      " [0.078 0.11  0.142 0.225]\n",
      " [0.131 0.11  0.317 0.076]]\n",
      "proximal gradient:  [[0.253 0.42  0.53  0.274]\n",
      " [0.265 0.451 0.462 1.942]\n",
      " [0.728 0.693 0.053 0.05 ]]\n",
      "coordinate descent:  [[ 1.569  2.73   2.115  4.57 ]\n",
      " [ 2.618  2.794  1.485  7.518]\n",
      " [ 4.359  1.299  9.    46.651]]\n"
     ]
    },
    {
     "name": "stderr",
     "output_type": "stream",
     "text": [
      "The PostScript backend does not support transparency; partially transparent artists will be rendered opaque.\n"
     ]
    },
    {
     "data": {
      "image/png": "[encoded data removed]",
      "text/plain": [
       "<Figure size 640x480 with 12 Axes>"
      ]
     },
     "metadata": {},
     "output_type": "display_data"
    }
   ],
   "source": [
    "SCAD_sim_results = np.load(\"./tasks/task1speed/SCAD_sim_results.npy\")\n",
    "\n",
    "SCAD_sim_results_mean = np.around(np.median(SCAD_sim_results, 2), 3)\n",
    "print(\"Median:\")\n",
    "print(\"AG: \", SCAD_sim_results_mean[..., 3])\n",
    "print(\"proximal gradient: \", SCAD_sim_results_mean[..., 4])\n",
    "print(\"coordinate descent: \", SCAD_sim_results_mean[..., 5])\n",
    "SCAD_sim_results_se = np.around(mad(SCAD_sim_results, 2) * 1.4826, 3)\n",
    "print(\"Scaled MAD: \")\n",
    "print(\"AG: \", SCAD_sim_results_se[..., 3])\n",
    "print(\"proximal gradient: \", SCAD_sim_results_se[..., 4])\n",
    "print(\"coordinate descent: \", SCAD_sim_results_se[..., 5])\n",
    "\n",
    "fig, axes = plt.subplots(3, 4)\n",
    "\n",
    "tau = np.array([.1, .5, .9])\n",
    "N = np.array([200, 500, 1000, 3000])\n",
    "\n",
    "for i, j in itertools.product(range(3), range(4)):\n",
    "    df = pd.DataFrame(columns=[\n",
    "        'AG with suggested settings', 'proximal gradient', 'coordinate descent'\n",
    "    ],\n",
    "                      data=SCAD_sim_results[i, j, :, 3:])\n",
    "    df_melted = pd.melt(df,\n",
    "                        id_vars=[],\n",
    "                        value_vars=[\n",
    "                            'AG with suggested settings', 'proximal gradient',\n",
    "                            'coordinate descent'\n",
    "                        ],\n",
    "                        var_name='method',\n",
    "                        value_name='k')\n",
    "    #     sns.boxplot(ax=axes[i, j], data=df_melted, x=\"method\", y=\"k\", hue=\"method\", showfliers = False)#.set_title(r'$\\tau=$'+str(tau[i])+'$, N=$'+str(N[j]))\n",
    "    sns.barplot(ax=axes[i, j],\n",
    "                data=df_melted,\n",
    "                x=\"method\",\n",
    "                y=\"k\",\n",
    "                hue=\"method\",\n",
    "                estimator=np.median,\n",
    "                ci=95,\n",
    "                dodge=False)  #, palette = \"Greys\")\n",
    "    if i == 2 and j != 0:\n",
    "        axes[i, j].set(xticklabels=[], xlabel=r\"$n=$\" + str(N[j]),\n",
    "                       ylabel=None)  # yticklabels=[] to remove y scales\n",
    "    if j == 0 and i != 2:\n",
    "        axes[i, j].set(xticklabels=[],\n",
    "                       xlabel=None,\n",
    "                       ylabel=r\"$\\tau=$\" + str(tau[i]))\n",
    "    axes[2, 0].set(xticklabels=[],\n",
    "                   xlabel=r\"$n=$\" + str(N[0]),\n",
    "                   ylabel=r\"$\\tau=$\" + str(tau[2]))\n",
    "    if i != 2 and j != 0:\n",
    "        axes[i, j].set(xticklabels=[], xlabel=None, ylabel=None)\n",
    "\n",
    "    axes[i, j].get_legend().remove()\n",
    "\n",
    "handles, labels = axes[0, 0].get_legend_handles_labels()\n",
    "fig.legend(handles,\n",
    "           labels,\n",
    "           loc='upper left',\n",
    "           ncol=3,\n",
    "           bbox_to_anchor=(-.05, 1.1))\n",
    "plt.subplots_adjust(left=None,\n",
    "                    bottom=None,\n",
    "                    right=None,\n",
    "                    top=None,\n",
    "                    wspace=.4,\n",
    "                    hspace=None)\n",
    "\n",
    "#plt.tight_layout()\n",
    "plt.savefig('LM-time_SCAD.eps', format='eps', dpi=600, bbox_inches='tight')\n",
    "plt.show()\n",
    "\n",
    "LM_SCAD_computing_time_latex = pasta(SCAD_sim_results_mean,\n",
    "                                     SCAD_sim_results_se)"
   ]
  },
  {
   "cell_type": "markdown",
   "id": "bacdbe94",
   "metadata": {},
   "source": [
    "### MCP"
   ]
  },
  {
   "cell_type": "code",
   "execution_count": 8,
   "id": "6d7593f7",
   "metadata": {
    "ExecuteTime": {
     "end_time": "2022-11-09T11:12:28.484745Z",
     "start_time": "2022-11-09T11:12:26.706471Z"
    }
   },
   "outputs": [
    {
     "name": "stdout",
     "output_type": "stream",
     "text": [
      "Median:\n",
      "AG:  [[ 0.288  0.403  0.873  1.506]\n",
      " [ 0.343  0.475  1.084  1.613]\n",
      " [ 0.767  2.085  6.23  10.256]]\n",
      "proximal gradient:  [[0.723 0.884 1.286 7.583]\n",
      " [0.994 1.074 1.547 5.523]\n",
      " [2.331 2.656 8.191 8.41 ]]\n",
      "coordinate descent:  [[ 13.549  15.074  24.001  94.465]\n",
      " [ 14.45   15.289  35.291 159.981]\n",
      " [ 16.17   41.568 181.614 882.174]]\n",
      "Scaled MAD: \n",
      "AG:  [[0.048 0.099 0.118 0.514]\n",
      " [0.076 0.095 0.056 0.182]\n",
      " [0.098 0.09  0.25  0.032]]\n",
      "prximal gradient:  [[0.194 0.271 0.344 1.401]\n",
      " [0.23  0.271 0.391 1.529]\n",
      " [0.518 0.465 0.033 0.03 ]]\n",
      "coordinate descent:  [[ 2.414  2.496  2.215  3.67 ]\n",
      " [ 2.985  3.673  1.39   6.67 ]\n",
      " [ 2.429  1.608  7.891 37.62 ]]\n"
     ]
    },
    {
     "name": "stderr",
     "output_type": "stream",
     "text": [
      "The PostScript backend does not support transparency; partially transparent artists will be rendered opaque.\n"
     ]
    },
    {
     "data": {
      "image/png": "[encoded data removed]",
      "text/plain": [
       "<Figure size 640x480 with 12 Axes>"
      ]
     },
     "metadata": {},
     "output_type": "display_data"
    }
   ],
   "source": [
    "MCP_sim_results = np.load(\"./tasks/task1speed/MCP_sim_results.npy\")\n",
    "\n",
    "MCP_sim_results_mean = np.around(np.median(MCP_sim_results, 2), 3)\n",
    "print(\"Median:\")\n",
    "print(\"AG: \", MCP_sim_results_mean[..., 3])\n",
    "print(\"proximal gradient: \", MCP_sim_results_mean[..., 4])\n",
    "print(\"coordinate descent: \", MCP_sim_results_mean[..., 5])\n",
    "MCP_sim_results_se = np.around(mad(MCP_sim_results, 2) * 1.4826, 3)\n",
    "print(\"Scaled MAD: \")\n",
    "print(\"AG: \", MCP_sim_results_se[..., 3])\n",
    "print(\"prximal gradient: \", MCP_sim_results_se[..., 4])\n",
    "print(\"coordinate descent: \", MCP_sim_results_se[..., 5])\n",
    "\n",
    "fig, axes = plt.subplots(3, 4)\n",
    "\n",
    "tau = np.array([.1, .5, .9])\n",
    "N = np.array([200, 500, 1000, 3000])\n",
    "\n",
    "for i, j in itertools.product(range(3), range(4)):\n",
    "    df = pd.DataFrame(columns=[\n",
    "        'AG with suggested settings', 'proximal gradient', 'coordinate descent'\n",
    "    ],\n",
    "                      data=MCP_sim_results[i, j, :, 3:])\n",
    "    df_melted = pd.melt(df,\n",
    "                        id_vars=[],\n",
    "                        value_vars=[\n",
    "                            'AG with suggested settings', 'proximal gradient',\n",
    "                            'coordinate descent'\n",
    "                        ],\n",
    "                        var_name='method',\n",
    "                        value_name='k')\n",
    "    #     sns.boxplot(ax=axes[i, j], data=df_melted, x=\"method\", y=\"k\", hue=\"method\", showfliers = False)#.set_title(r'$\\tau=$'+str(tau[i])+'$, N=$'+str(N[j]))\n",
    "    sns.barplot(ax=axes[i, j],\n",
    "                data=df_melted,\n",
    "                x=\"method\",\n",
    "                y=\"k\",\n",
    "                hue=\"method\",\n",
    "                estimator=np.median,\n",
    "                ci=95,\n",
    "                dodge=False)  #, palette = \"Greys\")\n",
    "    if i == 2 and j != 0:\n",
    "        axes[i, j].set(xticklabels=[], xlabel=r\"$n=$\" + str(N[j]),\n",
    "                       ylabel=None)  # yticklabels=[] to remove y scales\n",
    "    if j == 0 and i != 2:\n",
    "        axes[i, j].set(xticklabels=[],\n",
    "                       xlabel=None,\n",
    "                       ylabel=r\"$\\tau=$\" + str(tau[i]))\n",
    "    axes[2, 0].set(xticklabels=[],\n",
    "                   xlabel=r\"$n=$\" + str(N[0]),\n",
    "                   ylabel=r\"$\\tau=$\" + str(tau[2]))\n",
    "    if i != 2 and j != 0:\n",
    "        axes[i, j].set(xticklabels=[], xlabel=None, ylabel=None)\n",
    "\n",
    "    axes[i, j].get_legend().remove()\n",
    "\n",
    "handles, labels = axes[0, 0].get_legend_handles_labels()\n",
    "fig.legend(handles,\n",
    "           labels,\n",
    "           loc='upper left',\n",
    "           ncol=3,\n",
    "           bbox_to_anchor=(-.05, 1.1))\n",
    "plt.subplots_adjust(left=None,\n",
    "                    bottom=None,\n",
    "                    right=None,\n",
    "                    top=None,\n",
    "                    wspace=.4,\n",
    "                    hspace=None)\n",
    "\n",
    "#plt.tight_layout()\n",
    "plt.savefig('LM-time_MCP.eps', format='eps', dpi=600, bbox_inches='tight')\n",
    "plt.show()\n",
    "\n",
    "LM_MCP_computing_time_latex = pasta(MCP_sim_results_mean, MCP_sim_results_se)"
   ]
  },
  {
   "cell_type": "markdown",
   "id": "a51e49ac",
   "metadata": {},
   "source": [
    "# LM -- Signals\n",
    "## SCAD\n",
    "### AG"
   ]
  },
  {
   "cell_type": "code",
   "execution_count": 9,
   "id": "55fef417",
   "metadata": {
    "ExecuteTime": {
     "end_time": "2022-11-09T11:12:28.490906Z",
     "start_time": "2022-11-09T11:12:28.485848Z"
    }
   },
   "outputs": [
    {
     "name": "stdout",
     "output_type": "stream",
     "text": [
      "Sample mean:\n",
      "2-norm:  [['0.128 (0.021)' '0.521 (0.114)' '2.839 (0.497)']\n",
      " ['0.05 (0.009)' '0.156 (0.035)' '2.075 (0.339)']\n",
      " ['0.022 (0.004)' '0.085 (0.014)' '1.278 (0.262)']\n",
      " ['0.016 (0.003)' '0.065 (0.011)' '1.163 (0.207)']]\n",
      "infinity-norm:  [['21.305 (2.587)' '48.871 (5.73)' '162.521 (37.275)']\n",
      " ['13.026 (2.287)' '25.035 (4.464)' '114.369 (21.125)']\n",
      " ['8.768 (1.787)' '18.119 (2.626)' '75.329 (14.609)']\n",
      " ['7.393 (1.711)' '16.366 (2.458)' '69.954 (11.687)']]\n",
      "PPV:  [['0.747 (0.134)' '0.622 (0.188)' '0.488 (0.25)']\n",
      " ['0.681 (0.162)' '0.551 (0.206)' '0.327 (0.234)']\n",
      " ['0.58 (0.138)' '0.42 (0.257)' '0.197 (0.141)']\n",
      " ['0.528 (0.272)' '0.437 (0.09)' '0.211 (0.081)']]\n",
      "NPV:  [['0.984 (0.001)' '0.984 (0.001)' '0.979 (0.001)']\n",
      " ['0.989 (0.001)' '0.988 (0.002)' '0.98 (0.001)']\n",
      " ['0.992 (0.001)' '0.991 (0.001)' '0.981 (0.001)']\n",
      " ['0.993 (0.001)' '0.992 (0.001)' '0.982 (0.001)']]\n",
      "active set cardi:  [['25.82 (8.08)' '31.58 (17.056)' '23.11 (15.166)']\n",
      " ['42.78 (14.003)' '55.48 (20.653)' '42.83 (16.308)']\n",
      " ['61.89 (21.881)' '97.88 (36.736)' '86.71 (26.567)']\n",
      " ['101.21 (66.968)' '81.17 (25.325)' '70.8 (11.642)']]\n"
     ]
    }
   ],
   "source": [
    "results_SCAD_signal_recovery = np.load(\n",
    "    \"./tasks/task1/results_SCAD_signal_recovery.npy\")\n",
    "\n",
    "results_SCAD_signal_recovery_mean = np.around(\n",
    "    np.mean(results_SCAD_signal_recovery, 2), 3)\n",
    "results_SCAD_signal_recovery_se = np.around(\n",
    "    np.std(results_SCAD_signal_recovery, 2), 3)\n",
    "print(\"Sample mean:\")\n",
    "print(\n",
    "    \"2-norm: \",\n",
    "    pasta(results_SCAD_signal_recovery_mean[..., 0],\n",
    "          results_SCAD_signal_recovery_se[..., 0]))\n",
    "print(\n",
    "    \"infinity-norm: \",\n",
    "    pasta(results_SCAD_signal_recovery_mean[..., 1],\n",
    "          results_SCAD_signal_recovery_se[..., 1]))\n",
    "print(\n",
    "    \"PPV: \",\n",
    "    pasta(results_SCAD_signal_recovery_mean[..., 2],\n",
    "          results_SCAD_signal_recovery_se[..., 2]))\n",
    "print(\n",
    "    \"NPV: \",\n",
    "    pasta(results_SCAD_signal_recovery_mean[..., 3],\n",
    "          results_SCAD_signal_recovery_se[..., 3]))\n",
    "print(\n",
    "    \"active set cardi: \",\n",
    "    pasta(results_SCAD_signal_recovery_mean[..., 4],\n",
    "          results_SCAD_signal_recovery_se[..., 4]))\n",
    "\n",
    "# results_SCAD_signal_recovery_median = cp.median(results_SCAD_signal_recovery, 2)\n",
    "# print(\"Sample median:\")\n",
    "# print(\"2-norm: \",results_SCAD_signal_recovery_median[...,0])\n",
    "# print(\"infinity-norm: \",results_SCAD_signal_recovery_median[...,1])\n",
    "# print(\"sensitivity: \",results_SCAD_signal_recovery_median[...,2])\n",
    "# print(\"specificity: \",results_SCAD_signal_recovery_median[...,3])\n",
    "# results_SCAD_signal_recovery_mad = mad(results_SCAD_signal_recovery.get(), 2)*1.4826\n",
    "# print(\"Scaled MAD:\")\n",
    "# print(\"2-norm: \",results_SCAD_signal_recovery_mad[...,0])\n",
    "# print(\"infinity-norm: \",results_SCAD_signal_recovery_mad[...,1])\n",
    "# print(\"sensitivity: \",results_SCAD_signal_recovery_mad[...,2])\n",
    "# print(\"specificity: \",results_SCAD_signal_recovery_mad[...,3])\n",
    "\n",
    "LM_SCAD_signal_latex = pasta(results_SCAD_signal_recovery_mean,\n",
    "                             results_SCAD_signal_recovery_se)"
   ]
  },
  {
   "cell_type": "markdown",
   "id": "b59acac3",
   "metadata": {},
   "source": [
    "### ncvreg"
   ]
  },
  {
   "cell_type": "code",
   "execution_count": 10,
   "id": "e51be8b1",
   "metadata": {
    "ExecuteTime": {
     "end_time": "2022-11-09T11:12:28.496912Z",
     "start_time": "2022-11-09T11:12:28.492321Z"
    }
   },
   "outputs": [
    {
     "name": "stdout",
     "output_type": "stream",
     "text": [
      "Sample mean:\n",
      "2-norm:  [['0.131 (0.02)' '0.485 (0.102)' '2.929 (0.525)']\n",
      " ['0.052 (0.009)' '0.156 (0.028)' '2.087 (0.357)']\n",
      " ['0.021 (0.004)' '0.083 (0.015)' '1.3 (0.262)']\n",
      " ['0.015 (0.003)' '0.063 (0.013)' '1.167 (0.22)']]\n",
      "infinity-norm:  [['20.455 (2.921)' '46.659 (5.714)' '170.52 (37.138)']\n",
      " ['13.052 (2.262)' '25.202 (4.255)' '117.133 (22.303)']\n",
      " ['8.363 (1.563)' '17.958 (2.548)' '80.005 (15.153)']\n",
      " ['7.079 (1.189)' '16.033 (2.414)' '73.369 (12.624)']]\n",
      "PPV:  [['0.255 (0.061)' '0.287 (0.132)' '0.286 (0.19)']\n",
      " ['0.282 (0.079)' '0.307 (0.098)' '0.275 (0.148)']\n",
      " ['0.32 (0.065)' '0.344 (0.152)' '0.175 (0.101)']\n",
      " ['0.349 (0.127)' '0.409 (0.1)' '0.206 (0.047)']]\n",
      "NPV:  [['0.987 (0.001)' '0.986 (0.001)' '0.98 (0.001)']\n",
      " ['0.99 (0.001)' '0.989 (0.001)' '0.98 (0.001)']\n",
      " ['0.993 (0.001)' '0.991 (0.001)' '0.981 (0.001)']\n",
      " ['0.993 (0.001)' '0.992 (0.001)' '0.982 (0.001)']]\n",
      "active set cardi:  [['100.88 (25.582)' '94.32 (41.572)' '42.01 (20.592)']\n",
      " ['120.17 (33.554)' '101.75 (29.498)' '46.72 (16.252)']\n",
      " ['115.4 (23.845)' '107.19 (31.445)' '89.74 (23.1)']\n",
      " ['123.5 (52.077)' '90.58 (40.419)' '71.47 (10.954)']]\n"
     ]
    }
   ],
   "source": [
    "results_SCAD_signal_recovery = np.load(\n",
    "    \"./SCAD_MCP/LM/R_results_SCAD_signal_recovery.npy\")\n",
    "\n",
    "results_SCAD_signal_recovery = np.reshape(results_SCAD_signal_recovery,\n",
    "                                          (4, 3, 100, 5),\n",
    "                                          \"F\")  # keep array dimension true\n",
    "results_SCAD_signal_recovery_mean = np.around(\n",
    "    np.mean(results_SCAD_signal_recovery, 2), 3)\n",
    "results_SCAD_signal_recovery_se = np.around(\n",
    "    np.std(results_SCAD_signal_recovery, 2), 3)\n",
    "print(\"Sample mean:\")\n",
    "print(\n",
    "    \"2-norm: \",\n",
    "    pasta(results_SCAD_signal_recovery_mean[..., 0],\n",
    "          results_SCAD_signal_recovery_se[..., 0]))\n",
    "print(\n",
    "    \"infinity-norm: \",\n",
    "    pasta(results_SCAD_signal_recovery_mean[..., 1],\n",
    "          results_SCAD_signal_recovery_se[..., 1]))\n",
    "print(\n",
    "    \"PPV: \",\n",
    "    pasta(results_SCAD_signal_recovery_mean[..., 2],\n",
    "          results_SCAD_signal_recovery_se[..., 2]))\n",
    "print(\n",
    "    \"NPV: \",\n",
    "    pasta(results_SCAD_signal_recovery_mean[..., 3],\n",
    "          results_SCAD_signal_recovery_se[..., 3]))\n",
    "print(\n",
    "    \"active set cardi: \",\n",
    "    pasta(results_SCAD_signal_recovery_mean[..., 4],\n",
    "          results_SCAD_signal_recovery_se[..., 4]))\n",
    "\n",
    "ncvreg_LM_SCAD_signal_latex = pasta(results_SCAD_signal_recovery_mean,\n",
    "                                    results_SCAD_signal_recovery_se)\n",
    "\n",
    "# results_SCAD_signal_recovery_median = cp.median(results_SCAD_signal_recovery, 2)\n",
    "# print(\"Sample median:\")\n",
    "# print(\"2-norm: \",results_SCAD_signal_recovery_median[...,0])\n",
    "# print(\"infinity-norm: \",results_SCAD_signal_recovery_median[...,1])\n",
    "# print(\"sensitivity: \",results_SCAD_signal_recovery_median[...,2])\n",
    "# print(\"specificity: \",results_SCAD_signal_recovery_median[...,3])\n",
    "# results_SCAD_signal_recovery_mad = mad(results_SCAD_signal_recovery.get(), 2)*1.4826\n",
    "# print(\"Scaled MAD:\")\n",
    "# print(\"2-norm: \",results_SCAD_signal_recovery_mad[...,0])\n",
    "# print(\"infinity-norm: \",results_SCAD_signal_recovery_mad[...,1])\n",
    "# print(\"sensitivity: \",results_SCAD_signal_recovery_mad[...,2])\n",
    "# print(\"specificity: \",results_SCAD_signal_recovery_mad[...,3])"
   ]
  },
  {
   "cell_type": "code",
   "execution_count": 11,
   "id": "ab4cc7b6",
   "metadata": {
    "ExecuteTime": {
     "end_time": "2022-11-09T11:12:29.685052Z",
     "start_time": "2022-11-09T11:12:28.497677Z"
    }
   },
   "outputs": [
    {
     "name": "stderr",
     "output_type": "stream",
     "text": [
      "The PostScript backend does not support transparency; partially transparent artists will be rendered opaque.\n"
     ]
    },
    {
     "data": {
      "image/png": "[encoded data removed]",
      "text/plain": [
       "<Figure size 640x480 with 12 Axes>"
      ]
     },
     "metadata": {},
     "output_type": "display_data"
    }
   ],
   "source": [
    "AG = np.load(\"./tasks/task1/results_SCAD_signal_recovery.npy\")\n",
    "AG_mean = np.mean(AG, 2)\n",
    "AG_se = np.std(AG, 2)\n",
    "ncvreg = np.load(\"./SCAD_MCP/LM/R_results_SCAD_signal_recovery.npy\")\n",
    "ncvreg = np.reshape(ncvreg, (4, 3, 100, 5), \"F\")  # keep array dimension true\n",
    "ncvreg_mean = np.mean(ncvreg, 2)\n",
    "ncvreg_se = np.std(ncvreg, 2)\n",
    "\n",
    "fig, axes = plt.subplots(3, 4)\n",
    "\n",
    "tau = np.array([.1, .5, .9])\n",
    "SNR = np.array([1, 3, 7, 10])\n",
    "\n",
    "for i, j in itertools.product(range(3), range(4)):\n",
    "    data = np.array([[AG_mean[j, i, 2], ncvreg_mean[j, i, 2]],\n",
    "                     [AG_mean[j, i, 3], ncvreg_mean[j, i, 3]]])\n",
    "    data_se = np.array([[AG_se[j, i, 2], ncvreg_se[j, i, 2]],\n",
    "                        [AG_se[j, i, 3], ncvreg_se[j, i, 3]]])\n",
    "    length = len(data)\n",
    "    x_labels = [\"PPV\", \"NPV\"]\n",
    "    width = 0.35  # width of bar\n",
    "    x = np.arange(length)\n",
    "    axes[i, j].bar(x,\n",
    "                   data[:, 0],\n",
    "                   width,\n",
    "                   color='#000080',\n",
    "                   label='AG',\n",
    "                   yerr=data_se[:, 0])\n",
    "    axes[i, j].bar(x + width,\n",
    "                   data[:, 1],\n",
    "                   width,\n",
    "                   color='#73C2FB',\n",
    "                   label='ncvreg',\n",
    "                   yerr=data_se[:, 1])\n",
    "    #     ax.set_ylabel('Proportion')\n",
    "    #     ax.set_ylim(0,75)\n",
    "    axes[i, j].set_xticks(x + width / 2)\n",
    "    axes[i, j].set_xticklabels(x_labels)\n",
    "    axes[i, j].set_xlabel('Predicted Values')\n",
    "    #     ax.set_title('Title')\n",
    "    #     axes[i,j].legend()\n",
    "\n",
    "    if i == 2 and j != 0:\n",
    "        axes[i, j].set(xticklabels=x_labels,\n",
    "                       xlabel=r\"$SNR=$\" + str(SNR[j]),\n",
    "                       ylabel=None)  # yticklabels=[] to remove y scales\n",
    "    if j == 0 and i != 2:\n",
    "        axes[i, j].set(xticklabels=x_labels,\n",
    "                       xlabel=None,\n",
    "                       ylabel=r\"$\\tau=$\" + str(tau[i]))\n",
    "    axes[2, 0].set(xticklabels=x_labels,\n",
    "                   xlabel=r\"$SNR=$\" + str(SNR[0]),\n",
    "                   ylabel=r\"$\\tau=$\" + str(tau[2]))\n",
    "    if i != 2 and j != 0:\n",
    "        axes[i, j].set(xticklabels=x_labels, xlabel=None, ylabel=None)\n",
    "\n",
    "for ax in axes.flat:\n",
    "    ax.label_outer()\n",
    "\n",
    "# plt.grid(True, 'major', 'y', ls='--', lw=.5, c='k', alpha=.3)\n",
    "fig.tight_layout(pad=.2)\n",
    "handles, labels = axes[0, 0].get_legend_handles_labels()\n",
    "fig.legend(handles,\n",
    "           labels,\n",
    "           loc='upper left',\n",
    "           ncol=4,\n",
    "           bbox_to_anchor=(.35, 1.075))\n",
    "\n",
    "plt.tight_layout()\n",
    "plt.savefig('LM-SCAD-pv.eps', format='eps', dpi=600, bbox_inches='tight')\n",
    "plt.show()"
   ]
  },
  {
   "cell_type": "markdown",
   "id": "518d75e8",
   "metadata": {},
   "source": [
    "## MCP\n",
    "### AG"
   ]
  },
  {
   "cell_type": "code",
   "execution_count": 12,
   "id": "eb6e6057",
   "metadata": {
    "ExecuteTime": {
     "end_time": "2022-11-09T11:12:29.692401Z",
     "start_time": "2022-11-09T11:12:29.688043Z"
    }
   },
   "outputs": [
    {
     "name": "stdout",
     "output_type": "stream",
     "text": [
      "Sample mean:\n",
      "2-norm:  [['0.133 (0.022)' '0.563 (0.124)' '2.839 (0.39)']\n",
      " ['0.049 (0.01)' '0.169 (0.034)' '1.997 (0.329)']\n",
      " ['0.021 (0.004)' '0.088 (0.016)' '1.503 (0.329)']\n",
      " ['0.014 (0.003)' '0.059 (0.011)' '1.084 (0.272)']]\n",
      "infinity-norm:  [['22.014 (2.296)' '50.653 (5.53)' '155.29 (27.652)']\n",
      " ['13.592 (2.481)' '24.899 (4.824)' '109.26 (20.11)']\n",
      " ['9.05 (1.833)' '18.262 (3.055)' '86.307 (18.311)']\n",
      " ['7.536 (1.767)' '15.241 (2.924)' '67.75 (13.749)']]\n",
      "PPV:  [['0.85 (0.081)' '0.744 (0.161)' '0.616 (0.208)']\n",
      " ['0.842 (0.119)' '0.732 (0.21)' '0.506 (0.286)']\n",
      " ['0.761 (0.175)' '0.646 (0.293)' '0.505 (0.218)']\n",
      " ['0.801 (0.099)' '0.489 (0.134)' '0.375 (0.225)']]\n",
      "NPV:  [['0.983 (0.001)' '0.982 (0.001)' '0.979 (0.001)']\n",
      " ['0.988 (0.001)' '0.986 (0.001)' '0.98 (0.001)']\n",
      " ['0.991 (0.001)' '0.989 (0.001)' '0.981 (0.001)']\n",
      " ['0.992 (0.001)' '0.99 (0.001)' '0.982 (0.001)']]\n",
      "active set cardi:  [['19.7 (4.584)' '20.6 (9.45)' '12.5 (8.163)']\n",
      " ['30.55 (8.437)' '34.52 (16.44)' '25.37 (14.373)']\n",
      " ['44.45 (14.273)' '56.95 (32.804)' '31.96 (25.048)']\n",
      " ['43.23 (11.26)' '64.65 (12.923)' '46.58 (18.186)']]\n"
     ]
    }
   ],
   "source": [
    "results_MCP_signal_recovery = np.load(\n",
    "    \"./tasks/task1/results_MCP_signal_recovery.npy\")\n",
    "\n",
    "results_MCP_signal_recovery_mean = np.around(\n",
    "    np.mean(results_MCP_signal_recovery, 2), 3)\n",
    "results_MCP_signal_recovery_se = np.around(\n",
    "    np.std(results_MCP_signal_recovery, 2), 3)\n",
    "print(\"Sample mean:\")\n",
    "print(\n",
    "    \"2-norm: \",\n",
    "    pasta(results_MCP_signal_recovery_mean[..., 0],\n",
    "          results_MCP_signal_recovery_se[..., 0]))\n",
    "print(\n",
    "    \"infinity-norm: \",\n",
    "    pasta(results_MCP_signal_recovery_mean[..., 1],\n",
    "          results_MCP_signal_recovery_se[..., 1]))\n",
    "print(\n",
    "    \"PPV: \",\n",
    "    pasta(results_MCP_signal_recovery_mean[..., 2],\n",
    "          results_MCP_signal_recovery_se[..., 2]))\n",
    "print(\n",
    "    \"NPV: \",\n",
    "    pasta(results_MCP_signal_recovery_mean[..., 3],\n",
    "          results_MCP_signal_recovery_se[..., 3]))\n",
    "print(\n",
    "    \"active set cardi: \",\n",
    "    pasta(results_MCP_signal_recovery_mean[..., 4],\n",
    "          results_MCP_signal_recovery_se[..., 4]))\n",
    "\n",
    "LM_MCP_signal_latex = pasta(results_MCP_signal_recovery_mean,\n",
    "                            results_MCP_signal_recovery_se)\n",
    "\n",
    "# results_MCP_signal_recovery_median = cp.median(results_MCP_signal_recovery, 2)\n",
    "# print(\"Sample median:\")\n",
    "# print(\"2-norm: \",results_MCP_signal_recovery_median[...,0])\n",
    "# print(\"infinity-norm: \",results_MCP_signal_recovery_median[...,1])\n",
    "# print(\"sensitivity: \",results_MCP_signal_recovery_median[...,2])\n",
    "# print(\"specificity: \",results_MCP_signal_recovery_median[...,3])\n",
    "# results_MCP_signal_recovery_mad = mad(results_MCP_signal_recovery.get(), 2)*1.4826\n",
    "# print(\"Scaled MAD:\")\n",
    "# print(\"2-norm: \",results_MCP_signal_recovery_mad[...,0])\n",
    "# print(\"infinity-norm: \",results_MCP_signal_recovery_mad[...,1])\n",
    "# print(\"sensitivity: \",results_MCP_signal_recovery_mad[...,2])\n",
    "# print(\"specificity: \",results_MCP_signal_recovery_mad[...,3])"
   ]
  },
  {
   "cell_type": "markdown",
   "id": "9294ca41",
   "metadata": {},
   "source": [
    "### ncvreg"
   ]
  },
  {
   "cell_type": "code",
   "execution_count": 13,
   "id": "8d105280",
   "metadata": {
    "ExecuteTime": {
     "end_time": "2022-11-09T11:12:29.697948Z",
     "start_time": "2022-11-09T11:12:29.693181Z"
    }
   },
   "outputs": [
    {
     "name": "stdout",
     "output_type": "stream",
     "text": [
      "Sample mean:\n",
      "2-norm:  [['0.126 (0.019)' '0.494 (0.112)' '2.86 (0.427)']\n",
      " ['0.048 (0.009)' '0.161 (0.032)' '1.92 (0.34)']\n",
      " ['0.02 (0.004)' '0.086 (0.017)' '1.416 (0.302)']\n",
      " ['0.014 (0.003)' '0.059 (0.013)' '1.134 (0.248)']]\n",
      "infinity-norm:  [['20.675 (2.83)' '48.338 (5.946)' '161.317 (31.908)']\n",
      " ['13.192 (2.269)' '25.203 (4.041)' '106.248 (19.925)']\n",
      " ['8.395 (1.559)' '18.375 (2.558)' '81.467 (15.7)']\n",
      " ['7.064 (1.283)' '15.031 (2.751)' '69.502 (12.619)']]\n",
      "PPV:  [['0.435 (0.085)' '0.407 (0.135)' '0.387 (0.154)']\n",
      " ['0.505 (0.112)' '0.514 (0.121)' '0.366 (0.18)']\n",
      " ['0.541 (0.128)' '0.547 (0.173)' '0.483 (0.201)']\n",
      " ['0.559 (0.107)' '0.476 (0.135)' '0.377 (0.225)']]\n",
      "NPV:  [['0.986 (0.001)' '0.984 (0.001)' '0.979 (0.0)']\n",
      " ['0.989 (0.001)' '0.987 (0.001)' '0.98 (0.001)']\n",
      " ['0.992 (0.001)' '0.989 (0.001)' '0.981 (0.001)']\n",
      " ['0.993 (0.001)' '0.99 (0.001)' '0.982 (0.001)']]\n",
      "active set cardi:  [['51.61 (13.612)' '47.32 (16.093)' '20.25 (11.411)']\n",
      " ['60.14 (15.873)' '48.08 (13.783)' '31.0 (13.981)']\n",
      " ['66.7 (20.364)' '58.36 (24.633)' '33.38 (25.617)']\n",
      " ['65.36 (13.06)' '67.16 (15.483)' '46.07 (19.223)']]\n"
     ]
    }
   ],
   "source": [
    "results_MCP_signal_recovery = np.load(\n",
    "    \"./SCAD_MCP/LM/R_results_MCP_signal_recovery.npy\")\n",
    "\n",
    "results_MCP_signal_recovery = np.reshape(results_MCP_signal_recovery,\n",
    "                                         (4, 3, 100, 5),\n",
    "                                         \"F\")  # keep array dimension true\n",
    "results_MCP_signal_recovery_mean = np.around(\n",
    "    np.mean(results_MCP_signal_recovery, 2), 3)\n",
    "results_MCP_signal_recovery_se = np.around(\n",
    "    np.std(results_MCP_signal_recovery, 2), 3)\n",
    "print(\"Sample mean:\")\n",
    "print(\n",
    "    \"2-norm: \",\n",
    "    pasta(results_MCP_signal_recovery_mean[..., 0],\n",
    "          results_MCP_signal_recovery_se[..., 0]))\n",
    "print(\n",
    "    \"infinity-norm: \",\n",
    "    pasta(results_MCP_signal_recovery_mean[..., 1],\n",
    "          results_MCP_signal_recovery_se[..., 1]))\n",
    "print(\n",
    "    \"PPV: \",\n",
    "    pasta(results_MCP_signal_recovery_mean[..., 2],\n",
    "          results_MCP_signal_recovery_se[..., 2]))\n",
    "print(\n",
    "    \"NPV: \",\n",
    "    pasta(results_MCP_signal_recovery_mean[..., 3],\n",
    "          results_MCP_signal_recovery_se[..., 3]))\n",
    "print(\n",
    "    \"active set cardi: \",\n",
    "    pasta(results_MCP_signal_recovery_mean[..., 4],\n",
    "          results_MCP_signal_recovery_se[..., 4]))\n",
    "\n",
    "ncvreg_LM_MCP_signal_latex = pasta(results_MCP_signal_recovery_mean,\n",
    "                                   results_MCP_signal_recovery_se)\n",
    "\n",
    "# results_MCP_signal_recovery_median = cp.median(results_MCP_signal_recovery, 2)\n",
    "# print(\"Sample median:\")\n",
    "# print(\"2-norm: \",results_MCP_signal_recovery_median[...,0])\n",
    "# print(\"infinity-norm: \",results_MCP_signal_recovery_median[...,1])\n",
    "# print(\"sensitivity: \",results_MCP_signal_recovery_median[...,2])\n",
    "# print(\"specificity: \",results_MCP_signal_recovery_median[...,3])\n",
    "# results_MCP_signal_recovery_mad = mad(results_MCP_signal_recovery.get(), 2)*1.4826\n",
    "# print(\"Scaled MAD:\")\n",
    "# print(\"2-norm: \",results_MCP_signal_recovery_mad[...,0])\n",
    "# print(\"infinity-norm: \",results_MCP_signal_recovery_mad[...,1])\n",
    "# print(\"sensitivity: \",results_MCP_signal_recovery_mad[...,2])\n",
    "# print(\"specificity: \",results_MCP_signal_recovery_mad[...,3])"
   ]
  },
  {
   "cell_type": "code",
   "execution_count": 14,
   "id": "2d0f6ec4",
   "metadata": {
    "ExecuteTime": {
     "end_time": "2022-11-09T11:12:30.793380Z",
     "start_time": "2022-11-09T11:12:29.698699Z"
    }
   },
   "outputs": [
    {
     "name": "stderr",
     "output_type": "stream",
     "text": [
      "The PostScript backend does not support transparency; partially transparent artists will be rendered opaque.\n"
     ]
    },
    {
     "data": {
      "image/png": "[encoded data removed]",
      "text/plain": [
       "<Figure size 640x480 with 12 Axes>"
      ]
     },
     "metadata": {},
     "output_type": "display_data"
    }
   ],
   "source": [
    "AG = np.load(\"./tasks/task1/results_MCP_signal_recovery.npy\")\n",
    "AG_mean = np.mean(AG, 2)\n",
    "AG_se = np.std(AG, 2)\n",
    "ncvreg = np.load(\"./SCAD_MCP/LM/R_results_MCP_signal_recovery.npy\")\n",
    "ncvreg = np.reshape(ncvreg, (4, 3, 100, 5), \"F\")  # keep array dimension true\n",
    "ncvreg_mean = np.mean(ncvreg, 2)\n",
    "ncvreg_se = np.std(ncvreg, 2)\n",
    "\n",
    "fig, axes = plt.subplots(3, 4)\n",
    "\n",
    "tau = np.array([.1, .5, .9])\n",
    "SNR = np.array([1, 3, 7, 10])\n",
    "\n",
    "for i, j in itertools.product(range(3), range(4)):\n",
    "    data = np.array([[AG_mean[j, i, 2], ncvreg_mean[j, i, 2]],\n",
    "                     [AG_mean[j, i, 3], ncvreg_mean[j, i, 3]]])\n",
    "    data_se = np.array([[AG_se[j, i, 2], ncvreg_se[j, i, 2]],\n",
    "                        [AG_se[j, i, 3], ncvreg_se[j, i, 3]]])\n",
    "    length = len(data)\n",
    "    x_labels = [\"PPV\", \"NPV\"]\n",
    "    width = 0.35  # width of bar\n",
    "    x = np.arange(length)\n",
    "    axes[i, j].bar(x,\n",
    "                   data[:, 0],\n",
    "                   width,\n",
    "                   color='#000080',\n",
    "                   label='AG',\n",
    "                   yerr=data_se[:, 0])\n",
    "    axes[i, j].bar(x + width,\n",
    "                   data[:, 1],\n",
    "                   width,\n",
    "                   color='#73C2FB',\n",
    "                   label='ncvreg',\n",
    "                   yerr=data_se[:, 1])\n",
    "    #     ax.set_ylabel('Proportion')\n",
    "    #     ax.set_ylim(0,75)\n",
    "    axes[i, j].set_xticks(x + width / 2)\n",
    "    axes[i, j].set_xticklabels(x_labels)\n",
    "    axes[i, j].set_xlabel('Predicted Values')\n",
    "    #     ax.set_title('Title')\n",
    "    #     axes[i,j].legend()\n",
    "\n",
    "    if i == 2 and j != 0:\n",
    "        axes[i, j].set(xticklabels=x_labels,\n",
    "                       xlabel=r\"$SNR=$\" + str(SNR[j]),\n",
    "                       ylabel=None)  # yticklabels=[] to remove y scales\n",
    "    if j == 0 and i != 2:\n",
    "        axes[i, j].set(xticklabels=x_labels,\n",
    "                       xlabel=None,\n",
    "                       ylabel=r\"$\\tau=$\" + str(tau[i]))\n",
    "    axes[2, 0].set(xticklabels=x_labels,\n",
    "                   xlabel=r\"$SNR=$\" + str(SNR[0]),\n",
    "                   ylabel=r\"$\\tau=$\" + str(tau[2]))\n",
    "    if i != 2 and j != 0:\n",
    "        axes[i, j].set(xticklabels=x_labels, xlabel=None, ylabel=None)\n",
    "\n",
    "for ax in axes.flat:\n",
    "    ax.label_outer()\n",
    "\n",
    "# plt.grid(True, 'major', 'y', ls='--', lw=.5, c='k', alpha=.3)\n",
    "fig.tight_layout(pad=.2)\n",
    "handles, labels = axes[0, 0].get_legend_handles_labels()\n",
    "fig.legend(handles,\n",
    "           labels,\n",
    "           loc='upper left',\n",
    "           ncol=4,\n",
    "           bbox_to_anchor=(.35, 1.075))\n",
    "\n",
    "plt.tight_layout()\n",
    "plt.savefig('LM-MCP-pv.eps', format='eps', dpi=600, bbox_inches='tight')\n",
    "plt.show()"
   ]
  },
  {
   "cell_type": "markdown",
   "id": "829fad2a",
   "metadata": {},
   "source": [
    "# logistic -- Speed\n",
    "## Iterations required to make same amount of descent\n",
    "### SCAD"
   ]
  },
  {
   "cell_type": "code",
   "execution_count": 15,
   "id": "af0f1b76",
   "metadata": {
    "ExecuteTime": {
     "end_time": "2022-11-09T11:12:30.799522Z",
     "start_time": "2022-11-09T11:12:30.794485Z"
    }
   },
   "outputs": [
    {
     "name": "stdout",
     "output_type": "stream",
     "text": [
      "Median:\n",
      "AG:  [[ 33.   18.   10.    7. ]\n",
      " [ 37.   19.   10.    7. ]\n",
      " [144.   46.5  27.5  16.5]]\n",
      "proximal gradient:  [[ 193.5   74.5   24.    11. ]\n",
      " [ 249.5   76.    23.    13. ]\n",
      " [3209.   256.5   95.    45. ]]\n",
      "original settings:  [[ 48.5  29.5  17.5  12. ]\n",
      " [ 55.   31.   17.   13. ]\n",
      " [207.   70.5  41.   26.5]]\n",
      "Scaled MAD: \n",
      "AG:  [[ 4.448  3.706  1.483  1.483]\n",
      " [ 4.448  2.965  1.483  1.483]\n",
      " [68.2   14.826  9.637  5.189]]\n",
      "proximal gradient:  [[4.966700e+01 2.891100e+01 4.448000e+00 1.483000e+00]\n",
      " [6.449300e+01 3.187600e+01 5.930000e+00 1.483000e+00]\n",
      " [2.786547e+03 1.623450e+02 5.115000e+01 1.927400e+01]]\n",
      "original settings:  [[  5.93    5.189   1.483   1.483]\n",
      " [  5.93    5.93    1.483   1.483]\n",
      " [100.817  24.463  14.826   6.672]]\n"
     ]
    }
   ],
   "source": [
    "SCAD_sim_results = np.load(\"./tasks/task2speed/sub_tasks/task2speed_SCAD/SCAD_sim_results.npy\")\n",
    "\n",
    "SCAD_sim_results_mean = np.around(np.median(SCAD_sim_results, 2), 3)\n",
    "print(\"Median:\")\n",
    "print(\"AG: \", SCAD_sim_results_mean[..., 0])\n",
    "print(\"proximal gradient: \", SCAD_sim_results_mean[..., 1])\n",
    "print(\"original settings: \", SCAD_sim_results_mean[..., 2])\n",
    "SCAD_sim_results_se = np.around(mad(SCAD_sim_results, 2) * 1.4826, 3)\n",
    "print(\"Scaled MAD: \")\n",
    "print(\"AG: \", SCAD_sim_results_se[..., 0])\n",
    "print(\"proximal gradient: \", SCAD_sim_results_se[..., 1])\n",
    "print(\"original settings: \", SCAD_sim_results_se[..., 2])\n",
    "\n",
    "logistic_SCAD_iterations_latex = pasta(SCAD_sim_results_mean,\n",
    "                                       SCAD_sim_results_se)"
   ]
  },
  {
   "cell_type": "code",
   "execution_count": 16,
   "id": "f7d76f59",
   "metadata": {
    "ExecuteTime": {
     "end_time": "2022-11-09T11:12:32.675587Z",
     "start_time": "2022-11-09T11:12:30.800362Z"
    }
   },
   "outputs": [
    {
     "name": "stderr",
     "output_type": "stream",
     "text": [
      "The PostScript backend does not support transparency; partially transparent artists will be rendered opaque.\n"
     ]
    },
    {
     "data": {
      "image/png": "[encoded data removed]",
      "text/plain": [
       "<Figure size 640x480 with 12 Axes>"
      ]
     },
     "metadata": {},
     "output_type": "display_data"
    }
   ],
   "source": [
    "fig, axes = plt.subplots(3, 4)\n",
    "\n",
    "tau = np.array([.1, .5, .9])\n",
    "N = np.array([200, 500, 1000, 3000])\n",
    "\n",
    "for i, j in itertools.product(range(3), range(4)):\n",
    "    df = pd.DataFrame(columns=[\n",
    "        'AG with suggested settings', 'proximal gradient',\n",
    "        'AG with orginal settings'\n",
    "    ],\n",
    "                      data=SCAD_sim_results[i, j, ...])\n",
    "    df_melted = pd.melt(df,\n",
    "                        id_vars=[],\n",
    "                        value_vars=[\n",
    "                            'AG with suggested settings',\n",
    "                            'AG with orginal settings', 'proximal gradient'\n",
    "                        ],\n",
    "                        var_name='method',\n",
    "                        value_name='k')\n",
    "    #     sns.boxplot(ax=axes[i, j], data=df_melted, x=\"method\", y=\"k\", hue=\"method\", showfliers = False)#.set_title(r'$\\tau=$'+str(tau[i])+'$, N=$'+str(N[j]))\n",
    "    sns.barplot(ax=axes[i, j],\n",
    "                data=df_melted,\n",
    "                x=\"method\",\n",
    "                y=\"k\",\n",
    "                hue=\"method\",\n",
    "                estimator=np.median,\n",
    "                ci=95,\n",
    "                dodge=False)  #, palette = \"Greys\")\n",
    "    if i == 2 and j != 0:\n",
    "        axes[i, j].set(xticklabels=[], xlabel=r\"$n=$\" + str(N[j]),\n",
    "                       ylabel=None)  # yticklabels=[] to remove y scales\n",
    "    if j == 0 and i != 2:\n",
    "        axes[i, j].set(xticklabels=[],\n",
    "                       xlabel=None,\n",
    "                       ylabel=r\"$\\tau=$\" + str(tau[i]))\n",
    "    axes[2, 0].set(xticklabels=[],\n",
    "                   xlabel=r\"$n=$\" + str(N[0]),\n",
    "                   ylabel=r\"$\\tau=$\" + str(tau[2]))\n",
    "    if i != 2 and j != 0:\n",
    "        axes[i, j].set(xticklabels=[], xlabel=None, ylabel=None)\n",
    "\n",
    "    axes[i, j].get_legend().remove()\n",
    "\n",
    "handles, labels = axes[0, 0].get_legend_handles_labels()\n",
    "fig.legend(handles,\n",
    "           labels,\n",
    "           loc='upper left',\n",
    "           ncol=3,\n",
    "           bbox_to_anchor=(-.05, 1.1))\n",
    "plt.subplots_adjust(left=None,\n",
    "                    bottom=None,\n",
    "                    right=None,\n",
    "                    top=None,\n",
    "                    wspace=.4,\n",
    "                    hspace=None)\n",
    "\n",
    "#plt.tight_layout()\n",
    "plt.savefig('logistic-fig_k_SCAD.eps',\n",
    "            format='eps',\n",
    "            dpi=600,\n",
    "            bbox_inches='tight')\n",
    "plt.show()"
   ]
  },
  {
   "cell_type": "markdown",
   "id": "fbe39d54",
   "metadata": {},
   "source": [
    "### MCP"
   ]
  },
  {
   "cell_type": "code",
   "execution_count": 17,
   "id": "0c266737",
   "metadata": {
    "ExecuteTime": {
     "end_time": "2022-11-09T11:12:32.681042Z",
     "start_time": "2022-11-09T11:12:32.676647Z"
    }
   },
   "outputs": [
    {
     "name": "stdout",
     "output_type": "stream",
     "text": [
      "Median:\n",
      "AG:  [[22.  29.5 10.   7. ]\n",
      " [24.  25.  11.   7. ]\n",
      " [62.  48.5 27.  18. ]]\n",
      "proximal gradient:  [[ 80.  187.   22.   11. ]\n",
      " [ 96.  123.5  25.5  13. ]\n",
      " [598.  264.  106.   49. ]]\n",
      "original settings:  [[33.  45.  17.  12. ]\n",
      " [37.  39.  18.  13. ]\n",
      " [92.  72.  43.  28.5]]\n",
      "Scaled MAD: \n",
      "AG:  [[ 1.483 12.602  1.483  0.   ]\n",
      " [ 1.483  5.93   1.483  0.   ]\n",
      " [14.826 14.085  8.896  5.93 ]]\n",
      "proximal gradient:  [[  7.413 135.658   2.965   1.483]\n",
      " [ 10.378  67.458   6.672   1.483]\n",
      " [247.594 137.882  53.374  22.239]]\n",
      "original settings:  [[ 1.483 18.532  1.483  1.483]\n",
      " [ 2.965  9.637  2.965  1.483]\n",
      " [20.756 20.756 13.343  8.154]]\n"
     ]
    }
   ],
   "source": [
    "MCP_sim_results = np.load(\"./tasks/task2speed/sub_tasks/task2speed_MCP/MCP_sim_results.npy\")\n",
    "\n",
    "MCP_sim_results_mean = np.median(MCP_sim_results, 2)\n",
    "print(\"Median:\")\n",
    "print(\"AG: \", MCP_sim_results_mean[..., 0])\n",
    "print(\"proximal gradient: \", MCP_sim_results_mean[..., 1])\n",
    "print(\"original settings: \", MCP_sim_results_mean[..., 2])\n",
    "MCP_sim_results_se = np.around(mad(MCP_sim_results, 2) * 1.4826, 3)\n",
    "print(\"Scaled MAD: \")\n",
    "print(\"AG: \", MCP_sim_results_se[..., 0])\n",
    "print(\"proximal gradient: \", MCP_sim_results_se[..., 1])\n",
    "print(\"original settings: \", MCP_sim_results_se[..., 2])\n",
    "\n",
    "logistic_MCP_iterations_latex = pasta(MCP_sim_results_mean, MCP_sim_results_se)"
   ]
  },
  {
   "cell_type": "code",
   "execution_count": 18,
   "id": "863eca2b",
   "metadata": {
    "ExecuteTime": {
     "end_time": "2022-11-09T11:12:34.404479Z",
     "start_time": "2022-11-09T11:12:32.682031Z"
    }
   },
   "outputs": [
    {
     "name": "stderr",
     "output_type": "stream",
     "text": [
      "The PostScript backend does not support transparency; partially transparent artists will be rendered opaque.\n"
     ]
    },
    {
     "data": {
      "image/png": "[encoded data removed]",
      "text/plain": [
       "<Figure size 640x480 with 12 Axes>"
      ]
     },
     "metadata": {},
     "output_type": "display_data"
    }
   ],
   "source": [
    "fig, axes = plt.subplots(3, 4)\n",
    "\n",
    "tau = np.array([.1, .5, .9])\n",
    "N = np.array([200, 500, 1000, 3000])\n",
    "\n",
    "for i, j in itertools.product(range(3), range(4)):\n",
    "    df = pd.DataFrame(columns=[\n",
    "        'AG with suggested settings', 'proximal gradient',\n",
    "        'AG with orginal settings'\n",
    "    ],\n",
    "                      data=MCP_sim_results[i, j, ...])\n",
    "    df_melted = pd.melt(df,\n",
    "                        id_vars=[],\n",
    "                        value_vars=[\n",
    "                            'AG with suggested settings',\n",
    "                            'AG with orginal settings', 'proximal gradient'\n",
    "                        ],\n",
    "                        var_name='method',\n",
    "                        value_name='k')\n",
    "    #     sns.boxplot(ax=axes[i, j], data=df_melted, x=\"method\", y=\"k\", hue=\"method\", showfliers = False)#.set_title(r'$\\tau=$'+str(tau[i])+'$, N=$'+str(N[j]))\n",
    "    sns.barplot(ax=axes[i, j],\n",
    "                data=df_melted,\n",
    "                x=\"method\",\n",
    "                y=\"k\",\n",
    "                hue=\"method\",\n",
    "                estimator=np.median,\n",
    "                ci=95,\n",
    "                dodge=False)  #, palette = \"Greys\")\n",
    "    if i == 2 and j != 0:\n",
    "        axes[i, j].set(xticklabels=[], xlabel=r\"$n=$\" + str(N[j]),\n",
    "                       ylabel=None)  # yticklabels=[] to remove y scales\n",
    "    if j == 0 and i != 2:\n",
    "        axes[i, j].set(xticklabels=[],\n",
    "                       xlabel=None,\n",
    "                       ylabel=r\"$\\tau=$\" + str(tau[i]))\n",
    "    axes[2, 0].set(xticklabels=[],\n",
    "                   xlabel=r\"$n=$\" + str(N[0]),\n",
    "                   ylabel=r\"$\\tau=$\" + str(tau[2]))\n",
    "    if i != 2 and j != 0:\n",
    "        axes[i, j].set(xticklabels=[], xlabel=None, ylabel=None)\n",
    "\n",
    "    axes[i, j].get_legend().remove()\n",
    "\n",
    "handles, labels = axes[0, 0].get_legend_handles_labels()\n",
    "fig.legend(handles,\n",
    "           labels,\n",
    "           loc='upper left',\n",
    "           ncol=3,\n",
    "           bbox_to_anchor=(-.05, 1.1))\n",
    "plt.subplots_adjust(left=None,\n",
    "                    bottom=None,\n",
    "                    right=None,\n",
    "                    top=None,\n",
    "                    wspace=.4,\n",
    "                    hspace=None)\n",
    "\n",
    "#plt.tight_layout()\n",
    "plt.savefig('logistic-fig_k_MCP.eps',\n",
    "            format='eps',\n",
    "            dpi=600,\n",
    "            bbox_inches='tight')\n",
    "plt.show()"
   ]
  },
  {
   "cell_type": "markdown",
   "id": "a2c0701c",
   "metadata": {},
   "source": [
    "# logistic -- Signals\n",
    "## SCAD\n",
    "### AG"
   ]
  },
  {
   "cell_type": "code",
   "execution_count": 19,
   "id": "0d17d6b9",
   "metadata": {
    "ExecuteTime": {
     "end_time": "2022-11-09T11:12:34.409909Z",
     "start_time": "2022-11-09T11:12:34.405448Z"
    }
   },
   "outputs": [
    {
     "name": "stdout",
     "output_type": "stream",
     "text": [
      "Sample mean:\n",
      "2-norm:  [['0.768 (0.047)' '0.81 (0.041)' '0.896 (0.04)']\n",
      " ['0.556 (0.057)' '0.656 (0.054)' '0.839 (0.056)']\n",
      " ['0.377 (0.076)' '0.521 (0.073)' '0.779 (0.072)']\n",
      " ['0.311 (0.077)' '0.474 (0.073)' '0.757 (0.079)']]\n",
      "infinity-norm:  [['2.393 (0.452)' '2.473 (0.402)' '2.732 (0.462)']\n",
      " ['2.02 (0.41)' '2.167 (0.384)' '2.679 (0.44)']\n",
      " ['1.638 (0.373)' '1.895 (0.347)' '2.592 (0.449)']\n",
      " ['1.467 (0.382)' '1.789 (0.358)' '2.582 (0.422)']]\n",
      "PPV:  [['0.8 (0.079)' '0.779 (0.1)' '0.697 (0.126)']\n",
      " ['0.875 (0.054)' '0.859 (0.065)' '0.765 (0.096)']\n",
      " ['0.901 (0.052)' '0.881 (0.057)' '0.788 (0.098)']\n",
      " ['0.915 (0.048)' '0.899 (0.054)' '0.789 (0.097)']]\n",
      "NPV:  [['0.982 (0.001)' '0.98 (0.001)' '0.978 (0.001)']\n",
      " ['0.985 (0.002)' '0.982 (0.001)' '0.979 (0.001)']\n",
      " ['0.987 (0.002)' '0.984 (0.001)' '0.979 (0.001)']\n",
      " ['0.988 (0.002)' '0.984 (0.001)' '0.979 (0.001)']]\n",
      "active set cardi:  [['17.07 (3.91)' '13.4 (3.365)' '7.62 (2.134)']\n",
      " ['23.34 (4.203)' '16.59 (3.459)' '8.69 (2.082)']\n",
      " ['26.98 (4.58)' '19.46 (3.659)' '9.79 (2.246)']\n",
      " ['27.95 (4.462)' '19.57 (3.141)' '10.24 (2.346)']]\n"
     ]
    }
   ],
   "source": [
    "results_SCAD_signal_recovery = np.load(\n",
    "    \"./tasks/task2/results_SCAD_signal_recovery.npy\")\n",
    "\n",
    "results_SCAD_signal_recovery_mean = np.around(\n",
    "    np.mean(results_SCAD_signal_recovery, 2), 3)\n",
    "results_SCAD_signal_recovery_se = np.around(\n",
    "    np.std(results_SCAD_signal_recovery, 2), 3)\n",
    "print(\"Sample mean:\")\n",
    "print(\n",
    "    \"2-norm: \",\n",
    "    pasta(results_SCAD_signal_recovery_mean[..., 0],\n",
    "          results_SCAD_signal_recovery_se[..., 0]))\n",
    "print(\n",
    "    \"infinity-norm: \",\n",
    "    pasta(results_SCAD_signal_recovery_mean[..., 1],\n",
    "          results_SCAD_signal_recovery_se[..., 1]))\n",
    "print(\n",
    "    \"PPV: \",\n",
    "    pasta(results_SCAD_signal_recovery_mean[..., 2],\n",
    "          results_SCAD_signal_recovery_se[..., 2]))\n",
    "print(\n",
    "    \"NPV: \",\n",
    "    pasta(results_SCAD_signal_recovery_mean[..., 3],\n",
    "          results_SCAD_signal_recovery_se[..., 3]))\n",
    "print(\n",
    "    \"active set cardi: \",\n",
    "    pasta(results_SCAD_signal_recovery_mean[..., 4],\n",
    "          results_SCAD_signal_recovery_se[..., 4]))\n",
    "\n",
    "# results_SCAD_signal_recovery_median = cp.median(results_SCAD_signal_recovery, 2)\n",
    "# print(\"Sample median:\")\n",
    "# print(\"2-norm: \",results_SCAD_signal_recovery_median[...,0])\n",
    "# print(\"infinity-norm: \",results_SCAD_signal_recovery_median[...,1])\n",
    "# print(\"sensitivity: \",results_SCAD_signal_recovery_median[...,2])\n",
    "# print(\"specificity: \",results_SCAD_signal_recovery_median[...,3])\n",
    "# results_SCAD_signal_recovery_mad = mad(results_SCAD_signal_recovery.get(), 2)*1.4826\n",
    "# print(\"Scaled MAD:\")\n",
    "# print(\"2-norm: \",results_SCAD_signal_recovery_mad[...,0])\n",
    "# print(\"infinity-norm: \",results_SCAD_signal_recovery_mad[...,1])\n",
    "# print(\"sensitivity: \",results_SCAD_signal_recovery_mad[...,2])\n",
    "# print(\"specificity: \",results_SCAD_signal_recovery_mad[...,3])\n",
    "\n",
    "logistic_SCAD_signal_latex = pasta(results_SCAD_signal_recovery_mean,\n",
    "                                   results_SCAD_signal_recovery_se)"
   ]
  },
  {
   "cell_type": "markdown",
   "id": "239c2950",
   "metadata": {},
   "source": [
    "### ncvreg"
   ]
  },
  {
   "cell_type": "code",
   "execution_count": 20,
   "id": "95aa09ee",
   "metadata": {
    "ExecuteTime": {
     "end_time": "2022-11-09T11:12:34.414906Z",
     "start_time": "2022-11-09T11:12:34.410647Z"
    }
   },
   "outputs": [
    {
     "name": "stdout",
     "output_type": "stream",
     "text": [
      "Sample mean:\n",
      "2-norm:  [['0.803 (0.033)' '0.84 (0.033)' '0.903 (0.037)']\n",
      " ['0.603 (0.053)' '0.682 (0.055)' '0.813 (0.053)']\n",
      " ['0.438 (0.054)' '0.537 (0.074)' '0.735 (0.074)']\n",
      " ['0.377 (0.064)' '0.481 (0.079)' '0.712 (0.078)']]\n",
      "infinity-norm:  [['2.44 (0.44)' '2.507 (0.419)' '2.724 (0.505)']\n",
      " ['2.088 (0.435)' '2.19 (0.411)' '2.625 (0.488)']\n",
      " ['1.755 (0.403)' '1.901 (0.387)' '2.518 (0.448)']\n",
      " ['1.62 (0.401)' '1.79 (0.372)' '2.459 (0.4)']]\n",
      "PPV:  [['0.221 (0.045)' '0.265 (0.079)' '0.309 (0.169)']\n",
      " ['0.244 (0.052)' '0.273 (0.072)' '0.273 (0.133)']\n",
      " ['0.27 (0.04)' '0.271 (0.079)' '0.267 (0.136)']\n",
      " ['0.29 (0.05)' '0.279 (0.072)' '0.26 (0.123)']]\n",
      "NPV:  [['0.987 (0.002)' '0.985 (0.002)' '0.98 (0.001)']\n",
      " ['0.99 (0.002)' '0.987 (0.002)' '0.98 (0.001)']\n",
      " ['0.992 (0.001)' '0.988 (0.001)' '0.98 (0.001)']\n",
      " ['0.992 (0.001)' '0.988 (0.001)' '0.98 (0.001)']]\n",
      "active set cardi:  [['120.14 (28.882)' '86.49 (24.421)' '39.41 (19.448)']\n",
      " ['134.85 (29.96)' '98.48 (28.434)' '42.47 (15.014)']\n",
      " ['130.33 (22.255)' '105.03 (28.123)' '48.81 (19.059)']\n",
      " ['124.58 (23.016)' '103.49 (27.66)' '50.64 (21.138)']]\n"
     ]
    }
   ],
   "source": [
    "results_SCAD_signal_recovery = np.load(\n",
    "    \"./SCAD_MCP/logistic/R_results_SCAD_signal_recovery.npy\")\n",
    "results_SCAD_signal_recovery = np.reshape(results_SCAD_signal_recovery,\n",
    "                                          (4, 3, 100, 5),\n",
    "                                          \"F\")  # keep array dimension true\n",
    "\n",
    "results_SCAD_signal_recovery_mean = np.around(\n",
    "    np.mean(results_SCAD_signal_recovery, 2), 3)\n",
    "results_SCAD_signal_recovery_se = np.around(\n",
    "    np.std(results_SCAD_signal_recovery, 2), 3)\n",
    "print(\"Sample mean:\")\n",
    "print(\n",
    "    \"2-norm: \",\n",
    "    pasta(results_SCAD_signal_recovery_mean[..., 0],\n",
    "          results_SCAD_signal_recovery_se[..., 0]))\n",
    "print(\n",
    "    \"infinity-norm: \",\n",
    "    pasta(results_SCAD_signal_recovery_mean[..., 1],\n",
    "          results_SCAD_signal_recovery_se[..., 1]))\n",
    "print(\n",
    "    \"PPV: \",\n",
    "    pasta(results_SCAD_signal_recovery_mean[..., 2],\n",
    "          results_SCAD_signal_recovery_se[..., 2]))\n",
    "print(\n",
    "    \"NPV: \",\n",
    "    pasta(results_SCAD_signal_recovery_mean[..., 3],\n",
    "          results_SCAD_signal_recovery_se[..., 3]))\n",
    "print(\n",
    "    \"active set cardi: \",\n",
    "    pasta(results_SCAD_signal_recovery_mean[..., 4],\n",
    "          results_SCAD_signal_recovery_se[..., 4]))\n",
    "\n",
    "# results_SCAD_signal_recovery_median = cp.median(results_SCAD_signal_recovery, 2)\n",
    "# print(\"Sample median:\")\n",
    "# print(\"2-norm: \",results_SCAD_signal_recovery_median[...,0])\n",
    "# print(\"infinity-norm: \",results_SCAD_signal_recovery_median[...,1])\n",
    "# print(\"sensitivity: \",results_SCAD_signal_recovery_median[...,2])\n",
    "# print(\"specificity: \",results_SCAD_signal_recovery_median[...,3])\n",
    "# results_SCAD_signal_recovery_mad = mad(results_SCAD_signal_recovery.get(), 2)*1.4826\n",
    "# print(\"Scaled MAD:\")\n",
    "# print(\"2-norm: \",results_SCAD_signal_recovery_mad[...,0])\n",
    "# print(\"infinity-norm: \",results_SCAD_signal_recovery_mad[...,1])\n",
    "# print(\"sensitivity: \",results_SCAD_signal_recovery_mad[...,2])\n",
    "# print(\"specificity: \",results_SCAD_signal_recovery_mad[...,3])\n",
    "\n",
    "ncvreg_logistic_SCAD_signal_latex = pasta(results_SCAD_signal_recovery_mean,\n",
    "                                          results_SCAD_signal_recovery_se)"
   ]
  },
  {
   "cell_type": "markdown",
   "id": "45587236",
   "metadata": {},
   "source": [
    "### plot"
   ]
  },
  {
   "cell_type": "code",
   "execution_count": 21,
   "id": "65c2273c",
   "metadata": {
    "ExecuteTime": {
     "end_time": "2022-11-09T11:12:35.530667Z",
     "start_time": "2022-11-09T11:12:34.415626Z"
    }
   },
   "outputs": [
    {
     "name": "stderr",
     "output_type": "stream",
     "text": [
      "The PostScript backend does not support transparency; partially transparent artists will be rendered opaque.\n"
     ]
    },
    {
     "data": {
      "image/png": "[encoded data removed]",
      "text/plain": [
       "<Figure size 640x480 with 12 Axes>"
      ]
     },
     "metadata": {},
     "output_type": "display_data"
    }
   ],
   "source": [
    "AG = np.load(\"./tasks/task2/results_SCAD_signal_recovery.npy\")\n",
    "AG_mean = np.mean(AG, 2)\n",
    "AG_se = np.std(AG, 2)\n",
    "ncvreg = np.load(\"./SCAD_MCP/logistic/R_results_SCAD_signal_recovery.npy\")\n",
    "ncvreg = np.reshape(ncvreg, (4, 3, 100, 5), \"F\")  # keep array dimension true\n",
    "ncvreg_mean = np.mean(ncvreg, 2)\n",
    "ncvreg_se = np.std(ncvreg, 2)\n",
    "\n",
    "fig, axes = plt.subplots(3, 4)\n",
    "\n",
    "tau = np.array([.1, .5, .9])\n",
    "SNR = np.array([1, 3, 7, 10])\n",
    "\n",
    "for i, j in itertools.product(range(3), range(4)):\n",
    "    data = np.array([[AG_mean[j, i, 2], ncvreg_mean[j, i, 2]],\n",
    "                     [AG_mean[j, i, 3], ncvreg_mean[j, i, 3]]])\n",
    "    data_se = np.array([[AG_se[j, i, 2], ncvreg_se[j, i, 2]],\n",
    "                        [AG_se[j, i, 3], ncvreg_se[j, i, 3]]])\n",
    "    length = len(data)\n",
    "    x_labels = [\"PPV\", \"NPV\"]\n",
    "    width = 0.35  # width of bar\n",
    "    x = np.arange(length)\n",
    "    axes[i, j].bar(x,\n",
    "                   data[:, 0],\n",
    "                   width,\n",
    "                   color='#000080',\n",
    "                   label='AG',\n",
    "                   yerr=data_se[:, 0])\n",
    "    axes[i, j].bar(x + width,\n",
    "                   data[:, 1],\n",
    "                   width,\n",
    "                   color='#73C2FB',\n",
    "                   label='ncvreg',\n",
    "                   yerr=data_se[:, 1])\n",
    "    #     ax.set_ylabel('Proportion')\n",
    "    #     ax.set_ylim(0,75)\n",
    "    axes[i, j].set_xticks(x + width / 2)\n",
    "    axes[i, j].set_xticklabels(x_labels)\n",
    "    axes[i, j].set_xlabel('Predicted Values')\n",
    "    #     ax.set_title('Title')\n",
    "    #     axes[i,j].legend()\n",
    "\n",
    "    if i == 2 and j != 0:\n",
    "        axes[i, j].set(xticklabels=x_labels,\n",
    "                       xlabel=r\"$SNR=$\" + str(SNR[j]),\n",
    "                       ylabel=None)  # yticklabels=[] to remove y scales\n",
    "    if j == 0 and i != 2:\n",
    "        axes[i, j].set(xticklabels=x_labels,\n",
    "                       xlabel=None,\n",
    "                       ylabel=r\"$\\tau=$\" + str(tau[i]))\n",
    "    axes[2, 0].set(xticklabels=x_labels,\n",
    "                   xlabel=r\"$SNR=$\" + str(SNR[0]),\n",
    "                   ylabel=r\"$\\tau=$\" + str(tau[2]))\n",
    "    if i != 2 and j != 0:\n",
    "        axes[i, j].set(xticklabels=x_labels, xlabel=None, ylabel=None)\n",
    "\n",
    "for ax in axes.flat:\n",
    "    ax.label_outer()\n",
    "\n",
    "# plt.grid(True, 'major', 'y', ls='--', lw=.5, c='k', alpha=.3)\n",
    "fig.tight_layout(pad=.2)\n",
    "handles, labels = axes[0, 0].get_legend_handles_labels()\n",
    "fig.legend(handles,\n",
    "           labels,\n",
    "           loc='upper left',\n",
    "           ncol=4,\n",
    "           bbox_to_anchor=(.35, 1.075))\n",
    "\n",
    "plt.tight_layout()\n",
    "plt.savefig('logistic-SCAD-pv.eps', format='eps', dpi=600, bbox_inches='tight')\n",
    "plt.show()"
   ]
  },
  {
   "cell_type": "markdown",
   "id": "8e21887f",
   "metadata": {},
   "source": [
    "## MCP\n",
    "### AG"
   ]
  },
  {
   "cell_type": "code",
   "execution_count": 22,
   "id": "cf533c10",
   "metadata": {
    "ExecuteTime": {
     "end_time": "2022-11-09T11:12:35.536869Z",
     "start_time": "2022-11-09T11:12:35.531795Z"
    }
   },
   "outputs": [
    {
     "name": "stdout",
     "output_type": "stream",
     "text": [
      "Sample mean:\n",
      "2-norm:  [['0.769 (0.044)' '0.808 (0.041)' '0.897 (0.043)']\n",
      " ['0.555 (0.058)' '0.654 (0.053)' '0.834 (0.054)']\n",
      " ['0.383 (0.08)' '0.521 (0.069)' '0.779 (0.07)']\n",
      " ['0.31 (0.079)' '0.469 (0.073)' '0.753 (0.076)']]\n",
      "infinity-norm:  [['2.396 (0.453)' '2.467 (0.396)' '2.737 (0.458)']\n",
      " ['2.019 (0.414)' '2.168 (0.391)' '2.676 (0.44)']\n",
      " ['1.649 (0.394)' '1.889 (0.366)' '2.605 (0.457)']\n",
      " ['1.459 (0.359)' '1.791 (0.335)' '2.591 (0.426)']]\n",
      "PPV:  [['0.879 (0.06)' '0.859 (0.058)' '0.779 (0.087)']\n",
      " ['0.906 (0.05)' '0.889 (0.05)' '0.805 (0.086)']\n",
      " ['0.919 (0.044)' '0.903 (0.05)' '0.809 (0.102)']\n",
      " ['0.918 (0.045)' '0.911 (0.038)' '0.804 (0.111)']]\n",
      "NPV:  [['0.981 (0.001)' '0.98 (0.001)' '0.978 (0.001)']\n",
      " ['0.985 (0.002)' '0.982 (0.001)' '0.979 (0.001)']\n",
      " ['0.987 (0.002)' '0.984 (0.001)' '0.98 (0.001)']\n",
      " ['0.988 (0.002)' '0.984 (0.001)' '0.98 (0.001)']]\n",
      "active set cardi:  [['13.86 (3.082)' '11.42 (2.776)' '6.72 (1.744)']\n",
      " ['21.86 (4.313)' '15.84 (3.036)' '8.84 (1.938)']\n",
      " ['25.75 (4.776)' '18.78 (3.189)' '10.33 (2.565)']\n",
      " ['27.53 (4.649)' '19.55 (3.093)' '11.06 (2.877)']]\n"
     ]
    }
   ],
   "source": [
    "results_MCP_signal_recovery = np.load(\n",
    "    \"./tasks/task2/results_MCP_signal_recovery.npy\")\n",
    "\n",
    "results_MCP_signal_recovery_mean = np.around(\n",
    "    np.mean(results_MCP_signal_recovery, 2), 3)\n",
    "results_MCP_signal_recovery_se = np.around(\n",
    "    np.std(results_MCP_signal_recovery, 2), 3)\n",
    "print(\"Sample mean:\")\n",
    "print(\n",
    "    \"2-norm: \",\n",
    "    pasta(results_MCP_signal_recovery_mean[..., 0],\n",
    "          results_MCP_signal_recovery_se[..., 0]))\n",
    "print(\n",
    "    \"infinity-norm: \",\n",
    "    pasta(results_MCP_signal_recovery_mean[..., 1],\n",
    "          results_MCP_signal_recovery_se[..., 1]))\n",
    "print(\n",
    "    \"PPV: \",\n",
    "    pasta(results_MCP_signal_recovery_mean[..., 2],\n",
    "          results_MCP_signal_recovery_se[..., 2]))\n",
    "print(\n",
    "    \"NPV: \",\n",
    "    pasta(results_MCP_signal_recovery_mean[..., 3],\n",
    "          results_MCP_signal_recovery_se[..., 3]))\n",
    "print(\n",
    "    \"active set cardi: \",\n",
    "    pasta(results_MCP_signal_recovery_mean[..., 4],\n",
    "          results_MCP_signal_recovery_se[..., 4]))\n",
    "\n",
    "# results_MCP_signal_recovery_median = cp.median(results_MCP_signal_recovery, 2)\n",
    "# print(\"Sample median:\")\n",
    "# print(\"2-norm: \",results_MCP_signal_recovery_median[...,0])\n",
    "# print(\"infinity-norm: \",results_MCP_signal_recovery_median[...,1])\n",
    "# print(\"sensitivity: \",results_MCP_signal_recovery_median[...,2])\n",
    "# print(\"specificity: \",results_MCP_signal_recovery_median[...,3])\n",
    "# results_MCP_signal_recovery_mad = mad(results_MCP_signal_recovery.get(), 2)*1.4826\n",
    "# print(\"Scaled MAD:\")\n",
    "# print(\"2-norm: \",results_MCP_signal_recovery_mad[...,0])\n",
    "# print(\"infinity-norm: \",results_MCP_signal_recovery_mad[...,1])\n",
    "# print(\"sensitivity: \",results_MCP_signal_recovery_mad[...,2])\n",
    "# print(\"specificity: \",results_MCP_signal_recovery_mad[...,3])\n",
    "\n",
    "logistic_MCP_signal_latex = pasta(results_MCP_signal_recovery_mean,\n",
    "                                  results_MCP_signal_recovery_se)"
   ]
  },
  {
   "cell_type": "markdown",
   "id": "6f99dbbf",
   "metadata": {},
   "source": [
    "### ncvreg"
   ]
  },
  {
   "cell_type": "code",
   "execution_count": 23,
   "id": "452c5ec8",
   "metadata": {
    "ExecuteTime": {
     "end_time": "2022-11-09T11:12:35.542621Z",
     "start_time": "2022-11-09T11:12:35.537898Z"
    }
   },
   "outputs": [
    {
     "name": "stdout",
     "output_type": "stream",
     "text": [
      "Sample mean:\n",
      "2-norm:  [['0.795 (0.036)' '0.829 (0.032)' '0.903 (0.038)']\n",
      " ['0.605 (0.049)' '0.674 (0.054)' '0.825 (0.057)']\n",
      " ['0.438 (0.057)' '0.533 (0.07)' '0.761 (0.071)']\n",
      " ['0.381 (0.061)' '0.48 (0.082)' '0.737 (0.077)']]\n",
      "infinity-norm:  [['2.431 (0.447)' '2.489 (0.417)' '2.717 (0.467)']\n",
      " ['2.096 (0.427)' '2.187 (0.411)' '2.624 (0.494)']\n",
      " ['1.763 (0.398)' '1.901 (0.396)' '2.575 (0.477)']\n",
      " ['1.639 (0.397)' '1.79 (0.39)' '2.558 (0.462)']]\n",
      "PPV:  [['0.372 (0.068)' '0.401 (0.106)' '0.375 (0.157)']\n",
      " ['0.43 (0.065)' '0.445 (0.106)' '0.395 (0.126)']\n",
      " ['0.463 (0.063)' '0.45 (0.104)' '0.417 (0.145)']\n",
      " ['0.502 (0.069)' '0.468 (0.095)' '0.412 (0.137)']]\n",
      "NPV:  [['0.986 (0.002)' '0.983 (0.001)' '0.978 (0.001)']\n",
      " ['0.989 (0.002)' '0.985 (0.001)' '0.979 (0.001)']\n",
      " ['0.991 (0.002)' '0.986 (0.001)' '0.98 (0.001)']\n",
      " ['0.991 (0.001)' '0.987 (0.001)' '0.98 (0.001)']]\n",
      "active set cardi:  [['120.14 (14.138)' '86.49 (12.546)' '39.41 (8.393)']\n",
      " ['134.85 (13.203)' '98.48 (14.5)' '42.47 (9.784)']\n",
      " ['130.33 (11.876)' '105.03 (13.638)' '48.81 (8.741)']\n",
      " ['124.58 (10.776)' '103.49 (12.785)' '50.64 (9.428)']]\n"
     ]
    }
   ],
   "source": [
    "results_MCP_signal_recovery = np.load(\n",
    "    \"./SCAD_MCP/logistic/R_results_MCP_signal_recovery.npy\")\n",
    "results_MCP_signal_recovery = np.reshape(results_MCP_signal_recovery,\n",
    "                                         (4, 3, 100, 5),\n",
    "                                         \"F\")  # keep array dimension true\n",
    "\n",
    "results_MCP_signal_recovery_mean = np.around(\n",
    "    np.mean(results_MCP_signal_recovery, 2), 3)\n",
    "results_MCP_signal_recovery_se = np.around(\n",
    "    np.std(results_MCP_signal_recovery, 2), 3)\n",
    "print(\"Sample mean:\")\n",
    "print(\n",
    "    \"2-norm: \",\n",
    "    pasta(results_MCP_signal_recovery_mean[..., 0],\n",
    "          results_MCP_signal_recovery_se[..., 0]))\n",
    "print(\n",
    "    \"infinity-norm: \",\n",
    "    pasta(results_MCP_signal_recovery_mean[..., 1],\n",
    "          results_MCP_signal_recovery_se[..., 1]))\n",
    "print(\n",
    "    \"PPV: \",\n",
    "    pasta(results_MCP_signal_recovery_mean[..., 2],\n",
    "          results_MCP_signal_recovery_se[..., 2]))\n",
    "print(\n",
    "    \"NPV: \",\n",
    "    pasta(results_MCP_signal_recovery_mean[..., 3],\n",
    "          results_MCP_signal_recovery_se[..., 3]))\n",
    "print(\n",
    "    \"active set cardi: \",\n",
    "    pasta(results_SCAD_signal_recovery_mean[..., 4],\n",
    "          results_MCP_signal_recovery_se[..., 4]))\n",
    "\n",
    "# results_MCP_signal_recovery_median = cp.median(results_MCP_signal_recovery, 2)\n",
    "# print(\"Sample median:\")\n",
    "# print(\"2-norm: \",results_MCP_signal_recovery_median[...,0])\n",
    "# print(\"infinity-norm: \",results_MCP_signal_recovery_median[...,1])\n",
    "# print(\"sensitivity: \",results_MCP_signal_recovery_median[...,2])\n",
    "# print(\"specificity: \",results_MCP_signal_recovery_median[...,3])\n",
    "# results_MCP_signal_recovery_mad = mad(results_MCP_signal_recovery.get(), 2)*1.4826\n",
    "# print(\"Scaled MAD:\")\n",
    "# print(\"2-norm: \",results_MCP_signal_recovery_mad[...,0])\n",
    "# print(\"infinity-norm: \",results_MCP_signal_recovery_mad[...,1])\n",
    "# print(\"sensitivity: \",results_MCP_signal_recovery_mad[...,2])\n",
    "# print(\"specificity: \",results_MCP_signal_recovery_mad[...,3])\n",
    "\n",
    "ncvreg_logistic_MCP_signal_latex = pasta(results_MCP_signal_recovery_mean,\n",
    "                                         results_MCP_signal_recovery_se)"
   ]
  },
  {
   "cell_type": "markdown",
   "id": "b7080165",
   "metadata": {},
   "source": [
    "### plot"
   ]
  },
  {
   "cell_type": "code",
   "execution_count": 24,
   "id": "f05676cb",
   "metadata": {
    "ExecuteTime": {
     "end_time": "2022-11-09T11:12:36.613848Z",
     "start_time": "2022-11-09T11:12:35.544150Z"
    }
   },
   "outputs": [
    {
     "name": "stderr",
     "output_type": "stream",
     "text": [
      "The PostScript backend does not support transparency; partially transparent artists will be rendered opaque.\n"
     ]
    },
    {
     "data": {
      "image/png": "[encoded data removed]",
      "text/plain": [
       "<Figure size 640x480 with 12 Axes>"
      ]
     },
     "metadata": {},
     "output_type": "display_data"
    }
   ],
   "source": [
    "AG = np.load(\"./tasks/task2/results_MCP_signal_recovery.npy\")\n",
    "AG_mean = np.mean(AG, 2)\n",
    "AG_se = np.std(AG, 2)\n",
    "ncvreg = np.load(\"./SCAD_MCP/logistic/R_results_MCP_signal_recovery.npy\")\n",
    "ncvreg = np.reshape(ncvreg, (4, 3, 100, 5), \"F\")  # keep array dimension true\n",
    "ncvreg_mean = np.mean(ncvreg, 2)\n",
    "ncvreg_se = np.std(ncvreg, 2)\n",
    "\n",
    "fig, axes = plt.subplots(3, 4)\n",
    "\n",
    "tau = np.array([.1, .5, .9])\n",
    "SNR = np.array([1, 3, 7, 10])\n",
    "\n",
    "for i, j in itertools.product(range(3), range(4)):\n",
    "    data = np.array([[AG_mean[j, i, 2], ncvreg_mean[j, i, 2]],\n",
    "                     [AG_mean[j, i, 3], ncvreg_mean[j, i, 3]]])\n",
    "    data_se = np.array([[AG_se[j, i, 2], ncvreg_se[j, i, 2]],\n",
    "                        [AG_se[j, i, 3], ncvreg_se[j, i, 3]]])\n",
    "    length = len(data)\n",
    "    x_labels = [\"PPV\", \"NPV\"]\n",
    "    width = 0.35  # width of bar\n",
    "    x = np.arange(length)\n",
    "    axes[i, j].bar(x,\n",
    "                   data[:, 0],\n",
    "                   width,\n",
    "                   color='#000080',\n",
    "                   label='AG',\n",
    "                   yerr=data_se[:, 0])\n",
    "    axes[i, j].bar(x + width,\n",
    "                   data[:, 1],\n",
    "                   width,\n",
    "                   color='#73C2FB',\n",
    "                   label='ncvreg',\n",
    "                   yerr=data_se[:, 1])\n",
    "    #     ax.set_ylabel('Proportion')\n",
    "    #     ax.set_ylim(0,75)\n",
    "    axes[i, j].set_xticks(x + width / 2)\n",
    "    axes[i, j].set_xticklabels(x_labels)\n",
    "    axes[i, j].set_xlabel('Predicted Values')\n",
    "    #     ax.set_title('Title')\n",
    "    #     axes[i,j].legend()\n",
    "\n",
    "    if i == 2 and j != 0:\n",
    "        axes[i, j].set(xticklabels=x_labels,\n",
    "                       xlabel=r\"$SNR=$\" + str(SNR[j]),\n",
    "                       ylabel=None)  # yticklabels=[] to remove y scales\n",
    "    if j == 0 and i != 2:\n",
    "        axes[i, j].set(xticklabels=x_labels,\n",
    "                       xlabel=None,\n",
    "                       ylabel=r\"$\\tau=$\" + str(tau[i]))\n",
    "    axes[2, 0].set(xticklabels=x_labels,\n",
    "                   xlabel=r\"$SNR=$\" + str(SNR[0]),\n",
    "                   ylabel=r\"$\\tau=$\" + str(tau[2]))\n",
    "    if i != 2 and j != 0:\n",
    "        axes[i, j].set(xticklabels=x_labels, xlabel=None, ylabel=None)\n",
    "\n",
    "for ax in axes.flat:\n",
    "    ax.label_outer()\n",
    "\n",
    "# plt.grid(True, 'major', 'y', ls='--', lw=.5, c='k', alpha=.3)\n",
    "fig.tight_layout(pad=.2)\n",
    "handles, labels = axes[0, 0].get_legend_handles_labels()\n",
    "fig.legend(handles,\n",
    "           labels,\n",
    "           loc='upper left',\n",
    "           ncol=4,\n",
    "           bbox_to_anchor=(.35, 1.075))\n",
    "\n",
    "plt.tight_layout()\n",
    "plt.savefig('logistic-MCP-pv.eps', format='eps', dpi=600, bbox_inches='tight')\n",
    "plt.show()"
   ]
  },
  {
   "cell_type": "markdown",
   "id": "c9a3e350",
   "metadata": {},
   "source": [
    "# LaTeX output"
   ]
  },
  {
   "cell_type": "code",
   "execution_count": 25,
   "id": "4cbafcac",
   "metadata": {
    "ExecuteTime": {
     "end_time": "2022-11-09T11:12:36.617601Z",
     "start_time": "2022-11-09T11:12:36.614786Z"
    }
   },
   "outputs": [],
   "source": [
    "def merge_row_by_row(A, B):\n",
    "    nrow, ncol = A.shape\n",
    "    _nrow, _ncol = B.shape\n",
    "    assert nrow == _nrow and ncol == _ncol\n",
    "    C = np.empty((nrow * 2, ncol), dtype=A.dtype)\n",
    "    C[np.arange(nrow) * 2, :] = A\n",
    "    C[np.arange(nrow) * 2 + 1, :] = B\n",
    "    return C\n",
    "\n",
    "\n",
    "def dollar(x):\n",
    "    return \"$\" + x + \"$\"\n",
    "\n",
    "\n",
    "def output_latex(A, B):\n",
    "    output = pd.DataFrame(merge_row_by_row(A, B))\n",
    "    return output.to_latex(formatters=[dollar, dollar, dollar],\n",
    "                           header=[r\"$\\tau$=0.1\", r\"$0.5$\", r\"$0.9$\"])"
   ]
  },
  {
   "cell_type": "code",
   "execution_count": 26,
   "id": "1227f966",
   "metadata": {
    "ExecuteTime": {
     "end_time": "2022-11-09T11:12:36.632384Z",
     "start_time": "2022-11-09T11:12:36.618261Z"
    },
    "scrolled": false
   },
   "outputs": [
    {
     "name": "stdout",
     "output_type": "stream",
     "text": [
      "signal recovery for LM SCAD\n",
      "\\begin{tabular}{llll}\n",
      "\\toprule\n",
      "{} &       \\$\\textbackslash tau\\$=0.1 &            \\$0.5\\$ &            \\$0.9\\$ \\\\\n",
      "\\midrule\n",
      "0 &  \\$0.128 (0.021)\\$ &  \\$0.521 (0.114)\\$ &  \\$2.839 (0.497)\\$ \\\\\n",
      "1 &   \\$0.131 (0.02)\\$ &  \\$0.485 (0.102)\\$ &  \\$2.929 (0.525)\\$ \\\\\n",
      "2 &   \\$0.05 (0.009)\\$ &  \\$0.156 (0.035)\\$ &  \\$2.075 (0.339)\\$ \\\\\n",
      "3 &  \\$0.052 (0.009)\\$ &  \\$0.156 (0.028)\\$ &  \\$2.087 (0.357)\\$ \\\\\n",
      "4 &  \\$0.022 (0.004)\\$ &  \\$0.085 (0.014)\\$ &  \\$1.278 (0.262)\\$ \\\\\n",
      "5 &  \\$0.021 (0.004)\\$ &  \\$0.083 (0.015)\\$ &    \\$1.3 (0.262)\\$ \\\\\n",
      "6 &  \\$0.016 (0.003)\\$ &  \\$0.065 (0.011)\\$ &  \\$1.163 (0.207)\\$ \\\\\n",
      "7 &  \\$0.015 (0.003)\\$ &  \\$0.063 (0.013)\\$ &   \\$1.167 (0.22)\\$ \\\\\n",
      "\\bottomrule\n",
      "\\end{tabular}\n",
      "\n",
      "\\begin{tabular}{llll}\n",
      "\\toprule\n",
      "{} &       \\$\\textbackslash tau\\$=0.1 &            \\$0.5\\$ &            \\$0.9\\$ \\\\\n",
      "\\midrule\n",
      "0 &  \\$0.747 (0.134)\\$ &  \\$0.622 (0.188)\\$ &   \\$0.488 (0.25)\\$ \\\\\n",
      "1 &  \\$0.255 (0.061)\\$ &  \\$0.287 (0.132)\\$ &   \\$0.286 (0.19)\\$ \\\\\n",
      "2 &  \\$0.681 (0.162)\\$ &  \\$0.551 (0.206)\\$ &  \\$0.327 (0.234)\\$ \\\\\n",
      "3 &  \\$0.282 (0.079)\\$ &  \\$0.307 (0.098)\\$ &  \\$0.275 (0.148)\\$ \\\\\n",
      "4 &   \\$0.58 (0.138)\\$ &   \\$0.42 (0.257)\\$ &  \\$0.197 (0.141)\\$ \\\\\n",
      "5 &   \\$0.32 (0.065)\\$ &  \\$0.344 (0.152)\\$ &  \\$0.175 (0.101)\\$ \\\\\n",
      "6 &  \\$0.528 (0.272)\\$ &   \\$0.437 (0.09)\\$ &  \\$0.211 (0.081)\\$ \\\\\n",
      "7 &  \\$0.349 (0.127)\\$ &    \\$0.409 (0.1)\\$ &  \\$0.206 (0.047)\\$ \\\\\n",
      "\\bottomrule\n",
      "\\end{tabular}\n",
      "\n",
      "\\begin{tabular}{llll}\n",
      "\\toprule\n",
      "{} &       \\$\\textbackslash tau\\$=0.1 &            \\$0.5\\$ &            \\$0.9\\$ \\\\\n",
      "\\midrule\n",
      "0 &  \\$0.984 (0.001)\\$ &  \\$0.984 (0.001)\\$ &  \\$0.979 (0.001)\\$ \\\\\n",
      "1 &  \\$0.987 (0.001)\\$ &  \\$0.986 (0.001)\\$ &   \\$0.98 (0.001)\\$ \\\\\n",
      "2 &  \\$0.989 (0.001)\\$ &  \\$0.988 (0.002)\\$ &   \\$0.98 (0.001)\\$ \\\\\n",
      "3 &   \\$0.99 (0.001)\\$ &  \\$0.989 (0.001)\\$ &   \\$0.98 (0.001)\\$ \\\\\n",
      "4 &  \\$0.992 (0.001)\\$ &  \\$0.991 (0.001)\\$ &  \\$0.981 (0.001)\\$ \\\\\n",
      "5 &  \\$0.993 (0.001)\\$ &  \\$0.991 (0.001)\\$ &  \\$0.981 (0.001)\\$ \\\\\n",
      "6 &  \\$0.993 (0.001)\\$ &  \\$0.992 (0.001)\\$ &  \\$0.982 (0.001)\\$ \\\\\n",
      "7 &  \\$0.993 (0.001)\\$ &  \\$0.992 (0.001)\\$ &  \\$0.982 (0.001)\\$ \\\\\n",
      "\\bottomrule\n",
      "\\end{tabular}\n",
      "\n",
      "\\begin{tabular}{llll}\n",
      "\\toprule\n",
      "{} &         \\$\\textbackslash tau\\$=0.1 &              \\$0.5\\$ &             \\$0.9\\$ \\\\\n",
      "\\midrule\n",
      "0 &     \\$25.82 (8.08)\\$ &   \\$31.58 (17.056)\\$ &  \\$23.11 (15.166)\\$ \\\\\n",
      "1 &  \\$100.88 (25.582)\\$ &   \\$94.32 (41.572)\\$ &  \\$42.01 (20.592)\\$ \\\\\n",
      "2 &   \\$42.78 (14.003)\\$ &   \\$55.48 (20.653)\\$ &  \\$42.83 (16.308)\\$ \\\\\n",
      "3 &  \\$120.17 (33.554)\\$ &  \\$101.75 (29.498)\\$ &  \\$46.72 (16.252)\\$ \\\\\n",
      "4 &   \\$61.89 (21.881)\\$ &   \\$97.88 (36.736)\\$ &  \\$86.71 (26.567)\\$ \\\\\n",
      "5 &   \\$115.4 (23.845)\\$ &  \\$107.19 (31.445)\\$ &    \\$89.74 (23.1)\\$ \\\\\n",
      "6 &  \\$101.21 (66.968)\\$ &   \\$81.17 (25.325)\\$ &   \\$70.8 (11.642)\\$ \\\\\n",
      "7 &   \\$123.5 (52.077)\\$ &   \\$90.58 (40.419)\\$ &  \\$71.47 (10.954)\\$ \\\\\n",
      "\\bottomrule\n",
      "\\end{tabular}\n",
      "\n"
     ]
    }
   ],
   "source": [
    "print(\"signal recovery for LM SCAD\")\n",
    "for j in [0, 2, 3, 4]:\n",
    "    print(\n",
    "        output_latex(LM_SCAD_signal_latex[..., j],\n",
    "                     ncvreg_LM_SCAD_signal_latex[..., j]))"
   ]
  },
  {
   "cell_type": "code",
   "execution_count": 27,
   "id": "1bdf43c0",
   "metadata": {
    "ExecuteTime": {
     "end_time": "2022-11-09T11:12:36.641036Z",
     "start_time": "2022-11-09T11:12:36.633437Z"
    }
   },
   "outputs": [
    {
     "name": "stdout",
     "output_type": "stream",
     "text": [
      "signal recovery for LM MCP\n",
      "\\begin{tabular}{llll}\n",
      "\\toprule\n",
      "{} &       \\$\\textbackslash tau\\$=0.1 &            \\$0.5\\$ &            \\$0.9\\$ \\\\\n",
      "\\midrule\n",
      "0 &  \\$0.133 (0.022)\\$ &  \\$0.563 (0.124)\\$ &   \\$2.839 (0.39)\\$ \\\\\n",
      "1 &  \\$0.126 (0.019)\\$ &  \\$0.494 (0.112)\\$ &   \\$2.86 (0.427)\\$ \\\\\n",
      "2 &   \\$0.049 (0.01)\\$ &  \\$0.169 (0.034)\\$ &  \\$1.997 (0.329)\\$ \\\\\n",
      "3 &  \\$0.048 (0.009)\\$ &  \\$0.161 (0.032)\\$ &    \\$1.92 (0.34)\\$ \\\\\n",
      "4 &  \\$0.021 (0.004)\\$ &  \\$0.088 (0.016)\\$ &  \\$1.503 (0.329)\\$ \\\\\n",
      "5 &   \\$0.02 (0.004)\\$ &  \\$0.086 (0.017)\\$ &  \\$1.416 (0.302)\\$ \\\\\n",
      "6 &  \\$0.014 (0.003)\\$ &  \\$0.059 (0.011)\\$ &  \\$1.084 (0.272)\\$ \\\\\n",
      "7 &  \\$0.014 (0.003)\\$ &  \\$0.059 (0.013)\\$ &  \\$1.134 (0.248)\\$ \\\\\n",
      "\\bottomrule\n",
      "\\end{tabular}\n",
      "\n",
      "\\begin{tabular}{llll}\n",
      "\\toprule\n",
      "{} &       \\$\\textbackslash tau\\$=0.1 &            \\$0.5\\$ &            \\$0.9\\$ \\\\\n",
      "\\midrule\n",
      "0 &   \\$0.85 (0.081)\\$ &  \\$0.744 (0.161)\\$ &  \\$0.616 (0.208)\\$ \\\\\n",
      "1 &  \\$0.435 (0.085)\\$ &  \\$0.407 (0.135)\\$ &  \\$0.387 (0.154)\\$ \\\\\n",
      "2 &  \\$0.842 (0.119)\\$ &   \\$0.732 (0.21)\\$ &  \\$0.506 (0.286)\\$ \\\\\n",
      "3 &  \\$0.505 (0.112)\\$ &  \\$0.514 (0.121)\\$ &   \\$0.366 (0.18)\\$ \\\\\n",
      "4 &  \\$0.761 (0.175)\\$ &  \\$0.646 (0.293)\\$ &  \\$0.505 (0.218)\\$ \\\\\n",
      "5 &  \\$0.541 (0.128)\\$ &  \\$0.547 (0.173)\\$ &  \\$0.483 (0.201)\\$ \\\\\n",
      "6 &  \\$0.801 (0.099)\\$ &  \\$0.489 (0.134)\\$ &  \\$0.375 (0.225)\\$ \\\\\n",
      "7 &  \\$0.559 (0.107)\\$ &  \\$0.476 (0.135)\\$ &  \\$0.377 (0.225)\\$ \\\\\n",
      "\\bottomrule\n",
      "\\end{tabular}\n",
      "\n",
      "\\begin{tabular}{llll}\n",
      "\\toprule\n",
      "{} &       \\$\\textbackslash tau\\$=0.1 &            \\$0.5\\$ &            \\$0.9\\$ \\\\\n",
      "\\midrule\n",
      "0 &  \\$0.983 (0.001)\\$ &  \\$0.982 (0.001)\\$ &  \\$0.979 (0.001)\\$ \\\\\n",
      "1 &  \\$0.986 (0.001)\\$ &  \\$0.984 (0.001)\\$ &    \\$0.979 (0.0)\\$ \\\\\n",
      "2 &  \\$0.988 (0.001)\\$ &  \\$0.986 (0.001)\\$ &   \\$0.98 (0.001)\\$ \\\\\n",
      "3 &  \\$0.989 (0.001)\\$ &  \\$0.987 (0.001)\\$ &   \\$0.98 (0.001)\\$ \\\\\n",
      "4 &  \\$0.991 (0.001)\\$ &  \\$0.989 (0.001)\\$ &  \\$0.981 (0.001)\\$ \\\\\n",
      "5 &  \\$0.992 (0.001)\\$ &  \\$0.989 (0.001)\\$ &  \\$0.981 (0.001)\\$ \\\\\n",
      "6 &  \\$0.992 (0.001)\\$ &   \\$0.99 (0.001)\\$ &  \\$0.982 (0.001)\\$ \\\\\n",
      "7 &  \\$0.993 (0.001)\\$ &   \\$0.99 (0.001)\\$ &  \\$0.982 (0.001)\\$ \\\\\n",
      "\\bottomrule\n",
      "\\end{tabular}\n",
      "\n",
      "\\begin{tabular}{llll}\n",
      "\\toprule\n",
      "{} &        \\$\\textbackslash tau\\$=0.1 &             \\$0.5\\$ &             \\$0.9\\$ \\\\\n",
      "\\midrule\n",
      "0 &    \\$19.7 (4.584)\\$ &     \\$20.6 (9.45)\\$ &    \\$12.5 (8.163)\\$ \\\\\n",
      "1 &  \\$51.61 (13.612)\\$ &  \\$47.32 (16.093)\\$ &  \\$20.25 (11.411)\\$ \\\\\n",
      "2 &   \\$30.55 (8.437)\\$ &   \\$34.52 (16.44)\\$ &  \\$25.37 (14.373)\\$ \\\\\n",
      "3 &  \\$60.14 (15.873)\\$ &  \\$48.08 (13.783)\\$ &   \\$31.0 (13.981)\\$ \\\\\n",
      "4 &  \\$44.45 (14.273)\\$ &  \\$56.95 (32.804)\\$ &  \\$31.96 (25.048)\\$ \\\\\n",
      "5 &   \\$66.7 (20.364)\\$ &  \\$58.36 (24.633)\\$ &  \\$33.38 (25.617)\\$ \\\\\n",
      "6 &   \\$43.23 (11.26)\\$ &  \\$64.65 (12.923)\\$ &  \\$46.58 (18.186)\\$ \\\\\n",
      "7 &   \\$65.36 (13.06)\\$ &  \\$67.16 (15.483)\\$ &  \\$46.07 (19.223)\\$ \\\\\n",
      "\\bottomrule\n",
      "\\end{tabular}\n",
      "\n"
     ]
    }
   ],
   "source": [
    "print(\"signal recovery for LM MCP\")\n",
    "for j in [0, 2, 3, 4]:\n",
    "    print(\n",
    "        output_latex(LM_MCP_signal_latex[..., j],\n",
    "                     ncvreg_LM_MCP_signal_latex[..., j]))"
   ]
  },
  {
   "cell_type": "code",
   "execution_count": 28,
   "id": "95020702",
   "metadata": {
    "ExecuteTime": {
     "end_time": "2022-11-09T11:12:36.650119Z",
     "start_time": "2022-11-09T11:12:36.642688Z"
    }
   },
   "outputs": [
    {
     "name": "stdout",
     "output_type": "stream",
     "text": [
      "signal recovery for logistic SCAD\n",
      "\\begin{tabular}{llll}\n",
      "\\toprule\n",
      "{} &       \\$\\textbackslash tau\\$=0.1 &            \\$0.5\\$ &            \\$0.9\\$ \\\\\n",
      "\\midrule\n",
      "0 &  \\$0.768 (0.047)\\$ &   \\$0.81 (0.041)\\$ &   \\$0.896 (0.04)\\$ \\\\\n",
      "1 &  \\$0.803 (0.033)\\$ &   \\$0.84 (0.033)\\$ &  \\$0.903 (0.037)\\$ \\\\\n",
      "2 &  \\$0.556 (0.057)\\$ &  \\$0.656 (0.054)\\$ &  \\$0.839 (0.056)\\$ \\\\\n",
      "3 &  \\$0.603 (0.053)\\$ &  \\$0.682 (0.055)\\$ &  \\$0.813 (0.053)\\$ \\\\\n",
      "4 &  \\$0.377 (0.076)\\$ &  \\$0.521 (0.073)\\$ &  \\$0.779 (0.072)\\$ \\\\\n",
      "5 &  \\$0.438 (0.054)\\$ &  \\$0.537 (0.074)\\$ &  \\$0.735 (0.074)\\$ \\\\\n",
      "6 &  \\$0.311 (0.077)\\$ &  \\$0.474 (0.073)\\$ &  \\$0.757 (0.079)\\$ \\\\\n",
      "7 &  \\$0.377 (0.064)\\$ &  \\$0.481 (0.079)\\$ &  \\$0.712 (0.078)\\$ \\\\\n",
      "\\bottomrule\n",
      "\\end{tabular}\n",
      "\n",
      "\\begin{tabular}{llll}\n",
      "\\toprule\n",
      "{} &       \\$\\textbackslash tau\\$=0.1 &            \\$0.5\\$ &            \\$0.9\\$ \\\\\n",
      "\\midrule\n",
      "0 &    \\$0.8 (0.079)\\$ &    \\$0.779 (0.1)\\$ &  \\$0.697 (0.126)\\$ \\\\\n",
      "1 &  \\$0.221 (0.045)\\$ &  \\$0.265 (0.079)\\$ &  \\$0.309 (0.169)\\$ \\\\\n",
      "2 &  \\$0.875 (0.054)\\$ &  \\$0.859 (0.065)\\$ &  \\$0.765 (0.096)\\$ \\\\\n",
      "3 &  \\$0.244 (0.052)\\$ &  \\$0.273 (0.072)\\$ &  \\$0.273 (0.133)\\$ \\\\\n",
      "4 &  \\$0.901 (0.052)\\$ &  \\$0.881 (0.057)\\$ &  \\$0.788 (0.098)\\$ \\\\\n",
      "5 &    \\$0.27 (0.04)\\$ &  \\$0.271 (0.079)\\$ &  \\$0.267 (0.136)\\$ \\\\\n",
      "6 &  \\$0.915 (0.048)\\$ &  \\$0.899 (0.054)\\$ &  \\$0.789 (0.097)\\$ \\\\\n",
      "7 &    \\$0.29 (0.05)\\$ &  \\$0.279 (0.072)\\$ &   \\$0.26 (0.123)\\$ \\\\\n",
      "\\bottomrule\n",
      "\\end{tabular}\n",
      "\n",
      "\\begin{tabular}{llll}\n",
      "\\toprule\n",
      "{} &       \\$\\textbackslash tau\\$=0.1 &            \\$0.5\\$ &            \\$0.9\\$ \\\\\n",
      "\\midrule\n",
      "0 &  \\$0.982 (0.001)\\$ &   \\$0.98 (0.001)\\$ &  \\$0.978 (0.001)\\$ \\\\\n",
      "1 &  \\$0.987 (0.002)\\$ &  \\$0.985 (0.002)\\$ &   \\$0.98 (0.001)\\$ \\\\\n",
      "2 &  \\$0.985 (0.002)\\$ &  \\$0.982 (0.001)\\$ &  \\$0.979 (0.001)\\$ \\\\\n",
      "3 &   \\$0.99 (0.002)\\$ &  \\$0.987 (0.002)\\$ &   \\$0.98 (0.001)\\$ \\\\\n",
      "4 &  \\$0.987 (0.002)\\$ &  \\$0.984 (0.001)\\$ &  \\$0.979 (0.001)\\$ \\\\\n",
      "5 &  \\$0.992 (0.001)\\$ &  \\$0.988 (0.001)\\$ &   \\$0.98 (0.001)\\$ \\\\\n",
      "6 &  \\$0.988 (0.002)\\$ &  \\$0.984 (0.001)\\$ &  \\$0.979 (0.001)\\$ \\\\\n",
      "7 &  \\$0.992 (0.001)\\$ &  \\$0.988 (0.001)\\$ &   \\$0.98 (0.001)\\$ \\\\\n",
      "\\bottomrule\n",
      "\\end{tabular}\n",
      "\n",
      "\\begin{tabular}{llll}\n",
      "\\toprule\n",
      "{} &         \\$\\textbackslash tau\\$=0.1 &              \\$0.5\\$ &             \\$0.9\\$ \\\\\n",
      "\\midrule\n",
      "0 &     \\$17.07 (3.91)\\$ &     \\$13.4 (3.365)\\$ &    \\$7.62 (2.134)\\$ \\\\\n",
      "1 &  \\$120.14 (28.882)\\$ &   \\$86.49 (24.421)\\$ &  \\$39.41 (19.448)\\$ \\\\\n",
      "2 &    \\$23.34 (4.203)\\$ &    \\$16.59 (3.459)\\$ &    \\$8.69 (2.082)\\$ \\\\\n",
      "3 &   \\$134.85 (29.96)\\$ &   \\$98.48 (28.434)\\$ &  \\$42.47 (15.014)\\$ \\\\\n",
      "4 &     \\$26.98 (4.58)\\$ &    \\$19.46 (3.659)\\$ &    \\$9.79 (2.246)\\$ \\\\\n",
      "5 &  \\$130.33 (22.255)\\$ &  \\$105.03 (28.123)\\$ &  \\$48.81 (19.059)\\$ \\\\\n",
      "6 &    \\$27.95 (4.462)\\$ &    \\$19.57 (3.141)\\$ &   \\$10.24 (2.346)\\$ \\\\\n",
      "7 &  \\$124.58 (23.016)\\$ &   \\$103.49 (27.66)\\$ &  \\$50.64 (21.138)\\$ \\\\\n",
      "\\bottomrule\n",
      "\\end{tabular}\n",
      "\n"
     ]
    }
   ],
   "source": [
    "print(\"signal recovery for logistic SCAD\")\n",
    "for j in [0, 2, 3, 4]:\n",
    "    print(\n",
    "        output_latex(logistic_SCAD_signal_latex[..., j],\n",
    "                     ncvreg_logistic_SCAD_signal_latex[..., j]))"
   ]
  },
  {
   "cell_type": "code",
   "execution_count": 29,
   "id": "425b3d9a",
   "metadata": {
    "ExecuteTime": {
     "end_time": "2022-11-09T11:12:36.657350Z",
     "start_time": "2022-11-09T11:12:36.650861Z"
    }
   },
   "outputs": [
    {
     "name": "stdout",
     "output_type": "stream",
     "text": [
      "signal recovery for logistic MCP\n",
      "\\begin{tabular}{llll}\n",
      "\\toprule\n",
      "{} &       \\$\\textbackslash tau\\$=0.1 &            \\$0.5\\$ &            \\$0.9\\$ \\\\\n",
      "\\midrule\n",
      "0 &  \\$0.769 (0.044)\\$ &  \\$0.808 (0.041)\\$ &  \\$0.897 (0.043)\\$ \\\\\n",
      "1 &  \\$0.795 (0.036)\\$ &  \\$0.829 (0.032)\\$ &  \\$0.903 (0.038)\\$ \\\\\n",
      "2 &  \\$0.555 (0.058)\\$ &  \\$0.654 (0.053)\\$ &  \\$0.834 (0.054)\\$ \\\\\n",
      "3 &  \\$0.605 (0.049)\\$ &  \\$0.674 (0.054)\\$ &  \\$0.825 (0.057)\\$ \\\\\n",
      "4 &   \\$0.383 (0.08)\\$ &  \\$0.521 (0.069)\\$ &   \\$0.779 (0.07)\\$ \\\\\n",
      "5 &  \\$0.438 (0.057)\\$ &   \\$0.533 (0.07)\\$ &  \\$0.761 (0.071)\\$ \\\\\n",
      "6 &   \\$0.31 (0.079)\\$ &  \\$0.469 (0.073)\\$ &  \\$0.753 (0.076)\\$ \\\\\n",
      "7 &  \\$0.381 (0.061)\\$ &   \\$0.48 (0.082)\\$ &  \\$0.737 (0.077)\\$ \\\\\n",
      "\\bottomrule\n",
      "\\end{tabular}\n",
      "\n",
      "\\begin{tabular}{llll}\n",
      "\\toprule\n",
      "{} &       \\$\\textbackslash tau\\$=0.1 &            \\$0.5\\$ &            \\$0.9\\$ \\\\\n",
      "\\midrule\n",
      "0 &   \\$0.879 (0.06)\\$ &  \\$0.859 (0.058)\\$ &  \\$0.779 (0.087)\\$ \\\\\n",
      "1 &  \\$0.372 (0.068)\\$ &  \\$0.401 (0.106)\\$ &  \\$0.375 (0.157)\\$ \\\\\n",
      "2 &   \\$0.906 (0.05)\\$ &   \\$0.889 (0.05)\\$ &  \\$0.805 (0.086)\\$ \\\\\n",
      "3 &   \\$0.43 (0.065)\\$ &  \\$0.445 (0.106)\\$ &  \\$0.395 (0.126)\\$ \\\\\n",
      "4 &  \\$0.919 (0.044)\\$ &   \\$0.903 (0.05)\\$ &  \\$0.809 (0.102)\\$ \\\\\n",
      "5 &  \\$0.463 (0.063)\\$ &   \\$0.45 (0.104)\\$ &  \\$0.417 (0.145)\\$ \\\\\n",
      "6 &  \\$0.918 (0.045)\\$ &  \\$0.911 (0.038)\\$ &  \\$0.804 (0.111)\\$ \\\\\n",
      "7 &  \\$0.502 (0.069)\\$ &  \\$0.468 (0.095)\\$ &  \\$0.412 (0.137)\\$ \\\\\n",
      "\\bottomrule\n",
      "\\end{tabular}\n",
      "\n",
      "\\begin{tabular}{llll}\n",
      "\\toprule\n",
      "{} &       \\$\\textbackslash tau\\$=0.1 &            \\$0.5\\$ &            \\$0.9\\$ \\\\\n",
      "\\midrule\n",
      "0 &  \\$0.981 (0.001)\\$ &   \\$0.98 (0.001)\\$ &  \\$0.978 (0.001)\\$ \\\\\n",
      "1 &  \\$0.986 (0.002)\\$ &  \\$0.983 (0.001)\\$ &  \\$0.978 (0.001)\\$ \\\\\n",
      "2 &  \\$0.985 (0.002)\\$ &  \\$0.982 (0.001)\\$ &  \\$0.979 (0.001)\\$ \\\\\n",
      "3 &  \\$0.989 (0.002)\\$ &  \\$0.985 (0.001)\\$ &  \\$0.979 (0.001)\\$ \\\\\n",
      "4 &  \\$0.987 (0.002)\\$ &  \\$0.984 (0.001)\\$ &   \\$0.98 (0.001)\\$ \\\\\n",
      "5 &  \\$0.991 (0.002)\\$ &  \\$0.986 (0.001)\\$ &   \\$0.98 (0.001)\\$ \\\\\n",
      "6 &  \\$0.988 (0.002)\\$ &  \\$0.984 (0.001)\\$ &   \\$0.98 (0.001)\\$ \\\\\n",
      "7 &  \\$0.991 (0.001)\\$ &  \\$0.987 (0.001)\\$ &   \\$0.98 (0.001)\\$ \\\\\n",
      "\\bottomrule\n",
      "\\end{tabular}\n",
      "\n",
      "\\begin{tabular}{llll}\n",
      "\\toprule\n",
      "{} &        \\$\\textbackslash tau\\$=0.1 &             \\$0.5\\$ &            \\$0.9\\$ \\\\\n",
      "\\midrule\n",
      "0 &   \\$13.86 (3.082)\\$ &   \\$11.42 (2.776)\\$ &   \\$6.72 (1.744)\\$ \\\\\n",
      "1 &  \\$59.83 (14.138)\\$ &   \\$42.1 (12.546)\\$ &  \\$19.72 (8.393)\\$ \\\\\n",
      "2 &   \\$21.86 (4.313)\\$ &   \\$15.84 (3.036)\\$ &   \\$8.84 (1.938)\\$ \\\\\n",
      "3 &  \\$66.57 (13.203)\\$ &    \\$48.28 (14.5)\\$ &  \\$22.81 (9.784)\\$ \\\\\n",
      "4 &   \\$25.75 (4.776)\\$ &   \\$18.78 (3.189)\\$ &  \\$10.33 (2.565)\\$ \\\\\n",
      "5 &  \\$69.44 (11.876)\\$ &  \\$52.54 (13.638)\\$ &  \\$24.63 (8.741)\\$ \\\\\n",
      "6 &   \\$27.53 (4.649)\\$ &   \\$19.55 (3.093)\\$ &  \\$11.06 (2.877)\\$ \\\\\n",
      "7 &  \\$65.38 (10.776)\\$ &  \\$51.66 (12.785)\\$ &  \\$25.59 (9.428)\\$ \\\\\n",
      "\\bottomrule\n",
      "\\end{tabular}\n",
      "\n"
     ]
    }
   ],
   "source": [
    "print(\"signal recovery for logistic MCP\")\n",
    "for j in [0, 2, 3, 4]:\n",
    "    print(\n",
    "        output_latex(logistic_MCP_signal_latex[..., j],\n",
    "                     ncvreg_logistic_MCP_signal_latex[..., j]))"
   ]
  },
  {
   "cell_type": "code",
   "execution_count": null,
   "id": "a9671cbb",
   "metadata": {},
   "outputs": [],
   "source": []
  }
 ],
 "metadata": {
  "kernelspec": {
   "display_name": "Python 3 (ipykernel)",
   "language": "python",
   "name": "python3"
  },
  "language_info": {
   "codemirror_mode": {
    "name": "ipython",
    "version": 3
   },
   "file_extension": ".py",
   "mimetype": "text/x-python",
   "name": "python",
   "nbconvert_exporter": "python",
   "pygments_lexer": "ipython3",
   "version": "3.9.13"
  },
  "latex_envs": {
   "LaTeX_envs_menu_present": true,
   "autoclose": false,
   "autocomplete": true,
   "bibliofile": "biblio.bib",
   "cite_by": "apalike",
   "current_citInitial": 1,
   "eqLabelWithNumbers": true,
   "eqNumInitial": 1,
   "hotkeys": {
    "equation": "Ctrl-E",
    "itemize": "Ctrl-I"
   },
   "labels_anchors": false,
   "latex_user_defs": false,
   "report_style_numbering": false,
   "user_envs_cfg": false
  },
  "nbTranslate": {
   "displayLangs": [
    "*"
   ],
   "hotkey": "alt-t",
   "langInMainMenu": true,
   "sourceLang": "en",
   "targetLang": "fr",
   "useGoogleTranslate": true
  },
  "toc": {
   "base_numbering": 1,
   "nav_menu": {},
   "number_sections": true,
   "sideBar": true,
   "skip_h1_title": false,
   "title_cell": "Table of Contents",
   "title_sidebar": "Contents",
   "toc_cell": false,
   "toc_position": {},
   "toc_section_display": true,
   "toc_window_display": false
  },
  "varInspector": {
   "cols": {
    "lenName": 16,
    "lenType": 16,
    "lenVar": 40
   },
   "kernels_config": {
    "python": {
     "delete_cmd_postfix": "",
     "delete_cmd_prefix": "del ",
     "library": "var_list.py",
     "varRefreshCmd": "print(var_dic_list())"
    },
    "r": {
     "delete_cmd_postfix": ") ",
     "delete_cmd_prefix": "rm(",
     "library": "var_list.r",
     "varRefreshCmd": "cat(var_dic_list()) "
    }
   },
   "types_to_exclude": [
    "module",
    "function",
    "builtin_function_or_method",
    "instance",
    "_Feature"
   ],
   "window_display": false
  }
 },
 "nbformat": 4,
 "nbformat_minor": 5
}
