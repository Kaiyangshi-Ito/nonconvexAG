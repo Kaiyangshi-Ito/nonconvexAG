{
 "cells": [
  {
   "cell_type": "code",
   "execution_count": 1,
   "id": "90eb18f4",
   "metadata": {
    "ExecuteTime": {
     "end_time": "2022-09-22T14:21:20.195889Z",
     "start_time": "2022-09-22T14:21:09.905190Z"
    }
   },
   "outputs": [],
   "source": [
    "import os, sys\n",
    "import collections\n",
    "import numpy as np\n",
    "from scipy.special import logsumexp\n",
    "import matplotlib.markers as markers\n",
    "import matplotlib.pyplot as plt\n",
    "import seaborn as sns\n",
    "\n",
    "sns.set_style(\"ticks\")\n",
    "import timeit\n",
    "from scipy.stats import median_abs_deviation as mad\n",
    "import pandas as pd\n",
    "import multiprocessing\n",
    "import cProfile\n",
    "import itertools\n",
    "import warnings\n",
    "\n",
    "warnings.filterwarnings('ignore')  # this is just to hide all the warnings\n",
    "\n",
    "import matplotlib.pyplot as plt  # change font globally to Times\n",
    "\n",
    "plt.style.use('ggplot')\n",
    "plt.rcParams.update({\n",
    "    \"text.usetex\": True,\n",
    "    \"font.family\": \"Times New Roman\",\n",
    "    \"font.sans-serif\": [\"Times New Roman\"],\n",
    "    \"font.size\": 12\n",
    "})\n",
    "\n",
    "os.chdir(sys.path[0])  # ensure working direcotry is set same as the file"
   ]
  },
  {
   "cell_type": "code",
   "execution_count": 2,
   "id": "7d4ac541",
   "metadata": {
    "ExecuteTime": {
     "end_time": "2022-09-22T14:21:20.207672Z",
     "start_time": "2022-09-22T14:21:20.199329Z"
    }
   },
   "outputs": [],
   "source": [
    "def pasta(a, b):\n",
    "    '''\n",
    "    A function that pastes the results all together.\n",
    "    '''\n",
    "    c = a.astype(str).copy()\n",
    "    c = np.char.add(c, np.array([\" (\"] * a.size).reshape(a.shape))\n",
    "    c = np.char.add(c, b.astype(str))\n",
    "    c = np.char.add(c, np.array([\")\"] * a.size).reshape(a.shape))\n",
    "    return c"
   ]
  },
  {
   "cell_type": "markdown",
   "id": "7f38020b",
   "metadata": {},
   "source": [
    "# LM -- Speed\n",
    "## Iterations required to make same amount of descent\n",
    "### SCAD"
   ]
  },
  {
   "cell_type": "code",
   "execution_count": 3,
   "id": "225e61e9",
   "metadata": {
    "ExecuteTime": {
     "end_time": "2022-09-22T14:21:20.225719Z",
     "start_time": "2022-09-22T14:21:20.214346Z"
    }
   },
   "outputs": [
    {
     "name": "stdout",
     "output_type": "stream",
     "text": [
      "Median:\n",
      "AG:  [[  9.  14.  23.  26.]\n",
      " [ 11.  18.  32.  50.]\n",
      " [ 37.  72. 172. 432.]]\n",
      "proximal gradient:  [[  11.    26.    68.    93.5]\n",
      " [  21.    38.   116.   308. ]\n",
      " [ 104.   362.  2012.5    inf]]\n",
      "original settings:  [[ 15.  23.  38.  41.]\n",
      " [ 19.  30.  51.  76.]\n",
      " [ 60. 111. 260. 657.]]\n",
      "Scaled MAD: \n",
      "AG:  [[ 1.483  0.     1.483  1.483]\n",
      " [ 1.483  0.     1.483  1.483]\n",
      " [ 1.483  2.965  8.154 25.204]]\n",
      "proximal gradinet:  [[ 4.448  1.483  5.93   6.672]\n",
      " [ 7.413  2.224  6.672 19.274]\n",
      " [ 7.413 19.274 88.215    nan]]\n",
      "original settings:  [[ 1.483  1.483  1.483  1.483]\n",
      " [ 1.483  1.483  1.483  2.965]\n",
      " [ 2.965  4.448 11.861 37.065]]\n"
     ]
    }
   ],
   "source": [
    "SCAD_sim_results = np.load(\"./tasks/task1speed/SCAD_sim_results.npy\")\n",
    "\n",
    "SCAD_sim_results_mean = np.around(np.median(SCAD_sim_results, 2), 3)\n",
    "print(\"Median:\")\n",
    "print(\"AG: \", SCAD_sim_results_mean[..., 0])\n",
    "print(\"proximal gradient: \", SCAD_sim_results_mean[..., 1])\n",
    "print(\"original settings: \", SCAD_sim_results_mean[..., 2])\n",
    "SCAD_sim_results_se = np.around(mad(SCAD_sim_results, 2) * 1.4826, 3)\n",
    "print(\"Scaled MAD: \")\n",
    "print(\"AG: \", SCAD_sim_results_se[..., 0])\n",
    "print(\"proximal gradinet: \", SCAD_sim_results_se[..., 1])\n",
    "print(\"original settings: \", SCAD_sim_results_se[..., 2])\n",
    "\n",
    "LM_SCAD_iterations_latex = pasta(SCAD_sim_results_mean, SCAD_sim_results_se)"
   ]
  },
  {
   "cell_type": "code",
   "execution_count": 4,
   "id": "8f0ea744",
   "metadata": {
    "ExecuteTime": {
     "end_time": "2022-09-22T14:21:25.450555Z",
     "start_time": "2022-09-22T14:21:20.227169Z"
    }
   },
   "outputs": [
    {
     "name": "stderr",
     "output_type": "stream",
     "text": [
      "The PostScript backend does not support transparency; partially transparent artists will be rendered opaque.\n"
     ]
    },
    {
     "data": {
      "image/png": "[encoded data removed]",
      "text/plain": [
       "<Figure size 640x480 with 12 Axes>"
      ]
     },
     "metadata": {},
     "output_type": "display_data"
    }
   ],
   "source": [
    "fig, axes = plt.subplots(3, 4)\n",
    "\n",
    "tau = np.array([.1, .5, .9])\n",
    "N = np.array([200, 500, 1000, 3000])\n",
    "\n",
    "for i, j in itertools.product(range(3), range(4)):\n",
    "    df = pd.DataFrame(columns=[\n",
    "        'AG with suggested settings', 'proximal gradient',\n",
    "        'AG with orginal settings'\n",
    "    ],\n",
    "                      data=SCAD_sim_results[i, j, :, :3])\n",
    "    df_melted = pd.melt(df,\n",
    "                        id_vars=[],\n",
    "                        value_vars=[\n",
    "                            'AG with suggested settings',\n",
    "                            'AG with orginal settings', 'proximal gradient'\n",
    "                        ],\n",
    "                        var_name='method',\n",
    "                        value_name='k')\n",
    "    #     sns.boxplot(ax=axes[i, j], data=df_melted, x=\"method\", y=\"k\", hue=\"method\", showfliers = False)#.set_title(r'$\\tau=$'+str(tau[i])+'$, N=$'+str(N[j]))\n",
    "    sns.barplot(ax=axes[i, j],\n",
    "                data=df_melted,\n",
    "                x=\"method\",\n",
    "                y=\"k\",\n",
    "                hue=\"method\",\n",
    "                estimator=np.median,\n",
    "                ci=95,\n",
    "                dodge=False)  #, palette = \"Greys\")\n",
    "    if i == 2 and j != 0:\n",
    "        axes[i, j].set(xticklabels=[], xlabel=r\"$n=$\" + str(N[j]),\n",
    "                       ylabel=None)  # yticklabels=[] to remove y scales\n",
    "    if j == 0 and i != 2:\n",
    "        axes[i, j].set(xticklabels=[],\n",
    "                       xlabel=None,\n",
    "                       ylabel=r\"$\\tau=$\" + str(tau[i]))\n",
    "    axes[2, 0].set(xticklabels=[],\n",
    "                   xlabel=r\"$n=$\" + str(N[0]),\n",
    "                   ylabel=r\"$\\tau=$\" + str(tau[2]))\n",
    "    if i != 2 and j != 0:\n",
    "        axes[i, j].set(xticklabels=[], xlabel=None, ylabel=None)\n",
    "\n",
    "    axes[i, j].get_legend().remove()\n",
    "\n",
    "handles, labels = axes[0, 0].get_legend_handles_labels()\n",
    "fig.legend(handles,\n",
    "           labels,\n",
    "           loc='upper left',\n",
    "           ncol=3,\n",
    "           bbox_to_anchor=(-.05, 1.1))\n",
    "plt.subplots_adjust(left=None,\n",
    "                    bottom=None,\n",
    "                    right=None,\n",
    "                    top=None,\n",
    "                    wspace=.4,\n",
    "                    hspace=None)\n",
    "\n",
    "#plt.tight_layout()\n",
    "plt.savefig('LM-fig_k_SCAD.eps', format='eps', dpi=600, bbox_inches='tight')\n",
    "plt.show()"
   ]
  },
  {
   "cell_type": "markdown",
   "id": "b0a7d23f",
   "metadata": {},
   "source": [
    "### MCP"
   ]
  },
  {
   "cell_type": "code",
   "execution_count": 5,
   "id": "ce99e1b7",
   "metadata": {
    "ExecuteTime": {
     "end_time": "2022-09-22T14:21:25.456712Z",
     "start_time": "2022-09-22T14:21:25.451822Z"
    }
   },
   "outputs": [
    {
     "name": "stdout",
     "output_type": "stream",
     "text": [
      "Median:\n",
      "AG:  [[  6.   10.   17.   25. ]\n",
      " [ 10.   15.   26.   48. ]\n",
      " [ 31.   68.  152.  428.5]]\n",
      "proximal gradient:  [[   7.    16.    48.    90. ]\n",
      " [  12.    28.    94.   289.5]\n",
      " [  82.   345.  1897.5    inf]]\n",
      "original settings:  [[  9.   18.   29.   40. ]\n",
      " [ 17.   26.   42.   74.5]\n",
      " [ 50.  104.  226.5 657. ]]\n",
      "Scaled MAD: \n",
      "AG:  [[ 1.483  0.     0.     1.483]\n",
      " [ 1.483  0.741  1.483  1.483]\n",
      " [ 1.483  2.965  7.413 24.463]]\n",
      "proximal gradient:  [[ 1.483  0.     2.965  5.93 ]\n",
      " [ 2.965  1.483  5.93  17.05 ]\n",
      " [ 5.93  19.274 85.991    nan]]\n",
      "original settings:  [[ 0.     1.483  1.483  1.483]\n",
      " [ 1.483  1.483  1.483  2.224]\n",
      " [ 1.483  3.706 10.378 37.065]]\n"
     ]
    }
   ],
   "source": [
    "MCP_sim_results = np.load(\"./tasks/task1speed/MCP_sim_results.npy\")\n",
    "\n",
    "MCP_sim_results_mean = np.around(np.median(MCP_sim_results, 2), 3)\n",
    "print(\"Median:\")\n",
    "print(\"AG: \", MCP_sim_results_mean[..., 0])\n",
    "print(\"proximal gradient: \", MCP_sim_results_mean[..., 1])\n",
    "print(\"original settings: \", MCP_sim_results_mean[..., 2])\n",
    "MCP_sim_results_se = np.around(mad(MCP_sim_results, 2) * 1.4826, 3)\n",
    "print(\"Scaled MAD: \")\n",
    "print(\"AG: \", MCP_sim_results_se[..., 0])\n",
    "print(\"proximal gradient: \", MCP_sim_results_se[..., 1])\n",
    "print(\"original settings: \", MCP_sim_results_se[..., 2])\n",
    "\n",
    "LM_MCP_iterations_latex = pasta(MCP_sim_results_mean, MCP_sim_results_se)"
   ]
  },
  {
   "cell_type": "code",
   "execution_count": 6,
   "id": "d3f96e64",
   "metadata": {
    "ExecuteTime": {
     "end_time": "2022-09-22T14:21:27.485976Z",
     "start_time": "2022-09-22T14:21:25.457392Z"
    }
   },
   "outputs": [
    {
     "name": "stderr",
     "output_type": "stream",
     "text": [
      "The PostScript backend does not support transparency; partially transparent artists will be rendered opaque.\n"
     ]
    },
    {
     "data": {
      "image/png": "[encoded data removed]",
      "text/plain": [
       "<Figure size 640x480 with 12 Axes>"
      ]
     },
     "metadata": {},
     "output_type": "display_data"
    }
   ],
   "source": [
    "fig, axes = plt.subplots(3, 4)\n",
    "\n",
    "tau = np.array([.1, .5, .9])\n",
    "N = np.array([200, 500, 1000, 3000])\n",
    "\n",
    "for i, j in itertools.product(range(3), range(4)):\n",
    "    df = pd.DataFrame(columns=[\n",
    "        'AG with suggested settings', 'proximal gradient',\n",
    "        'AG with orginal settings'\n",
    "    ],\n",
    "                      data=MCP_sim_results[i, j, :, :3])\n",
    "    df_melted = pd.melt(df,\n",
    "                        id_vars=[],\n",
    "                        value_vars=[\n",
    "                            'AG with suggested settings',\n",
    "                            'AG with orginal settings', 'proximal gradient'\n",
    "                        ],\n",
    "                        var_name='method',\n",
    "                        value_name='k')\n",
    "    #     sns.boxplot(ax=axes[i, j], data=df_melted, x=\"method\", y=\"k\", hue=\"method\", showfliers = False)#.set_title(r'$\\tau=$'+str(tau[i])+'$, N=$'+str(N[j]))\n",
    "    sns.barplot(ax=axes[i, j],\n",
    "                data=df_melted,\n",
    "                x=\"method\",\n",
    "                y=\"k\",\n",
    "                hue=\"method\",\n",
    "                estimator=np.median,\n",
    "                ci=95,\n",
    "                dodge=False)  #, palette = \"Greys\")\n",
    "    if i == 2 and j != 0:\n",
    "        axes[i, j].set(xticklabels=[], xlabel=r\"$n=$\" + str(N[j]),\n",
    "                       ylabel=None)  # yticklabels=[] to remove y scales\n",
    "    if j == 0 and i != 2:\n",
    "        axes[i, j].set(xticklabels=[],\n",
    "                       xlabel=None,\n",
    "                       ylabel=r\"$\\tau=$\" + str(tau[i]))\n",
    "    axes[2, 0].set(xticklabels=[],\n",
    "                   xlabel=r\"$n=$\" + str(N[0]),\n",
    "                   ylabel=r\"$\\tau=$\" + str(tau[2]))\n",
    "    if i != 2 and j != 0:\n",
    "        axes[i, j].set(xticklabels=[], xlabel=None, ylabel=None)\n",
    "\n",
    "    axes[i, j].get_legend().remove()\n",
    "\n",
    "handles, labels = axes[0, 0].get_legend_handles_labels()\n",
    "fig.legend(handles,\n",
    "           labels,\n",
    "           loc='upper left',\n",
    "           ncol=3,\n",
    "           bbox_to_anchor=(-.05, 1.1))\n",
    "plt.subplots_adjust(left=None,\n",
    "                    bottom=None,\n",
    "                    right=None,\n",
    "                    top=None,\n",
    "                    wspace=.4,\n",
    "                    hspace=None)\n",
    "\n",
    "#plt.tight_layout()\n",
    "plt.savefig('LM-fig_k_MCP.eps', format='eps', dpi=600, bbox_inches='tight')\n",
    "plt.show()"
   ]
  },
  {
   "cell_type": "markdown",
   "id": "4b3fec2a",
   "metadata": {},
   "source": [
    "## Computing time\n",
    "### SCAD"
   ]
  },
  {
   "cell_type": "code",
   "execution_count": 7,
   "id": "1efd3bc9",
   "metadata": {
    "ExecuteTime": {
     "end_time": "2022-09-22T14:21:29.522355Z",
     "start_time": "2022-09-22T14:21:27.487311Z"
    }
   },
   "outputs": [
    {
     "name": "stdout",
     "output_type": "stream",
     "text": [
      "Median:\n",
      "AG:  [[ 0.374  0.533  1.361  1.924]\n",
      " [ 0.457  0.622  1.561  1.829]\n",
      " [ 0.959  2.609  7.614 12.124]]\n",
      "proximal gradient:  [[ 0.957  1.173  1.861 10.279]\n",
      " [ 1.299  1.435  2.336  6.481]\n",
      " [ 2.929  3.519  9.861 10.21 ]]\n",
      "coordinate descent:  [[  15.688   17.421   28.749  114.427]\n",
      " [  16.648   18.064   43.481  195.019]\n",
      " [  19.179   51.266  215.513 1084.178]]\n",
      "Scaled MAD: \n",
      "AG:  [[0.089 0.12  0.209 0.562]\n",
      " [0.081 0.119 0.135 0.222]\n",
      " [0.13  0.108 0.329 0.135]]\n",
      "proximal gradient:  [[0.256 0.435 0.538 0.277]\n",
      " [0.283 0.441 0.504 1.946]\n",
      " [0.772 0.718 0.133 0.141]]\n",
      "coordinate descent:  [[ 1.646  2.51   2.093  4.527]\n",
      " [ 2.424  2.86   1.982  8.179]\n",
      " [ 4.49   1.373  9.553 46.196]]\n"
     ]
    },
    {
     "name": "stderr",
     "output_type": "stream",
     "text": [
      "The PostScript backend does not support transparency; partially transparent artists will be rendered opaque.\n"
     ]
    },
    {
     "data": {
      "image/png": "[encoded data removed]",
      "text/plain": [
       "<Figure size 640x480 with 12 Axes>"
      ]
     },
     "metadata": {},
     "output_type": "display_data"
    }
   ],
   "source": [
    "SCAD_sim_results = np.load(\"./tasks/task1speed/SCAD_sim_results.npy\")\n",
    "\n",
    "SCAD_sim_results_mean = np.around(np.median(SCAD_sim_results, 2), 3)\n",
    "print(\"Median:\")\n",
    "print(\"AG: \", SCAD_sim_results_mean[..., 3])\n",
    "print(\"proximal gradient: \", SCAD_sim_results_mean[..., 4])\n",
    "print(\"coordinate descent: \", SCAD_sim_results_mean[..., 5])\n",
    "SCAD_sim_results_se = np.around(mad(SCAD_sim_results, 2) * 1.4826, 3)\n",
    "print(\"Scaled MAD: \")\n",
    "print(\"AG: \", SCAD_sim_results_se[..., 3])\n",
    "print(\"proximal gradient: \", SCAD_sim_results_se[..., 4])\n",
    "print(\"coordinate descent: \", SCAD_sim_results_se[..., 5])\n",
    "\n",
    "fig, axes = plt.subplots(3, 4)\n",
    "\n",
    "tau = np.array([.1, .5, .9])\n",
    "N = np.array([200, 500, 1000, 3000])\n",
    "\n",
    "for i, j in itertools.product(range(3), range(4)):\n",
    "    df = pd.DataFrame(columns=[\n",
    "        'AG with suggested settings', 'proximal gradient', 'coordinate descent'\n",
    "    ],\n",
    "                      data=SCAD_sim_results[i, j, :, 3:])\n",
    "    df_melted = pd.melt(df,\n",
    "                        id_vars=[],\n",
    "                        value_vars=[\n",
    "                            'AG with suggested settings', 'proximal gradient',\n",
    "                            'coordinate descent'\n",
    "                        ],\n",
    "                        var_name='method',\n",
    "                        value_name='k')\n",
    "    #     sns.boxplot(ax=axes[i, j], data=df_melted, x=\"method\", y=\"k\", hue=\"method\", showfliers = False)#.set_title(r'$\\tau=$'+str(tau[i])+'$, N=$'+str(N[j]))\n",
    "    sns.barplot(ax=axes[i, j],\n",
    "                data=df_melted,\n",
    "                x=\"method\",\n",
    "                y=\"k\",\n",
    "                hue=\"method\",\n",
    "                estimator=np.median,\n",
    "                ci=95,\n",
    "                dodge=False)  #, palette = \"Greys\")\n",
    "    if i == 2 and j != 0:\n",
    "        axes[i, j].set(xticklabels=[], xlabel=r\"$n=$\" + str(N[j]),\n",
    "                       ylabel=None)  # yticklabels=[] to remove y scales\n",
    "    if j == 0 and i != 2:\n",
    "        axes[i, j].set(xticklabels=[],\n",
    "                       xlabel=None,\n",
    "                       ylabel=r\"$\\tau=$\" + str(tau[i]))\n",
    "    axes[2, 0].set(xticklabels=[],\n",
    "                   xlabel=r\"$n=$\" + str(N[0]),\n",
    "                   ylabel=r\"$\\tau=$\" + str(tau[2]))\n",
    "    if i != 2 and j != 0:\n",
    "        axes[i, j].set(xticklabels=[], xlabel=None, ylabel=None)\n",
    "\n",
    "    axes[i, j].get_legend().remove()\n",
    "\n",
    "handles, labels = axes[0, 0].get_legend_handles_labels()\n",
    "fig.legend(handles,\n",
    "           labels,\n",
    "           loc='upper left',\n",
    "           ncol=3,\n",
    "           bbox_to_anchor=(-.05, 1.1))\n",
    "plt.subplots_adjust(left=None,\n",
    "                    bottom=None,\n",
    "                    right=None,\n",
    "                    top=None,\n",
    "                    wspace=.4,\n",
    "                    hspace=None)\n",
    "\n",
    "#plt.tight_layout()\n",
    "plt.savefig('LM-time_SCAD.eps', format='eps', dpi=600, bbox_inches='tight')\n",
    "plt.show()\n",
    "\n",
    "LM_SCAD_computing_time_latex = pasta(SCAD_sim_results_mean,\n",
    "                                     SCAD_sim_results_se)"
   ]
  },
  {
   "cell_type": "markdown",
   "id": "bacdbe94",
   "metadata": {},
   "source": [
    "### MCP"
   ]
  },
  {
   "cell_type": "code",
   "execution_count": 8,
   "id": "6d7593f7",
   "metadata": {
    "ExecuteTime": {
     "end_time": "2022-09-22T14:21:31.235330Z",
     "start_time": "2022-09-22T14:21:29.523458Z"
    }
   },
   "outputs": [
    {
     "name": "stdout",
     "output_type": "stream",
     "text": [
      "Median:\n",
      "AG:  [[ 0.292  0.409  0.887  1.52 ]\n",
      " [ 0.351  0.485  1.106  1.634]\n",
      " [ 0.785  2.127  6.213 10.406]]\n",
      "proximal gradient:  [[0.724 0.892 1.298 7.725]\n",
      " [0.995 1.091 1.565 5.555]\n",
      " [2.383 2.69  8.126 8.493]]\n",
      "coordinate descent:  [[ 13.493  15.052  23.986  94.093]\n",
      " [ 14.4    15.389  35.111 159.852]\n",
      " [ 16.403  41.808 178.715 893.526]]\n",
      "Scaled MAD: \n",
      "AG:  [[0.051 0.102 0.122 0.508]\n",
      " [0.075 0.096 0.056 0.195]\n",
      " [0.1   0.079 0.254 0.121]]\n",
      "prximal gradient:  [[0.194 0.275 0.352 1.421]\n",
      " [0.243 0.272 0.392 1.557]\n",
      " [0.503 0.468 0.083 0.082]]\n",
      "coordinate descent:  [[ 2.423  2.981  2.061  4.478]\n",
      " [ 2.984  3.784  1.603  7.327]\n",
      " [ 2.631  1.275  7.689 35.013]]\n"
     ]
    },
    {
     "name": "stderr",
     "output_type": "stream",
     "text": [
      "The PostScript backend does not support transparency; partially transparent artists will be rendered opaque.\n"
     ]
    },
    {
     "data": {
      "image/png": "[encoded data removed]",
      "text/plain": [
       "<Figure size 640x480 with 12 Axes>"
      ]
     },
     "metadata": {},
     "output_type": "display_data"
    }
   ],
   "source": [
    "MCP_sim_results = np.load(\"./tasks/task1speed/MCP_sim_results.npy\")\n",
    "\n",
    "MCP_sim_results_mean = np.around(np.median(MCP_sim_results, 2), 3)\n",
    "print(\"Median:\")\n",
    "print(\"AG: \", MCP_sim_results_mean[..., 3])\n",
    "print(\"proximal gradient: \", MCP_sim_results_mean[..., 4])\n",
    "print(\"coordinate descent: \", MCP_sim_results_mean[..., 5])\n",
    "MCP_sim_results_se = np.around(mad(MCP_sim_results, 2) * 1.4826, 3)\n",
    "print(\"Scaled MAD: \")\n",
    "print(\"AG: \", MCP_sim_results_se[..., 3])\n",
    "print(\"prximal gradient: \", MCP_sim_results_se[..., 4])\n",
    "print(\"coordinate descent: \", MCP_sim_results_se[..., 5])\n",
    "\n",
    "fig, axes = plt.subplots(3, 4)\n",
    "\n",
    "tau = np.array([.1, .5, .9])\n",
    "N = np.array([200, 500, 1000, 3000])\n",
    "\n",
    "for i, j in itertools.product(range(3), range(4)):\n",
    "    df = pd.DataFrame(columns=[\n",
    "        'AG with suggested settings', 'proximal gradient', 'coordinate descent'\n",
    "    ],\n",
    "                      data=MCP_sim_results[i, j, :, 3:])\n",
    "    df_melted = pd.melt(df,\n",
    "                        id_vars=[],\n",
    "                        value_vars=[\n",
    "                            'AG with suggested settings', 'proximal gradient',\n",
    "                            'coordinate descent'\n",
    "                        ],\n",
    "                        var_name='method',\n",
    "                        value_name='k')\n",
    "    #     sns.boxplot(ax=axes[i, j], data=df_melted, x=\"method\", y=\"k\", hue=\"method\", showfliers = False)#.set_title(r'$\\tau=$'+str(tau[i])+'$, N=$'+str(N[j]))\n",
    "    sns.barplot(ax=axes[i, j],\n",
    "                data=df_melted,\n",
    "                x=\"method\",\n",
    "                y=\"k\",\n",
    "                hue=\"method\",\n",
    "                estimator=np.median,\n",
    "                ci=95,\n",
    "                dodge=False)  #, palette = \"Greys\")\n",
    "    if i == 2 and j != 0:\n",
    "        axes[i, j].set(xticklabels=[], xlabel=r\"$n=$\" + str(N[j]),\n",
    "                       ylabel=None)  # yticklabels=[] to remove y scales\n",
    "    if j == 0 and i != 2:\n",
    "        axes[i, j].set(xticklabels=[],\n",
    "                       xlabel=None,\n",
    "                       ylabel=r\"$\\tau=$\" + str(tau[i]))\n",
    "    axes[2, 0].set(xticklabels=[],\n",
    "                   xlabel=r\"$n=$\" + str(N[0]),\n",
    "                   ylabel=r\"$\\tau=$\" + str(tau[2]))\n",
    "    if i != 2 and j != 0:\n",
    "        axes[i, j].set(xticklabels=[], xlabel=None, ylabel=None)\n",
    "\n",
    "    axes[i, j].get_legend().remove()\n",
    "\n",
    "handles, labels = axes[0, 0].get_legend_handles_labels()\n",
    "fig.legend(handles,\n",
    "           labels,\n",
    "           loc='upper left',\n",
    "           ncol=3,\n",
    "           bbox_to_anchor=(-.05, 1.1))\n",
    "plt.subplots_adjust(left=None,\n",
    "                    bottom=None,\n",
    "                    right=None,\n",
    "                    top=None,\n",
    "                    wspace=.4,\n",
    "                    hspace=None)\n",
    "\n",
    "#plt.tight_layout()\n",
    "plt.savefig('LM-time_MCP.eps', format='eps', dpi=600, bbox_inches='tight')\n",
    "plt.show()\n",
    "\n",
    "LM_MCP_computing_time_latex = pasta(MCP_sim_results_mean, MCP_sim_results_se)"
   ]
  },
  {
   "cell_type": "markdown",
   "id": "a51e49ac",
   "metadata": {},
   "source": [
    "# LM -- Signals\n",
    "## SCAD\n",
    "### AG"
   ]
  },
  {
   "cell_type": "code",
   "execution_count": 9,
   "id": "55fef417",
   "metadata": {
    "ExecuteTime": {
     "end_time": "2022-09-22T14:21:31.248115Z",
     "start_time": "2022-09-22T14:21:31.236525Z"
    }
   },
   "outputs": [
    {
     "name": "stdout",
     "output_type": "stream",
     "text": [
      "Sample mean:\n",
      "2-norm:  [['0.129 (0.021)' '0.504 (0.103)' '2.859 (0.493)']\n",
      " ['0.051 (0.009)' '0.155 (0.027)' '2.038 (0.328)']\n",
      " ['0.022 (0.004)' '0.084 (0.014)' '1.27 (0.272)']\n",
      " ['0.016 (0.003)' '0.063 (0.012)' '1.167 (0.199)']]\n",
      "infinity-norm:  [['21.447 (2.798)' '48.472 (5.353)' '159.96 (35.95)']\n",
      " ['13.229 (2.62)' '24.778 (4.233)' '114.446 (21.17)']\n",
      " ['8.925 (2.024)' '17.917 (2.597)' '75.972 (15.129)']\n",
      " ['7.631 (1.934)' '16.107 (2.508)' '71.532 (11.583)']]\n",
      "PPV:  [['0.751 (0.13)' '0.587 (0.19)' '0.493 (0.252)']\n",
      " ['0.646 (0.168)' '0.544 (0.2)' '0.343 (0.243)']\n",
      " ['0.546 (0.149)' '0.411 (0.249)' '0.202 (0.157)']\n",
      " ['0.512 (0.266)' '0.429 (0.096)' '0.208 (0.086)']]\n",
      "NPV:  [['0.984 (0.001)' '0.984 (0.001)' '0.979 (0.001)']\n",
      " ['0.989 (0.001)' '0.988 (0.001)' '0.98 (0.001)']\n",
      " ['0.992 (0.001)' '0.991 (0.001)' '0.982 (0.001)']\n",
      " ['0.993 (0.001)' '0.992 (0.001)' '0.982 (0.001)']]\n",
      "active set cardi:  [['25.04 (8.315)' '34.84 (19.22)' '23.06 (17.038)']\n",
      " ['46.13 (17.272)' '57.27 (25.66)' '42.53 (16.81)']\n",
      " ['69.38 (37.133)' '100.22 (37.106)' '87.4 (27.629)']\n",
      " ['102.88 (66.022)' '83.75 (30.194)' '71.12 (11.888)']]\n"
     ]
    }
   ],
   "source": [
    "results_SCAD_signal_recovery = np.load(\n",
    "    \"./tasks/task1/results_SCAD_signal_recovery.npy\")\n",
    "\n",
    "results_SCAD_signal_recovery_mean = np.around(\n",
    "    np.mean(results_SCAD_signal_recovery, 2), 3)\n",
    "results_SCAD_signal_recovery_se = np.around(\n",
    "    np.std(results_SCAD_signal_recovery, 2), 3)\n",
    "print(\"Sample mean:\")\n",
    "print(\n",
    "    \"2-norm: \",\n",
    "    pasta(results_SCAD_signal_recovery_mean[..., 0],\n",
    "          results_SCAD_signal_recovery_se[..., 0]))\n",
    "print(\n",
    "    \"infinity-norm: \",\n",
    "    pasta(results_SCAD_signal_recovery_mean[..., 1],\n",
    "          results_SCAD_signal_recovery_se[..., 1]))\n",
    "print(\n",
    "    \"PPV: \",\n",
    "    pasta(results_SCAD_signal_recovery_mean[..., 2],\n",
    "          results_SCAD_signal_recovery_se[..., 2]))\n",
    "print(\n",
    "    \"NPV: \",\n",
    "    pasta(results_SCAD_signal_recovery_mean[..., 3],\n",
    "          results_SCAD_signal_recovery_se[..., 3]))\n",
    "print(\n",
    "    \"active set cardi: \",\n",
    "    pasta(results_SCAD_signal_recovery_mean[..., 4],\n",
    "          results_SCAD_signal_recovery_se[..., 4]))\n",
    "\n",
    "# results_SCAD_signal_recovery_median = cp.median(results_SCAD_signal_recovery, 2)\n",
    "# print(\"Sample median:\")\n",
    "# print(\"2-norm: \",results_SCAD_signal_recovery_median[...,0])\n",
    "# print(\"infinity-norm: \",results_SCAD_signal_recovery_median[...,1])\n",
    "# print(\"sensitivity: \",results_SCAD_signal_recovery_median[...,2])\n",
    "# print(\"specificity: \",results_SCAD_signal_recovery_median[...,3])\n",
    "# results_SCAD_signal_recovery_mad = mad(results_SCAD_signal_recovery.get(), 2)*1.4826\n",
    "# print(\"Scaled MAD:\")\n",
    "# print(\"2-norm: \",results_SCAD_signal_recovery_mad[...,0])\n",
    "# print(\"infinity-norm: \",results_SCAD_signal_recovery_mad[...,1])\n",
    "# print(\"sensitivity: \",results_SCAD_signal_recovery_mad[...,2])\n",
    "# print(\"specificity: \",results_SCAD_signal_recovery_mad[...,3])\n",
    "\n",
    "LM_SCAD_signal_latex = pasta(results_SCAD_signal_recovery_mean,\n",
    "                             results_SCAD_signal_recovery_se)"
   ]
  },
  {
   "cell_type": "markdown",
   "id": "b59acac3",
   "metadata": {},
   "source": [
    "### ncvreg"
   ]
  },
  {
   "cell_type": "code",
   "execution_count": 10,
   "id": "e51be8b1",
   "metadata": {
    "ExecuteTime": {
     "end_time": "2022-09-22T14:21:31.254316Z",
     "start_time": "2022-09-22T14:21:31.248847Z"
    }
   },
   "outputs": [
    {
     "name": "stdout",
     "output_type": "stream",
     "text": [
      "Sample mean:\n",
      "2-norm:  [['0.131 (0.02)' '0.493 (0.101)' '2.932 (0.577)']\n",
      " ['0.053 (0.009)' '0.157 (0.029)' '2.082 (0.336)']\n",
      " ['0.022 (0.004)' '0.083 (0.014)' '1.297 (0.257)']\n",
      " ['0.016 (0.003)' '0.063 (0.012)' '1.152 (0.214)']]\n",
      "infinity-norm:  [['20.412 (2.843)' '47.143 (5.548)' '170.276 (39.395)']\n",
      " ['13.257 (2.263)' '25.142 (4.71)' '116.379 (21.92)']\n",
      " ['8.465 (1.496)' '17.806 (2.587)' '78.868 (14.161)']\n",
      " ['7.131 (1.202)' '16.144 (2.218)' '72.398 (11.701)']]\n",
      "PPV:  [['0.254 (0.078)' '0.277 (0.123)' '0.287 (0.201)']\n",
      " ['0.279 (0.073)' '0.305 (0.104)' '0.263 (0.138)']\n",
      " ['0.32 (0.072)' '0.34 (0.142)' '0.21 (0.157)']\n",
      " ['0.343 (0.131)' '0.406 (0.075)' '0.208 (0.056)']]\n",
      "NPV:  [['0.987 (0.001)' '0.986 (0.001)' '0.98 (0.001)']\n",
      " ['0.99 (0.001)' '0.989 (0.001)' '0.98 (0.001)']\n",
      " ['0.992 (0.001)' '0.991 (0.001)' '0.982 (0.001)']\n",
      " ['0.993 (0.001)' '0.992 (0.001)' '0.982 (0.001)']]\n",
      "active set cardi:  [['102.26 (29.113)' '93.94 (37.748)' '43.23 (22.821)']\n",
      " ['119.93 (34.998)' '104.09 (30.726)' '47.91 (15.409)']\n",
      " ['116.04 (29.043)' '107.66 (31.47)' '84.92 (28.083)']\n",
      " ['125.93 (51.635)' '88.33 (29.764)' '70.6 (10.59)']]\n"
     ]
    }
   ],
   "source": [
    "results_SCAD_signal_recovery = np.load(\n",
    "    \"./SCAD_MCP/LM/R_results_SCAD_signal_recovery.npy\")\n",
    "\n",
    "results_SCAD_signal_recovery = np.reshape(results_SCAD_signal_recovery,\n",
    "                                          (4, 3, 100, 5),\n",
    "                                          \"F\")  # keep array dimension true\n",
    "results_SCAD_signal_recovery_mean = np.around(\n",
    "    np.mean(results_SCAD_signal_recovery, 2), 3)\n",
    "results_SCAD_signal_recovery_se = np.around(\n",
    "    np.std(results_SCAD_signal_recovery, 2), 3)\n",
    "print(\"Sample mean:\")\n",
    "print(\n",
    "    \"2-norm: \",\n",
    "    pasta(results_SCAD_signal_recovery_mean[..., 0],\n",
    "          results_SCAD_signal_recovery_se[..., 0]))\n",
    "print(\n",
    "    \"infinity-norm: \",\n",
    "    pasta(results_SCAD_signal_recovery_mean[..., 1],\n",
    "          results_SCAD_signal_recovery_se[..., 1]))\n",
    "print(\n",
    "    \"PPV: \",\n",
    "    pasta(results_SCAD_signal_recovery_mean[..., 2],\n",
    "          results_SCAD_signal_recovery_se[..., 2]))\n",
    "print(\n",
    "    \"NPV: \",\n",
    "    pasta(results_SCAD_signal_recovery_mean[..., 3],\n",
    "          results_SCAD_signal_recovery_se[..., 3]))\n",
    "print(\n",
    "    \"active set cardi: \",\n",
    "    pasta(results_SCAD_signal_recovery_mean[..., 4],\n",
    "          results_SCAD_signal_recovery_se[..., 4]))\n",
    "\n",
    "ncvreg_LM_SCAD_signal_latex = pasta(results_SCAD_signal_recovery_mean,\n",
    "                                    results_SCAD_signal_recovery_se)\n",
    "\n",
    "# results_SCAD_signal_recovery_median = cp.median(results_SCAD_signal_recovery, 2)\n",
    "# print(\"Sample median:\")\n",
    "# print(\"2-norm: \",results_SCAD_signal_recovery_median[...,0])\n",
    "# print(\"infinity-norm: \",results_SCAD_signal_recovery_median[...,1])\n",
    "# print(\"sensitivity: \",results_SCAD_signal_recovery_median[...,2])\n",
    "# print(\"specificity: \",results_SCAD_signal_recovery_median[...,3])\n",
    "# results_SCAD_signal_recovery_mad = mad(results_SCAD_signal_recovery.get(), 2)*1.4826\n",
    "# print(\"Scaled MAD:\")\n",
    "# print(\"2-norm: \",results_SCAD_signal_recovery_mad[...,0])\n",
    "# print(\"infinity-norm: \",results_SCAD_signal_recovery_mad[...,1])\n",
    "# print(\"sensitivity: \",results_SCAD_signal_recovery_mad[...,2])\n",
    "# print(\"specificity: \",results_SCAD_signal_recovery_mad[...,3])"
   ]
  },
  {
   "cell_type": "code",
   "execution_count": 11,
   "id": "ab4cc7b6",
   "metadata": {
    "ExecuteTime": {
     "end_time": "2022-09-22T14:21:32.416419Z",
     "start_time": "2022-09-22T14:21:31.257331Z"
    }
   },
   "outputs": [
    {
     "name": "stderr",
     "output_type": "stream",
     "text": [
      "The PostScript backend does not support transparency; partially transparent artists will be rendered opaque.\n"
     ]
    },
    {
     "data": {
      "image/png": "[encoded data removed]",
      "text/plain": [
       "<Figure size 640x480 with 12 Axes>"
      ]
     },
     "metadata": {},
     "output_type": "display_data"
    }
   ],
   "source": [
    "AG = np.load(\"./tasks/task1/results_SCAD_signal_recovery.npy\")\n",
    "AG_mean = np.mean(AG, 2)\n",
    "AG_se = np.std(AG, 2)\n",
    "ncvreg = np.load(\"./SCAD_MCP/LM/R_results_SCAD_signal_recovery.npy\")\n",
    "ncvreg = np.reshape(ncvreg, (4, 3, 100, 5), \"F\")  # keep array dimension true\n",
    "ncvreg_mean = np.mean(ncvreg, 2)\n",
    "ncvreg_se = np.std(ncvreg, 2)\n",
    "\n",
    "fig, axes = plt.subplots(3, 4)\n",
    "\n",
    "tau = np.array([.1, .5, .9])\n",
    "SNR = np.array([1, 3, 7, 10])\n",
    "\n",
    "for i, j in itertools.product(range(3), range(4)):\n",
    "    data = np.array([[AG_mean[j, i, 2], ncvreg_mean[j, i, 2]],\n",
    "                     [AG_mean[j, i, 3], ncvreg_mean[j, i, 3]]])\n",
    "    data_se = np.array([[AG_se[j, i, 2], ncvreg_se[j, i, 2]],\n",
    "                        [AG_se[j, i, 3], ncvreg_se[j, i, 3]]])\n",
    "    length = len(data)\n",
    "    x_labels = [\"PPV\", \"NPV\"]\n",
    "    width = 0.35  # width of bar\n",
    "    x = np.arange(length)\n",
    "    axes[i, j].bar(x,\n",
    "                   data[:, 0],\n",
    "                   width,\n",
    "                   color='#000080',\n",
    "                   label='AG',\n",
    "                   yerr=data_se[:, 0])\n",
    "    axes[i, j].bar(x + width,\n",
    "                   data[:, 1],\n",
    "                   width,\n",
    "                   color='#73C2FB',\n",
    "                   label='ncvreg',\n",
    "                   yerr=data_se[:, 1])\n",
    "    #     ax.set_ylabel('Proportion')\n",
    "    #     ax.set_ylim(0,75)\n",
    "    axes[i, j].set_xticks(x + width / 2)\n",
    "    axes[i, j].set_xticklabels(x_labels)\n",
    "    axes[i, j].set_xlabel('Predicted Values')\n",
    "    #     ax.set_title('Title')\n",
    "    #     axes[i,j].legend()\n",
    "\n",
    "    if i == 2 and j != 0:\n",
    "        axes[i, j].set(xticklabels=x_labels,\n",
    "                       xlabel=r\"$SNR=$\" + str(SNR[j]),\n",
    "                       ylabel=None)  # yticklabels=[] to remove y scales\n",
    "    if j == 0 and i != 2:\n",
    "        axes[i, j].set(xticklabels=x_labels,\n",
    "                       xlabel=None,\n",
    "                       ylabel=r\"$\\tau=$\" + str(tau[i]))\n",
    "    axes[2, 0].set(xticklabels=x_labels,\n",
    "                   xlabel=r\"$SNR=$\" + str(SNR[0]),\n",
    "                   ylabel=r\"$\\tau=$\" + str(tau[2]))\n",
    "    if i != 2 and j != 0:\n",
    "        axes[i, j].set(xticklabels=x_labels, xlabel=None, ylabel=None)\n",
    "\n",
    "for ax in axes.flat:\n",
    "    ax.label_outer()\n",
    "\n",
    "# plt.grid(True, 'major', 'y', ls='--', lw=.5, c='k', alpha=.3)\n",
    "fig.tight_layout(pad=.2)\n",
    "handles, labels = axes[0, 0].get_legend_handles_labels()\n",
    "fig.legend(handles,\n",
    "           labels,\n",
    "           loc='upper left',\n",
    "           ncol=4,\n",
    "           bbox_to_anchor=(.35, 1.075))\n",
    "\n",
    "plt.tight_layout()\n",
    "plt.savefig('LM-SCAD-pv.eps', format='eps', dpi=600, bbox_inches='tight')\n",
    "plt.show()"
   ]
  },
  {
   "cell_type": "markdown",
   "id": "518d75e8",
   "metadata": {},
   "source": [
    "## MCP\n",
    "### AG"
   ]
  },
  {
   "cell_type": "code",
   "execution_count": 12,
   "id": "eb6e6057",
   "metadata": {
    "ExecuteTime": {
     "end_time": "2022-09-22T14:21:32.431386Z",
     "start_time": "2022-09-22T14:21:32.417505Z"
    }
   },
   "outputs": [
    {
     "name": "stdout",
     "output_type": "stream",
     "text": [
      "Sample mean:\n",
      "2-norm:  [['0.134 (0.024)' '0.543 (0.117)' '2.955 (0.51)']\n",
      " ['0.05 (0.01)' '0.168 (0.032)' '1.946 (0.333)']\n",
      " ['0.022 (0.004)' '0.088 (0.015)' '1.507 (0.3)']\n",
      " ['0.015 (0.003)' '0.059 (0.012)' '1.079 (0.285)']]\n",
      "infinity-norm:  [['22.688 (2.928)' '50.134 (5.825)' '163.886 (35.84)']\n",
      " ['14.011 (2.744)' '25.204 (4.825)' '107.147 (19.601)']\n",
      " ['8.933 (2.029)' '18.473 (2.999)' '86.237 (17.206)']\n",
      " ['7.721 (2.016)' '15.002 (3.023)' '68.41 (13.265)']]\n",
      "PPV:  [['0.855 (0.095)' '0.738 (0.16)' '0.687 (0.181)']\n",
      " ['0.842 (0.109)' '0.724 (0.216)' '0.445 (0.28)']\n",
      " ['0.759 (0.171)' '0.667 (0.287)' '0.506 (0.212)']\n",
      " ['0.794 (0.105)' '0.479 (0.123)' '0.352 (0.198)']]\n",
      "NPV:  [['0.983 (0.001)' '0.982 (0.001)' '0.978 (0.0)']\n",
      " ['0.987 (0.001)' '0.986 (0.001)' '0.98 (0.001)']\n",
      " ['0.991 (0.001)' '0.989 (0.001)' '0.981 (0.001)']\n",
      " ['0.992 (0.001)' '0.99 (0.001)' '0.982 (0.001)']]\n",
      "active set cardi:  [['19.48 (4.959)' '20.98 (8.748)' '10.14 (6.408)']\n",
      " ['30.29 (7.835)' '35.32 (16.366)' '29.45 (14.845)']\n",
      " ['44.38 (13.587)' '54.51 (31.549)' '31.03 (23.92)']\n",
      " ['43.49 (11.869)' '65.99 (12.935)' '47.75 (16.929)']]\n"
     ]
    }
   ],
   "source": [
    "results_MCP_signal_recovery = np.load(\n",
    "    \"./tasks/task1/results_MCP_signal_recovery.npy\")\n",
    "\n",
    "results_MCP_signal_recovery_mean = np.around(\n",
    "    np.mean(results_MCP_signal_recovery, 2), 3)\n",
    "results_MCP_signal_recovery_se = np.around(\n",
    "    np.std(results_MCP_signal_recovery, 2), 3)\n",
    "print(\"Sample mean:\")\n",
    "print(\n",
    "    \"2-norm: \",\n",
    "    pasta(results_MCP_signal_recovery_mean[..., 0],\n",
    "          results_MCP_signal_recovery_se[..., 0]))\n",
    "print(\n",
    "    \"infinity-norm: \",\n",
    "    pasta(results_MCP_signal_recovery_mean[..., 1],\n",
    "          results_MCP_signal_recovery_se[..., 1]))\n",
    "print(\n",
    "    \"PPV: \",\n",
    "    pasta(results_MCP_signal_recovery_mean[..., 2],\n",
    "          results_MCP_signal_recovery_se[..., 2]))\n",
    "print(\n",
    "    \"NPV: \",\n",
    "    pasta(results_MCP_signal_recovery_mean[..., 3],\n",
    "          results_MCP_signal_recovery_se[..., 3]))\n",
    "print(\n",
    "    \"active set cardi: \",\n",
    "    pasta(results_MCP_signal_recovery_mean[..., 4],\n",
    "          results_MCP_signal_recovery_se[..., 4]))\n",
    "\n",
    "LM_MCP_signal_latex = pasta(results_MCP_signal_recovery_mean,\n",
    "                            results_MCP_signal_recovery_se)\n",
    "\n",
    "# results_MCP_signal_recovery_median = cp.median(results_MCP_signal_recovery, 2)\n",
    "# print(\"Sample median:\")\n",
    "# print(\"2-norm: \",results_MCP_signal_recovery_median[...,0])\n",
    "# print(\"infinity-norm: \",results_MCP_signal_recovery_median[...,1])\n",
    "# print(\"sensitivity: \",results_MCP_signal_recovery_median[...,2])\n",
    "# print(\"specificity: \",results_MCP_signal_recovery_median[...,3])\n",
    "# results_MCP_signal_recovery_mad = mad(results_MCP_signal_recovery.get(), 2)*1.4826\n",
    "# print(\"Scaled MAD:\")\n",
    "# print(\"2-norm: \",results_MCP_signal_recovery_mad[...,0])\n",
    "# print(\"infinity-norm: \",results_MCP_signal_recovery_mad[...,1])\n",
    "# print(\"sensitivity: \",results_MCP_signal_recovery_mad[...,2])\n",
    "# print(\"specificity: \",results_MCP_signal_recovery_mad[...,3])"
   ]
  },
  {
   "cell_type": "markdown",
   "id": "9294ca41",
   "metadata": {},
   "source": [
    "### ncvreg"
   ]
  },
  {
   "cell_type": "code",
   "execution_count": 13,
   "id": "8d105280",
   "metadata": {
    "ExecuteTime": {
     "end_time": "2022-09-22T14:21:32.440455Z",
     "start_time": "2022-09-22T14:21:32.432165Z"
    }
   },
   "outputs": [
    {
     "name": "stdout",
     "output_type": "stream",
     "text": [
      "Sample mean:\n",
      "2-norm:  [['0.127 (0.021)' '0.495 (0.112)' '2.848 (0.375)']\n",
      " ['0.05 (0.009)' '0.164 (0.033)' '1.876 (0.337)']\n",
      " ['0.021 (0.004)' '0.085 (0.014)' '1.443 (0.261)']\n",
      " ['0.014 (0.003)' '0.059 (0.012)' '1.104 (0.211)']]\n",
      "infinity-norm:  [['20.793 (2.687)' '47.928 (6.042)' '160.78 (30.234)']\n",
      " ['13.448 (2.454)' '24.955 (4.365)' '102.795 (20.161)']\n",
      " ['8.43 (1.508)' '18.067 (2.806)' '83.569 (16.416)']\n",
      " ['7.181 (1.098)' '15.222 (2.679)' '68.253 (11.907)']]\n",
      "PPV:  [['0.439 (0.105)' '0.392 (0.119)' '0.385 (0.178)']\n",
      " ['0.489 (0.102)' '0.479 (0.117)' '0.37 (0.18)']\n",
      " ['0.536 (0.131)' '0.538 (0.173)' '0.499 (0.211)']\n",
      " ['0.56 (0.113)' '0.468 (0.121)' '0.352 (0.211)']]\n",
      "NPV:  [['0.985 (0.001)' '0.984 (0.001)' '0.979 (0.0)']\n",
      " ['0.989 (0.001)' '0.987 (0.001)' '0.98 (0.001)']\n",
      " ['0.992 (0.001)' '0.989 (0.001)' '0.981 (0.001)']\n",
      " ['0.992 (0.001)' '0.99 (0.001)' '0.982 (0.001)']]\n",
      "active set cardi:  [['50.47 (13.225)' '48.19 (16.776)' '20.66 (10.277)']\n",
      " ['60.66 (14.629)' '52.69 (16.156)' '31.23 (14.271)']\n",
      " ['67.07 (20.718)' '59.48 (25.369)' '32.06 (24.133)']\n",
      " ['64.94 (13.307)' '67.87 (14.85)' '48.34 (17.718)']]\n"
     ]
    }
   ],
   "source": [
    "results_MCP_signal_recovery = np.load(\n",
    "    \"./SCAD_MCP/LM/R_results_MCP_signal_recovery.npy\")\n",
    "\n",
    "results_MCP_signal_recovery = np.reshape(results_MCP_signal_recovery,\n",
    "                                         (4, 3, 100, 5),\n",
    "                                         \"F\")  # keep array dimension true\n",
    "results_MCP_signal_recovery_mean = np.around(\n",
    "    np.mean(results_MCP_signal_recovery, 2), 3)\n",
    "results_MCP_signal_recovery_se = np.around(\n",
    "    np.std(results_MCP_signal_recovery, 2), 3)\n",
    "print(\"Sample mean:\")\n",
    "print(\n",
    "    \"2-norm: \",\n",
    "    pasta(results_MCP_signal_recovery_mean[..., 0],\n",
    "          results_MCP_signal_recovery_se[..., 0]))\n",
    "print(\n",
    "    \"infinity-norm: \",\n",
    "    pasta(results_MCP_signal_recovery_mean[..., 1],\n",
    "          results_MCP_signal_recovery_se[..., 1]))\n",
    "print(\n",
    "    \"PPV: \",\n",
    "    pasta(results_MCP_signal_recovery_mean[..., 2],\n",
    "          results_MCP_signal_recovery_se[..., 2]))\n",
    "print(\n",
    "    \"NPV: \",\n",
    "    pasta(results_MCP_signal_recovery_mean[..., 3],\n",
    "          results_MCP_signal_recovery_se[..., 3]))\n",
    "print(\n",
    "    \"active set cardi: \",\n",
    "    pasta(results_MCP_signal_recovery_mean[..., 4],\n",
    "          results_MCP_signal_recovery_se[..., 4]))\n",
    "\n",
    "ncvreg_LM_MCP_signal_latex = pasta(results_MCP_signal_recovery_mean,\n",
    "                                   results_MCP_signal_recovery_se)\n",
    "\n",
    "# results_MCP_signal_recovery_median = cp.median(results_MCP_signal_recovery, 2)\n",
    "# print(\"Sample median:\")\n",
    "# print(\"2-norm: \",results_MCP_signal_recovery_median[...,0])\n",
    "# print(\"infinity-norm: \",results_MCP_signal_recovery_median[...,1])\n",
    "# print(\"sensitivity: \",results_MCP_signal_recovery_median[...,2])\n",
    "# print(\"specificity: \",results_MCP_signal_recovery_median[...,3])\n",
    "# results_MCP_signal_recovery_mad = mad(results_MCP_signal_recovery.get(), 2)*1.4826\n",
    "# print(\"Scaled MAD:\")\n",
    "# print(\"2-norm: \",results_MCP_signal_recovery_mad[...,0])\n",
    "# print(\"infinity-norm: \",results_MCP_signal_recovery_mad[...,1])\n",
    "# print(\"sensitivity: \",results_MCP_signal_recovery_mad[...,2])\n",
    "# print(\"specificity: \",results_MCP_signal_recovery_mad[...,3])"
   ]
  },
  {
   "cell_type": "code",
   "execution_count": 14,
   "id": "2d0f6ec4",
   "metadata": {
    "ExecuteTime": {
     "end_time": "2022-09-22T14:21:33.513178Z",
     "start_time": "2022-09-22T14:21:32.441793Z"
    }
   },
   "outputs": [
    {
     "name": "stderr",
     "output_type": "stream",
     "text": [
      "The PostScript backend does not support transparency; partially transparent artists will be rendered opaque.\n"
     ]
    },
    {
     "data": {
      "image/png": "[encoded data removed]",
      "text/plain": [
       "<Figure size 640x480 with 12 Axes>"
      ]
     },
     "metadata": {},
     "output_type": "display_data"
    }
   ],
   "source": [
    "AG = np.load(\"./tasks/task1/results_MCP_signal_recovery.npy\")\n",
    "AG_mean = np.mean(AG, 2)\n",
    "AG_se = np.std(AG, 2)\n",
    "ncvreg = np.load(\"./SCAD_MCP/LM/R_results_MCP_signal_recovery.npy\")\n",
    "ncvreg = np.reshape(ncvreg, (4, 3, 100, 5), \"F\")  # keep array dimension true\n",
    "ncvreg_mean = np.mean(ncvreg, 2)\n",
    "ncvreg_se = np.std(ncvreg, 2)\n",
    "\n",
    "fig, axes = plt.subplots(3, 4)\n",
    "\n",
    "tau = np.array([.1, .5, .9])\n",
    "SNR = np.array([1, 3, 7, 10])\n",
    "\n",
    "for i, j in itertools.product(range(3), range(4)):\n",
    "    data = np.array([[AG_mean[j, i, 2], ncvreg_mean[j, i, 2]],\n",
    "                     [AG_mean[j, i, 3], ncvreg_mean[j, i, 3]]])\n",
    "    data_se = np.array([[AG_se[j, i, 2], ncvreg_se[j, i, 2]],\n",
    "                        [AG_se[j, i, 3], ncvreg_se[j, i, 3]]])\n",
    "    length = len(data)\n",
    "    x_labels = [\"PPV\", \"NPV\"]\n",
    "    width = 0.35  # width of bar\n",
    "    x = np.arange(length)\n",
    "    axes[i, j].bar(x,\n",
    "                   data[:, 0],\n",
    "                   width,\n",
    "                   color='#000080',\n",
    "                   label='AG',\n",
    "                   yerr=data_se[:, 0])\n",
    "    axes[i, j].bar(x + width,\n",
    "                   data[:, 1],\n",
    "                   width,\n",
    "                   color='#73C2FB',\n",
    "                   label='ncvreg',\n",
    "                   yerr=data_se[:, 1])\n",
    "    #     ax.set_ylabel('Proportion')\n",
    "    #     ax.set_ylim(0,75)\n",
    "    axes[i, j].set_xticks(x + width / 2)\n",
    "    axes[i, j].set_xticklabels(x_labels)\n",
    "    axes[i, j].set_xlabel('Predicted Values')\n",
    "    #     ax.set_title('Title')\n",
    "    #     axes[i,j].legend()\n",
    "\n",
    "    if i == 2 and j != 0:\n",
    "        axes[i, j].set(xticklabels=x_labels,\n",
    "                       xlabel=r\"$SNR=$\" + str(SNR[j]),\n",
    "                       ylabel=None)  # yticklabels=[] to remove y scales\n",
    "    if j == 0 and i != 2:\n",
    "        axes[i, j].set(xticklabels=x_labels,\n",
    "                       xlabel=None,\n",
    "                       ylabel=r\"$\\tau=$\" + str(tau[i]))\n",
    "    axes[2, 0].set(xticklabels=x_labels,\n",
    "                   xlabel=r\"$SNR=$\" + str(SNR[0]),\n",
    "                   ylabel=r\"$\\tau=$\" + str(tau[2]))\n",
    "    if i != 2 and j != 0:\n",
    "        axes[i, j].set(xticklabels=x_labels, xlabel=None, ylabel=None)\n",
    "\n",
    "for ax in axes.flat:\n",
    "    ax.label_outer()\n",
    "\n",
    "# plt.grid(True, 'major', 'y', ls='--', lw=.5, c='k', alpha=.3)\n",
    "fig.tight_layout(pad=.2)\n",
    "handles, labels = axes[0, 0].get_legend_handles_labels()\n",
    "fig.legend(handles,\n",
    "           labels,\n",
    "           loc='upper left',\n",
    "           ncol=4,\n",
    "           bbox_to_anchor=(.35, 1.075))\n",
    "\n",
    "plt.tight_layout()\n",
    "plt.savefig('LM-MCP-pv.eps', format='eps', dpi=600, bbox_inches='tight')\n",
    "plt.show()"
   ]
  },
  {
   "cell_type": "markdown",
   "id": "829fad2a",
   "metadata": {},
   "source": [
    "# logistic -- Speed\n",
    "## Iterations required to make same amount of descent\n",
    "### SCAD"
   ]
  },
  {
   "cell_type": "code",
   "execution_count": 15,
   "id": "af0f1b76",
   "metadata": {
    "ExecuteTime": {
     "end_time": "2022-09-22T14:21:33.519254Z",
     "start_time": "2022-09-22T14:21:33.514298Z"
    }
   },
   "outputs": [
    {
     "name": "stdout",
     "output_type": "stream",
     "text": [
      "Median:\n",
      "AG:  [[ 33.   18.   10.    7. ]\n",
      " [ 37.   19.   10.    7. ]\n",
      " [144.   46.5  27.5  16.5]]\n",
      "proximal gradient:  [[ 193.5   74.5   24.    11. ]\n",
      " [ 249.5   76.    23.    13. ]\n",
      " [3209.   256.5   95.    45. ]]\n",
      "original settings:  [[ 48.5  29.5  17.5  12. ]\n",
      " [ 55.   31.   17.   13. ]\n",
      " [207.   70.5  41.   26.5]]\n",
      "Scaled MAD: \n",
      "AG:  [[ 4.448  3.706  1.483  1.483]\n",
      " [ 4.448  2.965  1.483  1.483]\n",
      " [68.2   14.826  9.637  5.189]]\n",
      "proximal gradient:  [[4.966700e+01 2.891100e+01 4.448000e+00 1.483000e+00]\n",
      " [6.449300e+01 3.187600e+01 5.930000e+00 1.483000e+00]\n",
      " [2.786547e+03 1.623450e+02 5.115000e+01 1.927400e+01]]\n",
      "original settings:  [[  5.93    5.189   1.483   1.483]\n",
      " [  5.93    5.93    1.483   1.483]\n",
      " [100.817  24.463  14.826   6.672]]\n"
     ]
    }
   ],
   "source": [
    "SCAD_sim_results = np.load(\"./tasks/task2speed/SCAD_sim_results.npy\")\n",
    "\n",
    "SCAD_sim_results_mean = np.around(np.median(SCAD_sim_results, 2), 3)\n",
    "print(\"Median:\")\n",
    "print(\"AG: \", SCAD_sim_results_mean[..., 0])\n",
    "print(\"proximal gradient: \", SCAD_sim_results_mean[..., 1])\n",
    "print(\"original settings: \", SCAD_sim_results_mean[..., 2])\n",
    "SCAD_sim_results_se = np.around(mad(SCAD_sim_results, 2) * 1.4826, 3)\n",
    "print(\"Scaled MAD: \")\n",
    "print(\"AG: \", SCAD_sim_results_se[..., 0])\n",
    "print(\"proximal gradient: \", SCAD_sim_results_se[..., 1])\n",
    "print(\"original settings: \", SCAD_sim_results_se[..., 2])\n",
    "\n",
    "logistic_SCAD_iterations_latex = pasta(SCAD_sim_results_mean,\n",
    "                                       SCAD_sim_results_se)"
   ]
  },
  {
   "cell_type": "code",
   "execution_count": 16,
   "id": "f7d76f59",
   "metadata": {
    "ExecuteTime": {
     "end_time": "2022-09-22T14:21:35.332756Z",
     "start_time": "2022-09-22T14:21:33.520093Z"
    }
   },
   "outputs": [
    {
     "name": "stderr",
     "output_type": "stream",
     "text": [
      "The PostScript backend does not support transparency; partially transparent artists will be rendered opaque.\n"
     ]
    },
    {
     "data": {
      "image/png": "[encoded data removed]",
      "text/plain": [
       "<Figure size 640x480 with 12 Axes>"
      ]
     },
     "metadata": {},
     "output_type": "display_data"
    }
   ],
   "source": [
    "fig, axes = plt.subplots(3, 4)\n",
    "\n",
    "tau = np.array([.1, .5, .9])\n",
    "N = np.array([200, 500, 1000, 3000])\n",
    "\n",
    "for i, j in itertools.product(range(3), range(4)):\n",
    "    df = pd.DataFrame(columns=[\n",
    "        'AG with suggested settings', 'proximal gradient',\n",
    "        'AG with orginal settings'\n",
    "    ],\n",
    "                      data=SCAD_sim_results[i, j, ...])\n",
    "    df_melted = pd.melt(df,\n",
    "                        id_vars=[],\n",
    "                        value_vars=[\n",
    "                            'AG with suggested settings',\n",
    "                            'AG with orginal settings', 'proximal gradient'\n",
    "                        ],\n",
    "                        var_name='method',\n",
    "                        value_name='k')\n",
    "    #     sns.boxplot(ax=axes[i, j], data=df_melted, x=\"method\", y=\"k\", hue=\"method\", showfliers = False)#.set_title(r'$\\tau=$'+str(tau[i])+'$, N=$'+str(N[j]))\n",
    "    sns.barplot(ax=axes[i, j],\n",
    "                data=df_melted,\n",
    "                x=\"method\",\n",
    "                y=\"k\",\n",
    "                hue=\"method\",\n",
    "                estimator=np.median,\n",
    "                ci=95,\n",
    "                dodge=False)  #, palette = \"Greys\")\n",
    "    if i == 2 and j != 0:\n",
    "        axes[i, j].set(xticklabels=[], xlabel=r\"$n=$\" + str(N[j]),\n",
    "                       ylabel=None)  # yticklabels=[] to remove y scales\n",
    "    if j == 0 and i != 2:\n",
    "        axes[i, j].set(xticklabels=[],\n",
    "                       xlabel=None,\n",
    "                       ylabel=r\"$\\tau=$\" + str(tau[i]))\n",
    "    axes[2, 0].set(xticklabels=[],\n",
    "                   xlabel=r\"$n=$\" + str(N[0]),\n",
    "                   ylabel=r\"$\\tau=$\" + str(tau[2]))\n",
    "    if i != 2 and j != 0:\n",
    "        axes[i, j].set(xticklabels=[], xlabel=None, ylabel=None)\n",
    "\n",
    "    axes[i, j].get_legend().remove()\n",
    "\n",
    "handles, labels = axes[0, 0].get_legend_handles_labels()\n",
    "fig.legend(handles,\n",
    "           labels,\n",
    "           loc='upper left',\n",
    "           ncol=3,\n",
    "           bbox_to_anchor=(-.05, 1.1))\n",
    "plt.subplots_adjust(left=None,\n",
    "                    bottom=None,\n",
    "                    right=None,\n",
    "                    top=None,\n",
    "                    wspace=.4,\n",
    "                    hspace=None)\n",
    "\n",
    "#plt.tight_layout()\n",
    "plt.savefig('logistic-fig_k_SCAD.eps',\n",
    "            format='eps',\n",
    "            dpi=600,\n",
    "            bbox_inches='tight')\n",
    "plt.show()"
   ]
  },
  {
   "cell_type": "markdown",
   "id": "fbe39d54",
   "metadata": {},
   "source": [
    "### MCP"
   ]
  },
  {
   "cell_type": "code",
   "execution_count": 17,
   "id": "0c266737",
   "metadata": {
    "ExecuteTime": {
     "end_time": "2022-09-22T14:21:35.337962Z",
     "start_time": "2022-09-22T14:21:35.333833Z"
    }
   },
   "outputs": [
    {
     "name": "stdout",
     "output_type": "stream",
     "text": [
      "Median:\n",
      "AG:  [[22.  29.5 10.   7. ]\n",
      " [24.  25.  11.   7. ]\n",
      " [62.  48.5 27.  18. ]]\n",
      "proximal gradient:  [[ 80.  187.   22.   11. ]\n",
      " [ 96.  123.5  25.5  13. ]\n",
      " [598.  264.  106.   49. ]]\n",
      "original settings:  [[33.  45.  17.  12. ]\n",
      " [37.  39.  18.  13. ]\n",
      " [92.  72.  43.  28.5]]\n",
      "Scaled MAD: \n",
      "AG:  [[ 1.483 12.602  1.483  0.   ]\n",
      " [ 1.483  5.93   1.483  0.   ]\n",
      " [14.826 14.085  8.896  5.93 ]]\n",
      "proximal gradient:  [[  7.413 135.658   2.965   1.483]\n",
      " [ 10.378  67.458   6.672   1.483]\n",
      " [247.594 137.882  53.374  22.239]]\n",
      "original settings:  [[ 1.483 18.532  1.483  1.483]\n",
      " [ 2.965  9.637  2.965  1.483]\n",
      " [20.756 20.756 13.343  8.154]]\n"
     ]
    }
   ],
   "source": [
    "MCP_sim_results = np.load(\"./tasks/task2speed/MCP_sim_results.npy\")\n",
    "\n",
    "MCP_sim_results_mean = np.median(MCP_sim_results, 2)\n",
    "print(\"Median:\")\n",
    "print(\"AG: \", MCP_sim_results_mean[..., 0])\n",
    "print(\"proximal gradient: \", MCP_sim_results_mean[..., 1])\n",
    "print(\"original settings: \", MCP_sim_results_mean[..., 2])\n",
    "MCP_sim_results_se = np.around(mad(MCP_sim_results, 2) * 1.4826, 3)\n",
    "print(\"Scaled MAD: \")\n",
    "print(\"AG: \", MCP_sim_results_se[..., 0])\n",
    "print(\"proximal gradient: \", MCP_sim_results_se[..., 1])\n",
    "print(\"original settings: \", MCP_sim_results_se[..., 2])\n",
    "\n",
    "logistic_MCP_iterations_latex = pasta(MCP_sim_results_mean, MCP_sim_results_se)"
   ]
  },
  {
   "cell_type": "code",
   "execution_count": 18,
   "id": "863eca2b",
   "metadata": {
    "ExecuteTime": {
     "end_time": "2022-09-22T14:21:37.044147Z",
     "start_time": "2022-09-22T14:21:35.338751Z"
    }
   },
   "outputs": [
    {
     "name": "stderr",
     "output_type": "stream",
     "text": [
      "The PostScript backend does not support transparency; partially transparent artists will be rendered opaque.\n"
     ]
    },
    {
     "data": {
      "image/png": "[encoded data removed]",
      "text/plain": [
       "<Figure size 640x480 with 12 Axes>"
      ]
     },
     "metadata": {},
     "output_type": "display_data"
    }
   ],
   "source": [
    "fig, axes = plt.subplots(3, 4)\n",
    "\n",
    "tau = np.array([.1, .5, .9])\n",
    "N = np.array([200, 500, 1000, 3000])\n",
    "\n",
    "for i, j in itertools.product(range(3), range(4)):\n",
    "    df = pd.DataFrame(columns=[\n",
    "        'AG with suggested settings', 'proximal gradient',\n",
    "        'AG with orginal settings'\n",
    "    ],\n",
    "                      data=MCP_sim_results[i, j, ...])\n",
    "    df_melted = pd.melt(df,\n",
    "                        id_vars=[],\n",
    "                        value_vars=[\n",
    "                            'AG with suggested settings',\n",
    "                            'AG with orginal settings', 'proximal gradient'\n",
    "                        ],\n",
    "                        var_name='method',\n",
    "                        value_name='k')\n",
    "    #     sns.boxplot(ax=axes[i, j], data=df_melted, x=\"method\", y=\"k\", hue=\"method\", showfliers = False)#.set_title(r'$\\tau=$'+str(tau[i])+'$, N=$'+str(N[j]))\n",
    "    sns.barplot(ax=axes[i, j],\n",
    "                data=df_melted,\n",
    "                x=\"method\",\n",
    "                y=\"k\",\n",
    "                hue=\"method\",\n",
    "                estimator=np.median,\n",
    "                ci=95,\n",
    "                dodge=False)  #, palette = \"Greys\")\n",
    "    if i == 2 and j != 0:\n",
    "        axes[i, j].set(xticklabels=[], xlabel=r\"$n=$\" + str(N[j]),\n",
    "                       ylabel=None)  # yticklabels=[] to remove y scales\n",
    "    if j == 0 and i != 2:\n",
    "        axes[i, j].set(xticklabels=[],\n",
    "                       xlabel=None,\n",
    "                       ylabel=r\"$\\tau=$\" + str(tau[i]))\n",
    "    axes[2, 0].set(xticklabels=[],\n",
    "                   xlabel=r\"$n=$\" + str(N[0]),\n",
    "                   ylabel=r\"$\\tau=$\" + str(tau[2]))\n",
    "    if i != 2 and j != 0:\n",
    "        axes[i, j].set(xticklabels=[], xlabel=None, ylabel=None)\n",
    "\n",
    "    axes[i, j].get_legend().remove()\n",
    "\n",
    "handles, labels = axes[0, 0].get_legend_handles_labels()\n",
    "fig.legend(handles,\n",
    "           labels,\n",
    "           loc='upper left',\n",
    "           ncol=3,\n",
    "           bbox_to_anchor=(-.05, 1.1))\n",
    "plt.subplots_adjust(left=None,\n",
    "                    bottom=None,\n",
    "                    right=None,\n",
    "                    top=None,\n",
    "                    wspace=.4,\n",
    "                    hspace=None)\n",
    "\n",
    "#plt.tight_layout()\n",
    "plt.savefig('logistic-fig_k_MCP.eps',\n",
    "            format='eps',\n",
    "            dpi=600,\n",
    "            bbox_inches='tight')\n",
    "plt.show()"
   ]
  },
  {
   "cell_type": "markdown",
   "id": "a2c0701c",
   "metadata": {},
   "source": [
    "# logistic -- Signals\n",
    "## SCAD\n",
    "### AG"
   ]
  },
  {
   "cell_type": "code",
   "execution_count": 19,
   "id": "0d17d6b9",
   "metadata": {
    "ExecuteTime": {
     "end_time": "2022-09-22T14:21:37.057609Z",
     "start_time": "2022-09-22T14:21:37.045331Z"
    }
   },
   "outputs": [
    {
     "name": "stdout",
     "output_type": "stream",
     "text": [
      "Sample mean:\n",
      "2-norm:  [['0.762 (0.046)' '0.808 (0.04)' '0.897 (0.034)']\n",
      " ['0.553 (0.061)' '0.652 (0.055)' '0.82 (0.054)']\n",
      " ['0.393 (0.068)' '0.522 (0.068)' '0.779 (0.074)']\n",
      " ['0.319 (0.065)' '0.467 (0.085)' '0.768 (0.087)']]\n",
      "infinity-norm:  [['2.379 (0.437)' '2.465 (0.408)' '2.747 (0.482)']\n",
      " ['2.003 (0.425)' '2.171 (0.402)' '2.632 (0.468)']\n",
      " ['1.661 (0.391)' '1.897 (0.371)' '2.615 (0.417)']\n",
      " ['1.479 (0.374)' '1.786 (0.39)' '2.577 (0.425)']]\n",
      "PPV:  [['0.786 (0.082)' '0.775 (0.095)' '0.688 (0.121)']\n",
      " ['0.869 (0.06)' '0.853 (0.077)' '0.753 (0.109)']\n",
      " ['0.913 (0.045)' '0.873 (0.059)' '0.794 (0.094)']\n",
      " ['0.913 (0.048)' '0.88 (0.058)' '0.792 (0.095)']]\n",
      "NPV:  [['0.982 (0.001)' '0.981 (0.001)' '0.978 (0.0)']\n",
      " ['0.985 (0.002)' '0.983 (0.001)' '0.979 (0.001)']\n",
      " ['0.987 (0.002)' '0.984 (0.001)' '0.979 (0.001)']\n",
      " ['0.988 (0.002)' '0.984 (0.001)' '0.979 (0.001)']]\n",
      "active set cardi:  [['17.78 (4.063)' '13.78 (3.339)' '7.76 (2.173)']\n",
      " ['23.55 (5.222)' '17.24 (3.29)' '9.13 (2.477)']\n",
      " ['25.92 (4.064)' '19.36 (3.107)' '9.91 (2.421)']\n",
      " ['27.61 (4.709)' '20.46 (3.879)' '10.26 (2.423)']]\n"
     ]
    }
   ],
   "source": [
    "results_SCAD_signal_recovery = np.load(\n",
    "    \"./tasks/task2/results_SCAD_signal_recovery.npy\")\n",
    "\n",
    "results_SCAD_signal_recovery_mean = np.around(\n",
    "    np.mean(results_SCAD_signal_recovery, 2), 3)\n",
    "results_SCAD_signal_recovery_se = np.around(\n",
    "    np.std(results_SCAD_signal_recovery, 2), 3)\n",
    "print(\"Sample mean:\")\n",
    "print(\n",
    "    \"2-norm: \",\n",
    "    pasta(results_SCAD_signal_recovery_mean[..., 0],\n",
    "          results_SCAD_signal_recovery_se[..., 0]))\n",
    "print(\n",
    "    \"infinity-norm: \",\n",
    "    pasta(results_SCAD_signal_recovery_mean[..., 1],\n",
    "          results_SCAD_signal_recovery_se[..., 1]))\n",
    "print(\n",
    "    \"PPV: \",\n",
    "    pasta(results_SCAD_signal_recovery_mean[..., 2],\n",
    "          results_SCAD_signal_recovery_se[..., 2]))\n",
    "print(\n",
    "    \"NPV: \",\n",
    "    pasta(results_SCAD_signal_recovery_mean[..., 3],\n",
    "          results_SCAD_signal_recovery_se[..., 3]))\n",
    "print(\n",
    "    \"active set cardi: \",\n",
    "    pasta(results_SCAD_signal_recovery_mean[..., 4],\n",
    "          results_SCAD_signal_recovery_se[..., 4]))\n",
    "\n",
    "# results_SCAD_signal_recovery_median = cp.median(results_SCAD_signal_recovery, 2)\n",
    "# print(\"Sample median:\")\n",
    "# print(\"2-norm: \",results_SCAD_signal_recovery_median[...,0])\n",
    "# print(\"infinity-norm: \",results_SCAD_signal_recovery_median[...,1])\n",
    "# print(\"sensitivity: \",results_SCAD_signal_recovery_median[...,2])\n",
    "# print(\"specificity: \",results_SCAD_signal_recovery_median[...,3])\n",
    "# results_SCAD_signal_recovery_mad = mad(results_SCAD_signal_recovery.get(), 2)*1.4826\n",
    "# print(\"Scaled MAD:\")\n",
    "# print(\"2-norm: \",results_SCAD_signal_recovery_mad[...,0])\n",
    "# print(\"infinity-norm: \",results_SCAD_signal_recovery_mad[...,1])\n",
    "# print(\"sensitivity: \",results_SCAD_signal_recovery_mad[...,2])\n",
    "# print(\"specificity: \",results_SCAD_signal_recovery_mad[...,3])\n",
    "\n",
    "logistic_SCAD_signal_latex = pasta(results_SCAD_signal_recovery_mean,\n",
    "                                   results_SCAD_signal_recovery_se)"
   ]
  },
  {
   "cell_type": "markdown",
   "id": "239c2950",
   "metadata": {},
   "source": [
    "### ncvreg"
   ]
  },
  {
   "cell_type": "code",
   "execution_count": 20,
   "id": "95aa09ee",
   "metadata": {
    "ExecuteTime": {
     "end_time": "2022-09-22T14:21:37.066475Z",
     "start_time": "2022-09-22T14:21:37.058429Z"
    }
   },
   "outputs": [
    {
     "name": "stdout",
     "output_type": "stream",
     "text": [
      "Sample mean:\n",
      "2-norm:  [['0.804 (0.036)' '0.84 (0.032)' '0.903 (0.033)']\n",
      " ['0.601 (0.05)' '0.68 (0.061)' '0.81 (0.054)']\n",
      " ['0.436 (0.062)' '0.537 (0.086)' '0.742 (0.067)']\n",
      " ['0.379 (0.067)' '0.481 (0.084)' '0.716 (0.076)']]\n",
      "infinity-norm:  [['2.446 (0.438)' '2.518 (0.417)' '2.704 (0.49)']\n",
      " ['2.095 (0.41)' '2.203 (0.402)' '2.576 (0.426)']\n",
      " ['1.773 (0.407)' '1.906 (0.401)' '2.497 (0.407)']\n",
      " ['1.625 (0.397)' '1.78 (0.379)' '2.481 (0.374)']]\n",
      "PPV:  [['0.223 (0.047)' '0.261 (0.072)' '0.308 (0.172)']\n",
      " ['0.246 (0.046)' '0.266 (0.077)' '0.271 (0.147)']\n",
      " ['0.272 (0.055)' '0.283 (0.068)' '0.275 (0.121)']\n",
      " ['0.285 (0.054)' '0.285 (0.068)' '0.275 (0.129)']]\n",
      "NPV:  [['0.987 (0.002)' '0.985 (0.002)' '0.98 (0.001)']\n",
      " ['0.99 (0.002)' '0.987 (0.002)' '0.98 (0.001)']\n",
      " ['0.992 (0.002)' '0.988 (0.001)' '0.98 (0.001)']\n",
      " ['0.992 (0.002)' '0.989 (0.001)' '0.981 (0.001)']]\n",
      "active set cardi:  [['117.78 (29.691)' '86.54 (27.524)' '39.6 (20.86)']\n",
      " ['133.66 (29.134)' '101.39 (30.161)' '45.59 (19.916)']\n",
      " ['129.34 (26.492)' '100.58 (27.564)' '45.5 (17.789)']\n",
      " ['126.05 (26.186)' '102.73 (25.963)' '47.28 (18.9)']]\n"
     ]
    }
   ],
   "source": [
    "results_SCAD_signal_recovery = np.load(\n",
    "    \"./SCAD_MCP/logistic/R_results_SCAD_signal_recovery.npy\")\n",
    "results_SCAD_signal_recovery = np.reshape(results_SCAD_signal_recovery,\n",
    "                                          (4, 3, 100, 5),\n",
    "                                          \"F\")  # keep array dimension true\n",
    "\n",
    "results_SCAD_signal_recovery_mean = np.around(\n",
    "    np.mean(results_SCAD_signal_recovery, 2), 3)\n",
    "results_SCAD_signal_recovery_se = np.around(\n",
    "    np.std(results_SCAD_signal_recovery, 2), 3)\n",
    "print(\"Sample mean:\")\n",
    "print(\n",
    "    \"2-norm: \",\n",
    "    pasta(results_SCAD_signal_recovery_mean[..., 0],\n",
    "          results_SCAD_signal_recovery_se[..., 0]))\n",
    "print(\n",
    "    \"infinity-norm: \",\n",
    "    pasta(results_SCAD_signal_recovery_mean[..., 1],\n",
    "          results_SCAD_signal_recovery_se[..., 1]))\n",
    "print(\n",
    "    \"PPV: \",\n",
    "    pasta(results_SCAD_signal_recovery_mean[..., 2],\n",
    "          results_SCAD_signal_recovery_se[..., 2]))\n",
    "print(\n",
    "    \"NPV: \",\n",
    "    pasta(results_SCAD_signal_recovery_mean[..., 3],\n",
    "          results_SCAD_signal_recovery_se[..., 3]))\n",
    "print(\n",
    "    \"active set cardi: \",\n",
    "    pasta(results_SCAD_signal_recovery_mean[..., 4],\n",
    "          results_SCAD_signal_recovery_se[..., 4]))\n",
    "\n",
    "# results_SCAD_signal_recovery_median = cp.median(results_SCAD_signal_recovery, 2)\n",
    "# print(\"Sample median:\")\n",
    "# print(\"2-norm: \",results_SCAD_signal_recovery_median[...,0])\n",
    "# print(\"infinity-norm: \",results_SCAD_signal_recovery_median[...,1])\n",
    "# print(\"sensitivity: \",results_SCAD_signal_recovery_median[...,2])\n",
    "# print(\"specificity: \",results_SCAD_signal_recovery_median[...,3])\n",
    "# results_SCAD_signal_recovery_mad = mad(results_SCAD_signal_recovery.get(), 2)*1.4826\n",
    "# print(\"Scaled MAD:\")\n",
    "# print(\"2-norm: \",results_SCAD_signal_recovery_mad[...,0])\n",
    "# print(\"infinity-norm: \",results_SCAD_signal_recovery_mad[...,1])\n",
    "# print(\"sensitivity: \",results_SCAD_signal_recovery_mad[...,2])\n",
    "# print(\"specificity: \",results_SCAD_signal_recovery_mad[...,3])\n",
    "\n",
    "ncvreg_logistic_SCAD_signal_latex = pasta(results_SCAD_signal_recovery_mean,\n",
    "                                          results_SCAD_signal_recovery_se)"
   ]
  },
  {
   "cell_type": "markdown",
   "id": "45587236",
   "metadata": {},
   "source": [
    "### plot"
   ]
  },
  {
   "cell_type": "code",
   "execution_count": 21,
   "id": "65c2273c",
   "metadata": {
    "ExecuteTime": {
     "end_time": "2022-09-22T14:21:38.163981Z",
     "start_time": "2022-09-22T14:21:37.069870Z"
    }
   },
   "outputs": [
    {
     "name": "stderr",
     "output_type": "stream",
     "text": [
      "The PostScript backend does not support transparency; partially transparent artists will be rendered opaque.\n"
     ]
    },
    {
     "data": {
      "image/png": "[encoded data removed]",
      "text/plain": [
       "<Figure size 640x480 with 12 Axes>"
      ]
     },
     "metadata": {},
     "output_type": "display_data"
    }
   ],
   "source": [
    "AG = np.load(\"./tasks/task2/results_SCAD_signal_recovery.npy\")\n",
    "AG_mean = np.mean(AG, 2)\n",
    "AG_se = np.std(AG, 2)\n",
    "ncvreg = np.load(\"./SCAD_MCP/logistic/R_results_SCAD_signal_recovery.npy\")\n",
    "ncvreg = np.reshape(ncvreg, (4, 3, 100, 5), \"F\")  # keep array dimension true\n",
    "ncvreg_mean = np.mean(ncvreg, 2)\n",
    "ncvreg_se = np.std(ncvreg, 2)\n",
    "\n",
    "fig, axes = plt.subplots(3, 4)\n",
    "\n",
    "tau = np.array([.1, .5, .9])\n",
    "SNR = np.array([1, 3, 7, 10])\n",
    "\n",
    "for i, j in itertools.product(range(3), range(4)):\n",
    "    data = np.array([[AG_mean[j, i, 2], ncvreg_mean[j, i, 2]],\n",
    "                     [AG_mean[j, i, 3], ncvreg_mean[j, i, 3]]])\n",
    "    data_se = np.array([[AG_se[j, i, 2], ncvreg_se[j, i, 2]],\n",
    "                        [AG_se[j, i, 3], ncvreg_se[j, i, 3]]])\n",
    "    length = len(data)\n",
    "    x_labels = [\"PPV\", \"NPV\"]\n",
    "    width = 0.35  # width of bar\n",
    "    x = np.arange(length)\n",
    "    axes[i, j].bar(x,\n",
    "                   data[:, 0],\n",
    "                   width,\n",
    "                   color='#000080',\n",
    "                   label='AG',\n",
    "                   yerr=data_se[:, 0])\n",
    "    axes[i, j].bar(x + width,\n",
    "                   data[:, 1],\n",
    "                   width,\n",
    "                   color='#73C2FB',\n",
    "                   label='ncvreg',\n",
    "                   yerr=data_se[:, 1])\n",
    "    #     ax.set_ylabel('Proportion')\n",
    "    #     ax.set_ylim(0,75)\n",
    "    axes[i, j].set_xticks(x + width / 2)\n",
    "    axes[i, j].set_xticklabels(x_labels)\n",
    "    axes[i, j].set_xlabel('Predicted Values')\n",
    "    #     ax.set_title('Title')\n",
    "    #     axes[i,j].legend()\n",
    "\n",
    "    if i == 2 and j != 0:\n",
    "        axes[i, j].set(xticklabels=x_labels,\n",
    "                       xlabel=r\"$SNR=$\" + str(SNR[j]),\n",
    "                       ylabel=None)  # yticklabels=[] to remove y scales\n",
    "    if j == 0 and i != 2:\n",
    "        axes[i, j].set(xticklabels=x_labels,\n",
    "                       xlabel=None,\n",
    "                       ylabel=r\"$\\tau=$\" + str(tau[i]))\n",
    "    axes[2, 0].set(xticklabels=x_labels,\n",
    "                   xlabel=r\"$SNR=$\" + str(SNR[0]),\n",
    "                   ylabel=r\"$\\tau=$\" + str(tau[2]))\n",
    "    if i != 2 and j != 0:\n",
    "        axes[i, j].set(xticklabels=x_labels, xlabel=None, ylabel=None)\n",
    "\n",
    "for ax in axes.flat:\n",
    "    ax.label_outer()\n",
    "\n",
    "# plt.grid(True, 'major', 'y', ls='--', lw=.5, c='k', alpha=.3)\n",
    "fig.tight_layout(pad=.2)\n",
    "handles, labels = axes[0, 0].get_legend_handles_labels()\n",
    "fig.legend(handles,\n",
    "           labels,\n",
    "           loc='upper left',\n",
    "           ncol=4,\n",
    "           bbox_to_anchor=(.35, 1.075))\n",
    "\n",
    "plt.tight_layout()\n",
    "plt.savefig('logistic-SCAD-pv.eps', format='eps', dpi=600, bbox_inches='tight')\n",
    "plt.show()"
   ]
  },
  {
   "cell_type": "markdown",
   "id": "8e21887f",
   "metadata": {},
   "source": [
    "## MCP\n",
    "### AG"
   ]
  },
  {
   "cell_type": "code",
   "execution_count": 22,
   "id": "cf533c10",
   "metadata": {
    "ExecuteTime": {
     "end_time": "2022-09-22T14:21:38.170719Z",
     "start_time": "2022-09-22T14:21:38.165068Z"
    }
   },
   "outputs": [
    {
     "name": "stdout",
     "output_type": "stream",
     "text": [
      "Sample mean:\n",
      "2-norm:  [['0.76 (0.045)' '0.808 (0.041)' '0.895 (0.035)']\n",
      " ['0.551 (0.065)' '0.654 (0.06)' '0.819 (0.056)']\n",
      " ['0.387 (0.073)' '0.522 (0.074)' '0.767 (0.071)']\n",
      " ['0.316 (0.068)' '0.466 (0.08)' '0.762 (0.079)']]\n",
      "infinity-norm:  [['2.379 (0.441)' '2.469 (0.408)' '2.735 (0.476)']\n",
      " ['2.005 (0.426)' '2.172 (0.41)' '2.621 (0.452)']\n",
      " ['1.651 (0.401)' '1.894 (0.377)' '2.578 (0.422)']\n",
      " ['1.473 (0.376)' '1.788 (0.383)' '2.586 (0.434)']]\n",
      "PPV:  [['0.872 (0.06)' '0.866 (0.055)' '0.776 (0.106)']\n",
      " ['0.903 (0.046)' '0.886 (0.058)' '0.788 (0.097)']\n",
      " ['0.922 (0.041)' '0.899 (0.053)' '0.811 (0.084)']\n",
      " ['0.921 (0.039)' '0.897 (0.054)' '0.795 (0.103)']]\n",
      "NPV:  [['0.982 (0.001)' '0.98 (0.001)' '0.978 (0.001)']\n",
      " ['0.985 (0.002)' '0.982 (0.001)' '0.979 (0.001)']\n",
      " ['0.987 (0.002)' '0.984 (0.001)' '0.98 (0.001)']\n",
      " ['0.988 (0.002)' '0.984 (0.001)' '0.98 (0.001)']]\n",
      "active set cardi:  [['14.62 (3.61)' '11.27 (2.561)' '7.04 (2.135)']\n",
      " ['22.06 (5.093)' '16.08 (3.638)' '9.05 (2.251)']\n",
      " ['25.56 (4.435)' '18.78 (3.596)' '10.67 (2.573)']\n",
      " ['27.14 (4.492)' '20.06 (3.544)' '11.41 (3.007)']]\n"
     ]
    }
   ],
   "source": [
    "results_MCP_signal_recovery = np.load(\n",
    "    \"./tasks/task2/results_MCP_signal_recovery.npy\")\n",
    "\n",
    "results_MCP_signal_recovery_mean = np.around(\n",
    "    np.mean(results_MCP_signal_recovery, 2), 3)\n",
    "results_MCP_signal_recovery_se = np.around(\n",
    "    np.std(results_MCP_signal_recovery, 2), 3)\n",
    "print(\"Sample mean:\")\n",
    "print(\n",
    "    \"2-norm: \",\n",
    "    pasta(results_MCP_signal_recovery_mean[..., 0],\n",
    "          results_MCP_signal_recovery_se[..., 0]))\n",
    "print(\n",
    "    \"infinity-norm: \",\n",
    "    pasta(results_MCP_signal_recovery_mean[..., 1],\n",
    "          results_MCP_signal_recovery_se[..., 1]))\n",
    "print(\n",
    "    \"PPV: \",\n",
    "    pasta(results_MCP_signal_recovery_mean[..., 2],\n",
    "          results_MCP_signal_recovery_se[..., 2]))\n",
    "print(\n",
    "    \"NPV: \",\n",
    "    pasta(results_MCP_signal_recovery_mean[..., 3],\n",
    "          results_MCP_signal_recovery_se[..., 3]))\n",
    "print(\n",
    "    \"active set cardi: \",\n",
    "    pasta(results_MCP_signal_recovery_mean[..., 4],\n",
    "          results_MCP_signal_recovery_se[..., 4]))\n",
    "\n",
    "# results_MCP_signal_recovery_median = cp.median(results_MCP_signal_recovery, 2)\n",
    "# print(\"Sample median:\")\n",
    "# print(\"2-norm: \",results_MCP_signal_recovery_median[...,0])\n",
    "# print(\"infinity-norm: \",results_MCP_signal_recovery_median[...,1])\n",
    "# print(\"sensitivity: \",results_MCP_signal_recovery_median[...,2])\n",
    "# print(\"specificity: \",results_MCP_signal_recovery_median[...,3])\n",
    "# results_MCP_signal_recovery_mad = mad(results_MCP_signal_recovery.get(), 2)*1.4826\n",
    "# print(\"Scaled MAD:\")\n",
    "# print(\"2-norm: \",results_MCP_signal_recovery_mad[...,0])\n",
    "# print(\"infinity-norm: \",results_MCP_signal_recovery_mad[...,1])\n",
    "# print(\"sensitivity: \",results_MCP_signal_recovery_mad[...,2])\n",
    "# print(\"specificity: \",results_MCP_signal_recovery_mad[...,3])\n",
    "\n",
    "logistic_MCP_signal_latex = pasta(results_MCP_signal_recovery_mean,\n",
    "                                  results_MCP_signal_recovery_se)"
   ]
  },
  {
   "cell_type": "markdown",
   "id": "6f99dbbf",
   "metadata": {},
   "source": [
    "### ncvreg"
   ]
  },
  {
   "cell_type": "code",
   "execution_count": 23,
   "id": "452c5ec8",
   "metadata": {
    "ExecuteTime": {
     "end_time": "2022-09-22T14:21:38.176186Z",
     "start_time": "2022-09-22T14:21:38.171364Z"
    }
   },
   "outputs": [
    {
     "name": "stdout",
     "output_type": "stream",
     "text": [
      "Sample mean:\n",
      "2-norm:  [['0.796 (0.034)' '0.83 (0.032)' '0.904 (0.035)']\n",
      " ['0.598 (0.05)' '0.668 (0.061)' '0.827 (0.055)']\n",
      " ['0.434 (0.057)' '0.537 (0.074)' '0.754 (0.07)']\n",
      " ['0.381 (0.059)' '0.474 (0.08)' '0.741 (0.075)']]\n",
      "infinity-norm:  [['2.439 (0.442)' '2.501 (0.416)' '2.719 (0.471)']\n",
      " ['2.098 (0.414)' '2.187 (0.402)' '2.606 (0.424)']\n",
      " ['1.772 (0.402)' '1.91 (0.385)' '2.554 (0.459)']\n",
      " ['1.644 (0.389)' '1.77 (0.382)' '2.54 (0.437)']]\n",
      "PPV:  [['0.378 (0.074)' '0.4 (0.1)' '0.382 (0.154)']\n",
      " ['0.427 (0.075)' '0.424 (0.096)' '0.399 (0.142)']\n",
      " ['0.468 (0.073)' '0.467 (0.097)' '0.429 (0.139)']\n",
      " ['0.493 (0.069)' '0.475 (0.101)' '0.427 (0.149)']]\n",
      "NPV:  [['0.986 (0.002)' '0.983 (0.001)' '0.978 (0.001)']\n",
      " ['0.989 (0.002)' '0.985 (0.001)' '0.979 (0.001)']\n",
      " ['0.99 (0.002)' '0.986 (0.001)' '0.98 (0.001)']\n",
      " ['0.991 (0.002)' '0.987 (0.001)' '0.98 (0.001)']]\n",
      "active set cardi:  [['117.78 (13.338)' '86.54 (12.134)' '39.6 (8.82)']\n",
      " ['133.66 (14.005)' '101.39 (15.427)' '45.59 (8.351)']\n",
      " ['129.34 (12.959)' '100.58 (12.016)' '45.5 (8.951)']\n",
      " ['126.05 (11.09)' '102.73 (13.028)' '47.28 (9.898)']]\n"
     ]
    }
   ],
   "source": [
    "results_MCP_signal_recovery = np.load(\n",
    "    \"./SCAD_MCP/logistic/R_results_MCP_signal_recovery.npy\")\n",
    "results_MCP_signal_recovery = np.reshape(results_MCP_signal_recovery,\n",
    "                                         (4, 3, 100, 5),\n",
    "                                         \"F\")  # keep array dimension true\n",
    "\n",
    "results_MCP_signal_recovery_mean = np.around(\n",
    "    np.mean(results_MCP_signal_recovery, 2), 3)\n",
    "results_MCP_signal_recovery_se = np.around(\n",
    "    np.std(results_MCP_signal_recovery, 2), 3)\n",
    "print(\"Sample mean:\")\n",
    "print(\n",
    "    \"2-norm: \",\n",
    "    pasta(results_MCP_signal_recovery_mean[..., 0],\n",
    "          results_MCP_signal_recovery_se[..., 0]))\n",
    "print(\n",
    "    \"infinity-norm: \",\n",
    "    pasta(results_MCP_signal_recovery_mean[..., 1],\n",
    "          results_MCP_signal_recovery_se[..., 1]))\n",
    "print(\n",
    "    \"PPV: \",\n",
    "    pasta(results_MCP_signal_recovery_mean[..., 2],\n",
    "          results_MCP_signal_recovery_se[..., 2]))\n",
    "print(\n",
    "    \"NPV: \",\n",
    "    pasta(results_MCP_signal_recovery_mean[..., 3],\n",
    "          results_MCP_signal_recovery_se[..., 3]))\n",
    "print(\n",
    "    \"active set cardi: \",\n",
    "    pasta(results_SCAD_signal_recovery_mean[..., 4],\n",
    "          results_MCP_signal_recovery_se[..., 4]))\n",
    "\n",
    "# results_MCP_signal_recovery_median = cp.median(results_MCP_signal_recovery, 2)\n",
    "# print(\"Sample median:\")\n",
    "# print(\"2-norm: \",results_MCP_signal_recovery_median[...,0])\n",
    "# print(\"infinity-norm: \",results_MCP_signal_recovery_median[...,1])\n",
    "# print(\"sensitivity: \",results_MCP_signal_recovery_median[...,2])\n",
    "# print(\"specificity: \",results_MCP_signal_recovery_median[...,3])\n",
    "# results_MCP_signal_recovery_mad = mad(results_MCP_signal_recovery.get(), 2)*1.4826\n",
    "# print(\"Scaled MAD:\")\n",
    "# print(\"2-norm: \",results_MCP_signal_recovery_mad[...,0])\n",
    "# print(\"infinity-norm: \",results_MCP_signal_recovery_mad[...,1])\n",
    "# print(\"sensitivity: \",results_MCP_signal_recovery_mad[...,2])\n",
    "# print(\"specificity: \",results_MCP_signal_recovery_mad[...,3])\n",
    "\n",
    "ncvreg_logistic_MCP_signal_latex = pasta(results_MCP_signal_recovery_mean,\n",
    "                                         results_MCP_signal_recovery_se)"
   ]
  },
  {
   "cell_type": "markdown",
   "id": "b7080165",
   "metadata": {},
   "source": [
    "### plot"
   ]
  },
  {
   "cell_type": "code",
   "execution_count": 24,
   "id": "f05676cb",
   "metadata": {
    "ExecuteTime": {
     "end_time": "2022-09-22T14:21:39.210042Z",
     "start_time": "2022-09-22T14:21:38.176900Z"
    }
   },
   "outputs": [
    {
     "name": "stderr",
     "output_type": "stream",
     "text": [
      "The PostScript backend does not support transparency; partially transparent artists will be rendered opaque.\n"
     ]
    },
    {
     "data": {
      "image/png": "[encoded data removed]",
      "text/plain": [
       "<Figure size 640x480 with 12 Axes>"
      ]
     },
     "metadata": {},
     "output_type": "display_data"
    }
   ],
   "source": [
    "AG = np.load(\"./tasks/task2/results_MCP_signal_recovery.npy\")\n",
    "AG_mean = np.mean(AG, 2)\n",
    "AG_se = np.std(AG, 2)\n",
    "ncvreg = np.load(\"./SCAD_MCP/logistic/R_results_MCP_signal_recovery.npy\")\n",
    "ncvreg = np.reshape(ncvreg, (4, 3, 100, 5), \"F\")  # keep array dimension true\n",
    "ncvreg_mean = np.mean(ncvreg, 2)\n",
    "ncvreg_se = np.std(ncvreg, 2)\n",
    "\n",
    "fig, axes = plt.subplots(3, 4)\n",
    "\n",
    "tau = np.array([.1, .5, .9])\n",
    "SNR = np.array([1, 3, 7, 10])\n",
    "\n",
    "for i, j in itertools.product(range(3), range(4)):\n",
    "    data = np.array([[AG_mean[j, i, 2], ncvreg_mean[j, i, 2]],\n",
    "                     [AG_mean[j, i, 3], ncvreg_mean[j, i, 3]]])\n",
    "    data_se = np.array([[AG_se[j, i, 2], ncvreg_se[j, i, 2]],\n",
    "                        [AG_se[j, i, 3], ncvreg_se[j, i, 3]]])\n",
    "    length = len(data)\n",
    "    x_labels = [\"PPV\", \"NPV\"]\n",
    "    width = 0.35  # width of bar\n",
    "    x = np.arange(length)\n",
    "    axes[i, j].bar(x,\n",
    "                   data[:, 0],\n",
    "                   width,\n",
    "                   color='#000080',\n",
    "                   label='AG',\n",
    "                   yerr=data_se[:, 0])\n",
    "    axes[i, j].bar(x + width,\n",
    "                   data[:, 1],\n",
    "                   width,\n",
    "                   color='#73C2FB',\n",
    "                   label='ncvreg',\n",
    "                   yerr=data_se[:, 1])\n",
    "    #     ax.set_ylabel('Proportion')\n",
    "    #     ax.set_ylim(0,75)\n",
    "    axes[i, j].set_xticks(x + width / 2)\n",
    "    axes[i, j].set_xticklabels(x_labels)\n",
    "    axes[i, j].set_xlabel('Predicted Values')\n",
    "    #     ax.set_title('Title')\n",
    "    #     axes[i,j].legend()\n",
    "\n",
    "    if i == 2 and j != 0:\n",
    "        axes[i, j].set(xticklabels=x_labels,\n",
    "                       xlabel=r\"$SNR=$\" + str(SNR[j]),\n",
    "                       ylabel=None)  # yticklabels=[] to remove y scales\n",
    "    if j == 0 and i != 2:\n",
    "        axes[i, j].set(xticklabels=x_labels,\n",
    "                       xlabel=None,\n",
    "                       ylabel=r\"$\\tau=$\" + str(tau[i]))\n",
    "    axes[2, 0].set(xticklabels=x_labels,\n",
    "                   xlabel=r\"$SNR=$\" + str(SNR[0]),\n",
    "                   ylabel=r\"$\\tau=$\" + str(tau[2]))\n",
    "    if i != 2 and j != 0:\n",
    "        axes[i, j].set(xticklabels=x_labels, xlabel=None, ylabel=None)\n",
    "\n",
    "for ax in axes.flat:\n",
    "    ax.label_outer()\n",
    "\n",
    "# plt.grid(True, 'major', 'y', ls='--', lw=.5, c='k', alpha=.3)\n",
    "fig.tight_layout(pad=.2)\n",
    "handles, labels = axes[0, 0].get_legend_handles_labels()\n",
    "fig.legend(handles,\n",
    "           labels,\n",
    "           loc='upper left',\n",
    "           ncol=4,\n",
    "           bbox_to_anchor=(.35, 1.075))\n",
    "\n",
    "plt.tight_layout()\n",
    "plt.savefig('logistic-MCP-pv.eps', format='eps', dpi=600, bbox_inches='tight')\n",
    "plt.show()"
   ]
  },
  {
   "cell_type": "markdown",
   "id": "c9a3e350",
   "metadata": {},
   "source": [
    "# LaTeX output"
   ]
  },
  {
   "cell_type": "code",
   "execution_count": 25,
   "id": "4cbafcac",
   "metadata": {
    "ExecuteTime": {
     "end_time": "2022-09-22T14:21:39.213650Z",
     "start_time": "2022-09-22T14:21:39.211034Z"
    }
   },
   "outputs": [],
   "source": [
    "def merge_row_by_row(A, B):\n",
    "    nrow, ncol = A.shape\n",
    "    _nrow, _ncol = B.shape\n",
    "    assert nrow == _nrow and ncol == _ncol\n",
    "    C = np.empty((nrow * 2, ncol), dtype=A.dtype)\n",
    "    C[np.arange(nrow) * 2, :] = A\n",
    "    C[np.arange(nrow) * 2 + 1, :] = B\n",
    "    return C\n",
    "\n",
    "\n",
    "def dollar(x):\n",
    "    return \"$\" + x + \"$\"\n",
    "\n",
    "\n",
    "def output_latex(A, B):\n",
    "    output = pd.DataFrame(merge_row_by_row(A, B))\n",
    "    return output.to_latex(formatters=[dollar, dollar, dollar],\n",
    "                           header=[r\"$\\tau$=0.1\", r\"$0.5$\", r\"$0.9$\"])"
   ]
  },
  {
   "cell_type": "code",
   "execution_count": 26,
   "id": "1227f966",
   "metadata": {
    "ExecuteTime": {
     "end_time": "2022-09-22T14:21:39.230463Z",
     "start_time": "2022-09-22T14:21:39.214462Z"
    },
    "scrolled": false
   },
   "outputs": [
    {
     "name": "stdout",
     "output_type": "stream",
     "text": [
      "signal recovery for LM SCAD\n",
      "\\begin{tabular}{llll}\n",
      "\\toprule\n",
      "{} &       \\$\\textbackslash tau\\$=0.1 &            \\$0.5\\$ &            \\$0.9\\$ \\\\\n",
      "\\midrule\n",
      "0 &  \\$0.129 (0.021)\\$ &  \\$0.504 (0.103)\\$ &  \\$2.859 (0.493)\\$ \\\\\n",
      "1 &   \\$0.131 (0.02)\\$ &  \\$0.493 (0.101)\\$ &  \\$2.932 (0.577)\\$ \\\\\n",
      "2 &  \\$0.051 (0.009)\\$ &  \\$0.155 (0.027)\\$ &  \\$2.038 (0.328)\\$ \\\\\n",
      "3 &  \\$0.053 (0.009)\\$ &  \\$0.157 (0.029)\\$ &  \\$2.082 (0.336)\\$ \\\\\n",
      "4 &  \\$0.022 (0.004)\\$ &  \\$0.084 (0.014)\\$ &   \\$1.27 (0.272)\\$ \\\\\n",
      "5 &  \\$0.022 (0.004)\\$ &  \\$0.083 (0.014)\\$ &  \\$1.297 (0.257)\\$ \\\\\n",
      "6 &  \\$0.016 (0.003)\\$ &  \\$0.063 (0.012)\\$ &  \\$1.167 (0.199)\\$ \\\\\n",
      "7 &  \\$0.016 (0.003)\\$ &  \\$0.063 (0.012)\\$ &  \\$1.152 (0.214)\\$ \\\\\n",
      "\\bottomrule\n",
      "\\end{tabular}\n",
      "\n",
      "\\begin{tabular}{llll}\n",
      "\\toprule\n",
      "{} &        \\$\\textbackslash tau\\$=0.1 &             \\$0.5\\$ &               \\$0.9\\$ \\\\\n",
      "\\midrule\n",
      "0 &  \\$21.447 (2.798)\\$ &  \\$48.472 (5.353)\\$ &    \\$159.96 (35.95)\\$ \\\\\n",
      "1 &  \\$20.412 (2.843)\\$ &  \\$47.143 (5.548)\\$ &  \\$170.276 (39.395)\\$ \\\\\n",
      "2 &   \\$13.229 (2.62)\\$ &  \\$24.778 (4.233)\\$ &   \\$114.446 (21.17)\\$ \\\\\n",
      "3 &  \\$13.257 (2.263)\\$ &   \\$25.142 (4.71)\\$ &   \\$116.379 (21.92)\\$ \\\\\n",
      "4 &   \\$8.925 (2.024)\\$ &  \\$17.917 (2.597)\\$ &   \\$75.972 (15.129)\\$ \\\\\n",
      "5 &   \\$8.465 (1.496)\\$ &  \\$17.806 (2.587)\\$ &   \\$78.868 (14.161)\\$ \\\\\n",
      "6 &   \\$7.631 (1.934)\\$ &  \\$16.107 (2.508)\\$ &   \\$71.532 (11.583)\\$ \\\\\n",
      "7 &   \\$7.131 (1.202)\\$ &  \\$16.144 (2.218)\\$ &   \\$72.398 (11.701)\\$ \\\\\n",
      "\\bottomrule\n",
      "\\end{tabular}\n",
      "\n",
      "\\begin{tabular}{llll}\n",
      "\\toprule\n",
      "{} &       \\$\\textbackslash tau\\$=0.1 &            \\$0.5\\$ &            \\$0.9\\$ \\\\\n",
      "\\midrule\n",
      "0 &   \\$0.751 (0.13)\\$ &   \\$0.587 (0.19)\\$ &  \\$0.493 (0.252)\\$ \\\\\n",
      "1 &  \\$0.254 (0.078)\\$ &  \\$0.277 (0.123)\\$ &  \\$0.287 (0.201)\\$ \\\\\n",
      "2 &  \\$0.646 (0.168)\\$ &    \\$0.544 (0.2)\\$ &  \\$0.343 (0.243)\\$ \\\\\n",
      "3 &  \\$0.279 (0.073)\\$ &  \\$0.305 (0.104)\\$ &  \\$0.263 (0.138)\\$ \\\\\n",
      "4 &  \\$0.546 (0.149)\\$ &  \\$0.411 (0.249)\\$ &  \\$0.202 (0.157)\\$ \\\\\n",
      "5 &   \\$0.32 (0.072)\\$ &   \\$0.34 (0.142)\\$ &   \\$0.21 (0.157)\\$ \\\\\n",
      "6 &  \\$0.512 (0.266)\\$ &  \\$0.429 (0.096)\\$ &  \\$0.208 (0.086)\\$ \\\\\n",
      "7 &  \\$0.343 (0.131)\\$ &  \\$0.406 (0.075)\\$ &  \\$0.208 (0.056)\\$ \\\\\n",
      "\\bottomrule\n",
      "\\end{tabular}\n",
      "\n",
      "\\begin{tabular}{llll}\n",
      "\\toprule\n",
      "{} &       \\$\\textbackslash tau\\$=0.1 &            \\$0.5\\$ &            \\$0.9\\$ \\\\\n",
      "\\midrule\n",
      "0 &  \\$0.984 (0.001)\\$ &  \\$0.984 (0.001)\\$ &  \\$0.979 (0.001)\\$ \\\\\n",
      "1 &  \\$0.987 (0.001)\\$ &  \\$0.986 (0.001)\\$ &   \\$0.98 (0.001)\\$ \\\\\n",
      "2 &  \\$0.989 (0.001)\\$ &  \\$0.988 (0.001)\\$ &   \\$0.98 (0.001)\\$ \\\\\n",
      "3 &   \\$0.99 (0.001)\\$ &  \\$0.989 (0.001)\\$ &   \\$0.98 (0.001)\\$ \\\\\n",
      "4 &  \\$0.992 (0.001)\\$ &  \\$0.991 (0.001)\\$ &  \\$0.982 (0.001)\\$ \\\\\n",
      "5 &  \\$0.992 (0.001)\\$ &  \\$0.991 (0.001)\\$ &  \\$0.982 (0.001)\\$ \\\\\n",
      "6 &  \\$0.993 (0.001)\\$ &  \\$0.992 (0.001)\\$ &  \\$0.982 (0.001)\\$ \\\\\n",
      "7 &  \\$0.993 (0.001)\\$ &  \\$0.992 (0.001)\\$ &  \\$0.982 (0.001)\\$ \\\\\n",
      "\\bottomrule\n",
      "\\end{tabular}\n",
      "\n"
     ]
    }
   ],
   "source": [
    "print(\"signal recovery for LM SCAD\")\n",
    "for j in range(4):\n",
    "    print(\n",
    "        output_latex(LM_SCAD_signal_latex[..., j],\n",
    "                     ncvreg_LM_SCAD_signal_latex[..., j]))"
   ]
  },
  {
   "cell_type": "code",
   "execution_count": 27,
   "id": "1bdf43c0",
   "metadata": {
    "ExecuteTime": {
     "end_time": "2022-09-22T14:21:39.239663Z",
     "start_time": "2022-09-22T14:21:39.231642Z"
    }
   },
   "outputs": [
    {
     "name": "stdout",
     "output_type": "stream",
     "text": [
      "signal recovery for LM MCP\n",
      "\\begin{tabular}{llll}\n",
      "\\toprule\n",
      "{} &       \\$\\textbackslash tau\\$=0.1 &            \\$0.5\\$ &            \\$0.9\\$ \\\\\n",
      "\\midrule\n",
      "0 &  \\$0.134 (0.024)\\$ &  \\$0.543 (0.117)\\$ &   \\$2.955 (0.51)\\$ \\\\\n",
      "1 &  \\$0.127 (0.021)\\$ &  \\$0.495 (0.112)\\$ &  \\$2.848 (0.375)\\$ \\\\\n",
      "2 &    \\$0.05 (0.01)\\$ &  \\$0.168 (0.032)\\$ &  \\$1.946 (0.333)\\$ \\\\\n",
      "3 &   \\$0.05 (0.009)\\$ &  \\$0.164 (0.033)\\$ &  \\$1.876 (0.337)\\$ \\\\\n",
      "4 &  \\$0.022 (0.004)\\$ &  \\$0.088 (0.015)\\$ &    \\$1.507 (0.3)\\$ \\\\\n",
      "5 &  \\$0.021 (0.004)\\$ &  \\$0.085 (0.014)\\$ &  \\$1.443 (0.261)\\$ \\\\\n",
      "6 &  \\$0.015 (0.003)\\$ &  \\$0.059 (0.012)\\$ &  \\$1.079 (0.285)\\$ \\\\\n",
      "7 &  \\$0.014 (0.003)\\$ &  \\$0.059 (0.012)\\$ &  \\$1.104 (0.211)\\$ \\\\\n",
      "\\bottomrule\n",
      "\\end{tabular}\n",
      "\n",
      "\\begin{tabular}{llll}\n",
      "\\toprule\n",
      "{} &        \\$\\textbackslash tau\\$=0.1 &             \\$0.5\\$ &               \\$0.9\\$ \\\\\n",
      "\\midrule\n",
      "0 &  \\$22.688 (2.928)\\$ &  \\$50.134 (5.825)\\$ &   \\$163.886 (35.84)\\$ \\\\\n",
      "1 &  \\$20.793 (2.687)\\$ &  \\$47.928 (6.042)\\$ &   \\$160.78 (30.234)\\$ \\\\\n",
      "2 &  \\$14.011 (2.744)\\$ &  \\$25.204 (4.825)\\$ &  \\$107.147 (19.601)\\$ \\\\\n",
      "3 &  \\$13.448 (2.454)\\$ &  \\$24.955 (4.365)\\$ &  \\$102.795 (20.161)\\$ \\\\\n",
      "4 &   \\$8.933 (2.029)\\$ &  \\$18.473 (2.999)\\$ &   \\$86.237 (17.206)\\$ \\\\\n",
      "5 &    \\$8.43 (1.508)\\$ &  \\$18.067 (2.806)\\$ &   \\$83.569 (16.416)\\$ \\\\\n",
      "6 &   \\$7.721 (2.016)\\$ &  \\$15.002 (3.023)\\$ &    \\$68.41 (13.265)\\$ \\\\\n",
      "7 &   \\$7.181 (1.098)\\$ &  \\$15.222 (2.679)\\$ &   \\$68.253 (11.907)\\$ \\\\\n",
      "\\bottomrule\n",
      "\\end{tabular}\n",
      "\n",
      "\\begin{tabular}{llll}\n",
      "\\toprule\n",
      "{} &       \\$\\textbackslash tau\\$=0.1 &            \\$0.5\\$ &            \\$0.9\\$ \\\\\n",
      "\\midrule\n",
      "0 &  \\$0.855 (0.095)\\$ &   \\$0.738 (0.16)\\$ &  \\$0.687 (0.181)\\$ \\\\\n",
      "1 &  \\$0.439 (0.105)\\$ &  \\$0.392 (0.119)\\$ &  \\$0.385 (0.178)\\$ \\\\\n",
      "2 &  \\$0.842 (0.109)\\$ &  \\$0.724 (0.216)\\$ &   \\$0.445 (0.28)\\$ \\\\\n",
      "3 &  \\$0.489 (0.102)\\$ &  \\$0.479 (0.117)\\$ &    \\$0.37 (0.18)\\$ \\\\\n",
      "4 &  \\$0.759 (0.171)\\$ &  \\$0.667 (0.287)\\$ &  \\$0.506 (0.212)\\$ \\\\\n",
      "5 &  \\$0.536 (0.131)\\$ &  \\$0.538 (0.173)\\$ &  \\$0.499 (0.211)\\$ \\\\\n",
      "6 &  \\$0.794 (0.105)\\$ &  \\$0.479 (0.123)\\$ &  \\$0.352 (0.198)\\$ \\\\\n",
      "7 &   \\$0.56 (0.113)\\$ &  \\$0.468 (0.121)\\$ &  \\$0.352 (0.211)\\$ \\\\\n",
      "\\bottomrule\n",
      "\\end{tabular}\n",
      "\n",
      "\\begin{tabular}{llll}\n",
      "\\toprule\n",
      "{} &       \\$\\textbackslash tau\\$=0.1 &            \\$0.5\\$ &            \\$0.9\\$ \\\\\n",
      "\\midrule\n",
      "0 &  \\$0.983 (0.001)\\$ &  \\$0.982 (0.001)\\$ &    \\$0.978 (0.0)\\$ \\\\\n",
      "1 &  \\$0.985 (0.001)\\$ &  \\$0.984 (0.001)\\$ &    \\$0.979 (0.0)\\$ \\\\\n",
      "2 &  \\$0.987 (0.001)\\$ &  \\$0.986 (0.001)\\$ &   \\$0.98 (0.001)\\$ \\\\\n",
      "3 &  \\$0.989 (0.001)\\$ &  \\$0.987 (0.001)\\$ &   \\$0.98 (0.001)\\$ \\\\\n",
      "4 &  \\$0.991 (0.001)\\$ &  \\$0.989 (0.001)\\$ &  \\$0.981 (0.001)\\$ \\\\\n",
      "5 &  \\$0.992 (0.001)\\$ &  \\$0.989 (0.001)\\$ &  \\$0.981 (0.001)\\$ \\\\\n",
      "6 &  \\$0.992 (0.001)\\$ &   \\$0.99 (0.001)\\$ &  \\$0.982 (0.001)\\$ \\\\\n",
      "7 &  \\$0.992 (0.001)\\$ &   \\$0.99 (0.001)\\$ &  \\$0.982 (0.001)\\$ \\\\\n",
      "\\bottomrule\n",
      "\\end{tabular}\n",
      "\n"
     ]
    }
   ],
   "source": [
    "print(\"signal recovery for LM MCP\")\n",
    "for j in range(4):\n",
    "    print(\n",
    "        output_latex(LM_MCP_signal_latex[..., j],\n",
    "                     ncvreg_LM_MCP_signal_latex[..., j]))"
   ]
  },
  {
   "cell_type": "code",
   "execution_count": 28,
   "id": "95020702",
   "metadata": {
    "ExecuteTime": {
     "end_time": "2022-09-22T14:21:39.247462Z",
     "start_time": "2022-09-22T14:21:39.240417Z"
    }
   },
   "outputs": [
    {
     "name": "stdout",
     "output_type": "stream",
     "text": [
      "signal recovery for logistic SCAD\n",
      "\\begin{tabular}{llll}\n",
      "\\toprule\n",
      "{} &       \\$\\textbackslash tau\\$=0.1 &            \\$0.5\\$ &            \\$0.9\\$ \\\\\n",
      "\\midrule\n",
      "0 &  \\$0.762 (0.046)\\$ &   \\$0.808 (0.04)\\$ &  \\$0.897 (0.034)\\$ \\\\\n",
      "1 &  \\$0.804 (0.036)\\$ &   \\$0.84 (0.032)\\$ &  \\$0.903 (0.033)\\$ \\\\\n",
      "2 &  \\$0.553 (0.061)\\$ &  \\$0.652 (0.055)\\$ &   \\$0.82 (0.054)\\$ \\\\\n",
      "3 &   \\$0.601 (0.05)\\$ &   \\$0.68 (0.061)\\$ &   \\$0.81 (0.054)\\$ \\\\\n",
      "4 &  \\$0.393 (0.068)\\$ &  \\$0.522 (0.068)\\$ &  \\$0.779 (0.074)\\$ \\\\\n",
      "5 &  \\$0.436 (0.062)\\$ &  \\$0.537 (0.086)\\$ &  \\$0.742 (0.067)\\$ \\\\\n",
      "6 &  \\$0.319 (0.065)\\$ &  \\$0.467 (0.085)\\$ &  \\$0.768 (0.087)\\$ \\\\\n",
      "7 &  \\$0.379 (0.067)\\$ &  \\$0.481 (0.084)\\$ &  \\$0.716 (0.076)\\$ \\\\\n",
      "\\bottomrule\n",
      "\\end{tabular}\n",
      "\n",
      "\\begin{tabular}{llll}\n",
      "\\toprule\n",
      "{} &       \\$\\textbackslash tau\\$=0.1 &            \\$0.5\\$ &            \\$0.9\\$ \\\\\n",
      "\\midrule\n",
      "0 &  \\$2.379 (0.437)\\$ &  \\$2.465 (0.408)\\$ &  \\$2.747 (0.482)\\$ \\\\\n",
      "1 &  \\$2.446 (0.438)\\$ &  \\$2.518 (0.417)\\$ &   \\$2.704 (0.49)\\$ \\\\\n",
      "2 &  \\$2.003 (0.425)\\$ &  \\$2.171 (0.402)\\$ &  \\$2.632 (0.468)\\$ \\\\\n",
      "3 &   \\$2.095 (0.41)\\$ &  \\$2.203 (0.402)\\$ &  \\$2.576 (0.426)\\$ \\\\\n",
      "4 &  \\$1.661 (0.391)\\$ &  \\$1.897 (0.371)\\$ &  \\$2.615 (0.417)\\$ \\\\\n",
      "5 &  \\$1.773 (0.407)\\$ &  \\$1.906 (0.401)\\$ &  \\$2.497 (0.407)\\$ \\\\\n",
      "6 &  \\$1.479 (0.374)\\$ &   \\$1.786 (0.39)\\$ &  \\$2.577 (0.425)\\$ \\\\\n",
      "7 &  \\$1.625 (0.397)\\$ &   \\$1.78 (0.379)\\$ &  \\$2.481 (0.374)\\$ \\\\\n",
      "\\bottomrule\n",
      "\\end{tabular}\n",
      "\n",
      "\\begin{tabular}{llll}\n",
      "\\toprule\n",
      "{} &       \\$\\textbackslash tau\\$=0.1 &            \\$0.5\\$ &            \\$0.9\\$ \\\\\n",
      "\\midrule\n",
      "0 &  \\$0.786 (0.082)\\$ &  \\$0.775 (0.095)\\$ &  \\$0.688 (0.121)\\$ \\\\\n",
      "1 &  \\$0.223 (0.047)\\$ &  \\$0.261 (0.072)\\$ &  \\$0.308 (0.172)\\$ \\\\\n",
      "2 &   \\$0.869 (0.06)\\$ &  \\$0.853 (0.077)\\$ &  \\$0.753 (0.109)\\$ \\\\\n",
      "3 &  \\$0.246 (0.046)\\$ &  \\$0.266 (0.077)\\$ &  \\$0.271 (0.147)\\$ \\\\\n",
      "4 &  \\$0.913 (0.045)\\$ &  \\$0.873 (0.059)\\$ &  \\$0.794 (0.094)\\$ \\\\\n",
      "5 &  \\$0.272 (0.055)\\$ &  \\$0.283 (0.068)\\$ &  \\$0.275 (0.121)\\$ \\\\\n",
      "6 &  \\$0.913 (0.048)\\$ &   \\$0.88 (0.058)\\$ &  \\$0.792 (0.095)\\$ \\\\\n",
      "7 &  \\$0.285 (0.054)\\$ &  \\$0.285 (0.068)\\$ &  \\$0.275 (0.129)\\$ \\\\\n",
      "\\bottomrule\n",
      "\\end{tabular}\n",
      "\n",
      "\\begin{tabular}{llll}\n",
      "\\toprule\n",
      "{} &       \\$\\textbackslash tau\\$=0.1 &            \\$0.5\\$ &            \\$0.9\\$ \\\\\n",
      "\\midrule\n",
      "0 &  \\$0.982 (0.001)\\$ &  \\$0.981 (0.001)\\$ &    \\$0.978 (0.0)\\$ \\\\\n",
      "1 &  \\$0.987 (0.002)\\$ &  \\$0.985 (0.002)\\$ &   \\$0.98 (0.001)\\$ \\\\\n",
      "2 &  \\$0.985 (0.002)\\$ &  \\$0.983 (0.001)\\$ &  \\$0.979 (0.001)\\$ \\\\\n",
      "3 &   \\$0.99 (0.002)\\$ &  \\$0.987 (0.002)\\$ &   \\$0.98 (0.001)\\$ \\\\\n",
      "4 &  \\$0.987 (0.002)\\$ &  \\$0.984 (0.001)\\$ &  \\$0.979 (0.001)\\$ \\\\\n",
      "5 &  \\$0.992 (0.002)\\$ &  \\$0.988 (0.001)\\$ &   \\$0.98 (0.001)\\$ \\\\\n",
      "6 &  \\$0.988 (0.002)\\$ &  \\$0.984 (0.001)\\$ &  \\$0.979 (0.001)\\$ \\\\\n",
      "7 &  \\$0.992 (0.002)\\$ &  \\$0.989 (0.001)\\$ &  \\$0.981 (0.001)\\$ \\\\\n",
      "\\bottomrule\n",
      "\\end{tabular}\n",
      "\n"
     ]
    }
   ],
   "source": [
    "print(\"signal recovery for logistic SCAD\")\n",
    "for j in range(4):\n",
    "    print(\n",
    "        output_latex(logistic_SCAD_signal_latex[..., j],\n",
    "                     ncvreg_logistic_SCAD_signal_latex[..., j]))"
   ]
  },
  {
   "cell_type": "code",
   "execution_count": 29,
   "id": "425b3d9a",
   "metadata": {
    "ExecuteTime": {
     "end_time": "2022-09-22T14:21:39.255265Z",
     "start_time": "2022-09-22T14:21:39.248566Z"
    }
   },
   "outputs": [
    {
     "name": "stdout",
     "output_type": "stream",
     "text": [
      "signal recovery for logistic MCP\n",
      "\\begin{tabular}{llll}\n",
      "\\toprule\n",
      "{} &       \\$\\textbackslash tau\\$=0.1 &            \\$0.5\\$ &            \\$0.9\\$ \\\\\n",
      "\\midrule\n",
      "0 &   \\$0.76 (0.045)\\$ &  \\$0.808 (0.041)\\$ &  \\$0.895 (0.035)\\$ \\\\\n",
      "1 &  \\$0.796 (0.034)\\$ &   \\$0.83 (0.032)\\$ &  \\$0.904 (0.035)\\$ \\\\\n",
      "2 &  \\$0.551 (0.065)\\$ &   \\$0.654 (0.06)\\$ &  \\$0.819 (0.056)\\$ \\\\\n",
      "3 &   \\$0.598 (0.05)\\$ &  \\$0.668 (0.061)\\$ &  \\$0.827 (0.055)\\$ \\\\\n",
      "4 &  \\$0.387 (0.073)\\$ &  \\$0.522 (0.074)\\$ &  \\$0.767 (0.071)\\$ \\\\\n",
      "5 &  \\$0.434 (0.057)\\$ &  \\$0.537 (0.074)\\$ &   \\$0.754 (0.07)\\$ \\\\\n",
      "6 &  \\$0.316 (0.068)\\$ &   \\$0.466 (0.08)\\$ &  \\$0.762 (0.079)\\$ \\\\\n",
      "7 &  \\$0.381 (0.059)\\$ &   \\$0.474 (0.08)\\$ &  \\$0.741 (0.075)\\$ \\\\\n",
      "\\bottomrule\n",
      "\\end{tabular}\n",
      "\n",
      "\\begin{tabular}{llll}\n",
      "\\toprule\n",
      "{} &       \\$\\textbackslash tau\\$=0.1 &            \\$0.5\\$ &            \\$0.9\\$ \\\\\n",
      "\\midrule\n",
      "0 &  \\$2.379 (0.441)\\$ &  \\$2.469 (0.408)\\$ &  \\$2.735 (0.476)\\$ \\\\\n",
      "1 &  \\$2.439 (0.442)\\$ &  \\$2.501 (0.416)\\$ &  \\$2.719 (0.471)\\$ \\\\\n",
      "2 &  \\$2.005 (0.426)\\$ &   \\$2.172 (0.41)\\$ &  \\$2.621 (0.452)\\$ \\\\\n",
      "3 &  \\$2.098 (0.414)\\$ &  \\$2.187 (0.402)\\$ &  \\$2.606 (0.424)\\$ \\\\\n",
      "4 &  \\$1.651 (0.401)\\$ &  \\$1.894 (0.377)\\$ &  \\$2.578 (0.422)\\$ \\\\\n",
      "5 &  \\$1.772 (0.402)\\$ &   \\$1.91 (0.385)\\$ &  \\$2.554 (0.459)\\$ \\\\\n",
      "6 &  \\$1.473 (0.376)\\$ &  \\$1.788 (0.383)\\$ &  \\$2.586 (0.434)\\$ \\\\\n",
      "7 &  \\$1.644 (0.389)\\$ &   \\$1.77 (0.382)\\$ &   \\$2.54 (0.437)\\$ \\\\\n",
      "\\bottomrule\n",
      "\\end{tabular}\n",
      "\n",
      "\\begin{tabular}{llll}\n",
      "\\toprule\n",
      "{} &       \\$\\textbackslash tau\\$=0.1 &            \\$0.5\\$ &            \\$0.9\\$ \\\\\n",
      "\\midrule\n",
      "0 &   \\$0.872 (0.06)\\$ &  \\$0.866 (0.055)\\$ &  \\$0.776 (0.106)\\$ \\\\\n",
      "1 &  \\$0.378 (0.074)\\$ &      \\$0.4 (0.1)\\$ &  \\$0.382 (0.154)\\$ \\\\\n",
      "2 &  \\$0.903 (0.046)\\$ &  \\$0.886 (0.058)\\$ &  \\$0.788 (0.097)\\$ \\\\\n",
      "3 &  \\$0.427 (0.075)\\$ &  \\$0.424 (0.096)\\$ &  \\$0.399 (0.142)\\$ \\\\\n",
      "4 &  \\$0.922 (0.041)\\$ &  \\$0.899 (0.053)\\$ &  \\$0.811 (0.084)\\$ \\\\\n",
      "5 &  \\$0.468 (0.073)\\$ &  \\$0.467 (0.097)\\$ &  \\$0.429 (0.139)\\$ \\\\\n",
      "6 &  \\$0.921 (0.039)\\$ &  \\$0.897 (0.054)\\$ &  \\$0.795 (0.103)\\$ \\\\\n",
      "7 &  \\$0.493 (0.069)\\$ &  \\$0.475 (0.101)\\$ &  \\$0.427 (0.149)\\$ \\\\\n",
      "\\bottomrule\n",
      "\\end{tabular}\n",
      "\n",
      "\\begin{tabular}{llll}\n",
      "\\toprule\n",
      "{} &       \\$\\textbackslash tau\\$=0.1 &            \\$0.5\\$ &            \\$0.9\\$ \\\\\n",
      "\\midrule\n",
      "0 &  \\$0.982 (0.001)\\$ &   \\$0.98 (0.001)\\$ &  \\$0.978 (0.001)\\$ \\\\\n",
      "1 &  \\$0.986 (0.002)\\$ &  \\$0.983 (0.001)\\$ &  \\$0.978 (0.001)\\$ \\\\\n",
      "2 &  \\$0.985 (0.002)\\$ &  \\$0.982 (0.001)\\$ &  \\$0.979 (0.001)\\$ \\\\\n",
      "3 &  \\$0.989 (0.002)\\$ &  \\$0.985 (0.001)\\$ &  \\$0.979 (0.001)\\$ \\\\\n",
      "4 &  \\$0.987 (0.002)\\$ &  \\$0.984 (0.001)\\$ &   \\$0.98 (0.001)\\$ \\\\\n",
      "5 &   \\$0.99 (0.002)\\$ &  \\$0.986 (0.001)\\$ &   \\$0.98 (0.001)\\$ \\\\\n",
      "6 &  \\$0.988 (0.002)\\$ &  \\$0.984 (0.001)\\$ &   \\$0.98 (0.001)\\$ \\\\\n",
      "7 &  \\$0.991 (0.002)\\$ &  \\$0.987 (0.001)\\$ &   \\$0.98 (0.001)\\$ \\\\\n",
      "\\bottomrule\n",
      "\\end{tabular}\n",
      "\n"
     ]
    }
   ],
   "source": [
    "print(\"signal recovery for logistic MCP\")\n",
    "for j in range(4):\n",
    "    print(\n",
    "        output_latex(logistic_MCP_signal_latex[..., j],\n",
    "                     ncvreg_logistic_MCP_signal_latex[..., j]))"
   ]
  },
  {
   "cell_type": "code",
   "execution_count": null,
   "id": "a9671cbb",
   "metadata": {},
   "outputs": [],
   "source": []
  }
 ],
 "metadata": {
  "kernelspec": {
   "display_name": "Python 3 (ipykernel)",
   "language": "python",
   "name": "python3"
  },
  "language_info": {
   "codemirror_mode": {
    "name": "ipython",
    "version": 3
   },
   "file_extension": ".py",
   "mimetype": "text/x-python",
   "name": "python",
   "nbconvert_exporter": "python",
   "pygments_lexer": "ipython3",
   "version": "3.9.13"
  },
  "latex_envs": {
   "LaTeX_envs_menu_present": true,
   "autoclose": false,
   "autocomplete": true,
   "bibliofile": "biblio.bib",
   "cite_by": "apalike",
   "current_citInitial": 1,
   "eqLabelWithNumbers": true,
   "eqNumInitial": 1,
   "hotkeys": {
    "equation": "Ctrl-E",
    "itemize": "Ctrl-I"
   },
   "labels_anchors": false,
   "latex_user_defs": false,
   "report_style_numbering": false,
   "user_envs_cfg": false
  },
  "nbTranslate": {
   "displayLangs": [
    "*"
   ],
   "hotkey": "alt-t",
   "langInMainMenu": true,
   "sourceLang": "en",
   "targetLang": "fr",
   "useGoogleTranslate": true
  },
  "toc": {
   "base_numbering": 1,
   "nav_menu": {},
   "number_sections": true,
   "sideBar": true,
   "skip_h1_title": false,
   "title_cell": "Table of Contents",
   "title_sidebar": "Contents",
   "toc_cell": false,
   "toc_position": {},
   "toc_section_display": true,
   "toc_window_display": false
  },
  "varInspector": {
   "cols": {
    "lenName": 16,
    "lenType": 16,
    "lenVar": 40
   },
   "kernels_config": {
    "python": {
     "delete_cmd_postfix": "",
     "delete_cmd_prefix": "del ",
     "library": "var_list.py",
     "varRefreshCmd": "print(var_dic_list())"
    },
    "r": {
     "delete_cmd_postfix": ") ",
     "delete_cmd_prefix": "rm(",
     "library": "var_list.r",
     "varRefreshCmd": "cat(var_dic_list()) "
    }
   },
   "types_to_exclude": [
    "module",
    "function",
    "builtin_function_or_method",
    "instance",
    "_Feature"
   ],
   "window_display": false
  }
 },
 "nbformat": 4,
 "nbformat_minor": 5
}
