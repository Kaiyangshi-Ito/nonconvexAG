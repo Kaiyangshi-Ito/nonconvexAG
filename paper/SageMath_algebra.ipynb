{
 "cells": [
  {
   "cell_type": "markdown",
   "id": "bf9d9646",
   "metadata": {},
   "source": [
    "$\\bar{a}=\\frac{2^{\\bar{b}}}{\\left(1-\\bar{b}\\right)\\left(4-\\bar{b}\\right)}$,\n",
    "$\\bar{b}=\\frac{2+5\\left(\\log\\frac{2}{k}\\right)+\\sqrt{9\\left(\\log\\frac{2}{k}\\right)^{2}+4}}{2\\left(\\log\\frac{2}{k}\\right)}$, and the term in the denominator is $\\bar{a}k^{1-\\bar{b}}$. \n",
    "Our *ansatz* is that this term is a $O(\\log k)$; thus, the algebra left for us is to solve $\\lim_{k\\rightarrow\\infty}\\frac{\\bar{a}k^{1-\\bar{b}}}{\\log k}$."
   ]
  },
  {
   "cell_type": "code",
   "execution_count": 1,
   "id": "9a00b393",
   "metadata": {},
   "outputs": [
    {
     "data": {
      "text/plain": [
       "2/3*e"
      ]
     },
     "execution_count": 1,
     "metadata": {},
     "output_type": "execute_result"
    }
   ],
   "source": [
    "var('k')\n",
    "log_2overk = log(2)-log(k)\n",
    "b_bar = (2 + 5*log_2overk + sqrt(9*log_2overk**2+4))/(2*log_2overk)\n",
    "a_bar = 2**b_bar/((1-b_bar)*(4-b_bar))\n",
    "fun = a_bar*k**(1-b_bar)/log(k)\n",
    "limit(fun, k=oo)"
   ]
  },
  {
   "cell_type": "code",
   "execution_count": null,
   "id": "d0577b6d",
   "metadata": {},
   "outputs": [],
   "source": []
  }
 ],
 "metadata": {
  "kernelspec": {
   "display_name": "SageMath 9.7",
   "language": "sage",
   "name": "sagemath-9.7"
  },
  "language_info": {
   "codemirror_mode": {
    "name": "ipython",
    "version": 3
   },
   "file_extension": ".py",
   "mimetype": "text/x-python",
   "name": "python",
   "nbconvert_exporter": "python",
   "pygments_lexer": "ipython3",
   "version": "3.10.5"
  }
 },
 "nbformat": 4,
 "nbformat_minor": 5
}
